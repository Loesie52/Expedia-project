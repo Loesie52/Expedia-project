{
 "cells": [
  {
   "cell_type": "code",
   "execution_count": 1,
   "metadata": {},
   "outputs": [
    {
     "name": "stderr",
     "output_type": "stream",
     "text": [
      "C:\\Users\\Public\\Anaconda\\lib\\site-packages\\dask\\config.py:168: YAMLLoadWarning: calling yaml.load() without Loader=... is deprecated, as the default Loader is unsafe. Please read https://msg.pyyaml.org/load for full details.\n",
      "  data = yaml.load(f.read()) or {}\n",
      "C:\\Users\\Public\\Anaconda\\lib\\site-packages\\distributed\\config.py:20: YAMLLoadWarning: calling yaml.load() without Loader=... is deprecated, as the default Loader is unsafe. Please read https://msg.pyyaml.org/load for full details.\n",
      "  defaults = yaml.load(f)\n"
     ]
    }
   ],
   "source": [
    "import pandas as pd \n",
    "import numpy as np\n",
    "import matplotlib.pyplot as plt\n",
    "import seaborn as sns\n",
    "import pickle\n",
    "\n",
    "from sklearn.decomposition import PCA\n",
    "from sklearn.cluster import KMeans\n",
    "from sklearn.cluster import MiniBatchKMeans\n",
    "\n",
    "from sklearn.feature_selection import SelectKBest\n",
    "from sklearn.feature_selection import chi2\n",
    "\n",
    "import lightgbm as lgb"
   ]
  },
  {
   "cell_type": "markdown",
   "metadata": {},
   "source": [
    "# Feature selection"
   ]
  },
  {
   "cell_type": "code",
   "execution_count": 2,
   "metadata": {},
   "outputs": [],
   "source": [
    "training_data = pd.read_csv('training_set_VU_DM.csv') "
   ]
  },
  {
   "cell_type": "code",
   "execution_count": 3,
   "metadata": {},
   "outputs": [],
   "source": [
    "training_data['date_time'] = pd.to_datetime(training_data['date_time'])\n",
    "\n",
    "training_data['Cin_hour'] = training_data[\"date_time\"].apply(lambda x: x.hour)\n",
    "training_data['Cin_day'] = training_data[\"date_time\"].apply(lambda x: x.day)\n",
    "training_data['Cin_month'] = training_data[\"date_time\"].apply(lambda x: x.month)\n",
    "training_data['Cin_quarter'] = training_data[\"date_time\"].apply(lambda x: x.quarter)\n",
    "training_data['Cin_day_of_week'] = training_data['date_time'].dt.dayofweek+1 #we don't want zeros\n",
    "\n",
    "training_data.drop('date_time',axis=1,inplace=True)"
   ]
  },
  {
   "cell_type": "code",
   "execution_count": 4,
   "metadata": {},
   "outputs": [],
   "source": [
    "training_data['priceRank'] = training_data.groupby('srch_id')['price_usd'].rank()\n",
    "training_data['starRank'] = training_data.groupby('srch_id')['prop_starrating'].rank()\n",
    "training_data['reviewRank'] = training_data.groupby('srch_id')['prop_review_score'].rank()\n",
    "training_data['location1Rank'] = training_data.groupby('srch_id')['prop_location_score1'].rank()\n",
    "training_data['location2Rank'] = training_data.groupby('srch_id')['prop_location_score2'].rank()\n",
    "training_data['histpriceRank'] = training_data.groupby('srch_id')['prop_log_historical_price'].rank()"
   ]
  },
  {
   "cell_type": "code",
   "execution_count": 5,
   "metadata": {},
   "outputs": [],
   "source": [
    "training_data['rating_diff']=abs(training_data['visitor_hist_starrating']-training_data['prop_starrating'])\n",
    "training_data['rating_diff']=training_data['rating_diff'].fillna(training_data['rating_diff'].mean())\n",
    "\n",
    "training_data['price_diff']=abs(training_data['visitor_hist_adr_usd']-training_data['price_usd'])\n",
    "training_data['price_diff']=training_data['price_diff'].fillna(training_data['price_diff'].mean())"
   ]
  },
  {
   "cell_type": "code",
   "execution_count": 6,
   "metadata": {},
   "outputs": [],
   "source": [
    "# creating new features\n",
    "training_data['competitor_rate'] = (training_data.comp1_rate + training_data.comp2_rate + training_data.comp3_rate +\n",
    "                                    training_data.comp4_rate + training_data.comp5_rate + training_data.comp6_rate +\n",
    "                                    training_data.comp7_rate + training_data.comp8_rate)\n",
    "\n",
    "training_data['competitor_inv'] = (training_data.comp1_inv + training_data.comp2_inv + training_data.comp3_inv +\n",
    "                                    training_data.comp4_inv + training_data.comp5_inv + training_data.comp6_inv +\n",
    "                                    training_data.comp7_inv + training_data.comp8_inv)\n",
    "\n",
    "training_data['competitor_rpd'] = (  training_data.comp1_rate_percent_diff + training_data.comp2_rate_percent_diff\n",
    "                                   + training_data.comp3_rate_percent_diff + training_data.comp4_rate_percent_diff\n",
    "                                   + training_data.comp5_rate_percent_diff + training_data.comp6_rate_percent_diff\n",
    "                                   + training_data.comp7_rate_percent_diff + training_data.comp8_rate_percent_diff) /8/100\n",
    "\n",
    "training_data.drop('comp1_rate',axis=1,inplace=True)\n",
    "training_data.drop('comp2_rate',axis=1,inplace=True)\n",
    "training_data.drop('comp3_rate',axis=1,inplace=True)\n",
    "training_data.drop('comp4_rate',axis=1,inplace=True)\n",
    "training_data.drop('comp5_rate',axis=1,inplace=True)\n",
    "training_data.drop('comp6_rate',axis=1,inplace=True)\n",
    "training_data.drop('comp7_rate',axis=1,inplace=True)\n",
    "training_data.drop('comp8_rate',axis=1,inplace=True)\n",
    "training_data.drop('comp1_inv',axis=1,inplace=True)\n",
    "training_data.drop('comp1_rate_percent_diff',axis=1,inplace=True)\n",
    "training_data.drop('comp2_inv',axis=1,inplace=True)\n",
    "training_data.drop('comp2_rate_percent_diff',axis=1,inplace=True)\n",
    "training_data.drop('comp3_inv',axis=1,inplace=True)\n",
    "training_data.drop('comp3_rate_percent_diff',axis=1,inplace=True)\n",
    "training_data.drop('comp4_inv',axis=1,inplace=True)\n",
    "training_data.drop('comp4_rate_percent_diff',axis=1,inplace=True)\n",
    "training_data.drop('comp5_inv',axis=1,inplace=True)\n",
    "training_data.drop('comp5_rate_percent_diff',axis=1,inplace=True)\n",
    "training_data.drop('comp6_inv',axis=1,inplace=True)\n",
    "training_data.drop('comp6_rate_percent_diff',axis=1,inplace=True)\n",
    "training_data.drop('comp7_inv',axis=1,inplace=True)\n",
    "training_data.drop('comp7_rate_percent_diff',axis=1,inplace=True)\n",
    "training_data.drop('comp8_inv',axis=1,inplace=True)\n",
    "training_data.drop('comp8_rate_percent_diff',axis=1,inplace=True)"
   ]
  },
  {
   "cell_type": "code",
   "execution_count": 7,
   "metadata": {},
   "outputs": [],
   "source": [
    "training_data['assign_score'] = training_data.click_bool + 4*training_data.booking_bool\n",
    "training_data = training_data.drop(['click_bool', 'booking_bool'],axis = 1)"
   ]
  },
  {
   "cell_type": "code",
   "execution_count": 8,
   "metadata": {},
   "outputs": [],
   "source": [
    "training_data = training_data[training_data.price_usd < 1800]"
   ]
  },
  {
   "cell_type": "code",
   "execution_count": 9,
   "metadata": {},
   "outputs": [],
   "source": [
    "training_data = training_data.fillna(0)"
   ]
  },
  {
   "cell_type": "code",
   "execution_count": 10,
   "metadata": {},
   "outputs": [],
   "source": [
    "clustering_kmeans = MiniBatchKMeans(n_clusters=100)\n",
    "training_data['hotel_cluster'] = clustering_kmeans.fit_predict(training_data)"
   ]
  },
  {
   "cell_type": "markdown",
   "metadata": {},
   "source": [
    "# Preparing training and validation set"
   ]
  },
  {
   "cell_type": "code",
   "execution_count": 11,
   "metadata": {},
   "outputs": [],
   "source": [
    "from sklearn.model_selection import train_test_split\n",
    "\n",
    "X_train, X_val, y_train, y_val = train_test_split(training_data, training_data.assign_score , test_size=0.30, random_state=42)"
   ]
  },
  {
   "cell_type": "code",
   "execution_count": 12,
   "metadata": {},
   "outputs": [],
   "source": [
    "training_data = training_data.sort_values('srch_id')\n",
    "training_data = training_data.reset_index(drop=True)\n",
    "training_data_groups = training_data.srch_id.value_counts(sort=True,ascending=True).sort_index()\n",
    "y_training = training_data.assign_score\n",
    "\n",
    "train_search_ids = training_data.srch_id\n",
    "\n",
    "training_data.drop(['gross_bookings_usd', 'position'],axis=1,inplace=True)"
   ]
  },
  {
   "cell_type": "code",
   "execution_count": 13,
   "metadata": {},
   "outputs": [],
   "source": [
    "X_train = X_train.sort_values('srch_id')\n",
    "X_train = X_train.reset_index(drop = True)\n",
    "y_train = X_train.assign_score\n",
    "train_search_ids = X_train.srch_id\n",
    "train_groups = X_train.srch_id.value_counts(sort=True,ascending=True).sort_index()\n",
    "\n",
    "X_train.drop(['gross_bookings_usd', 'position'],axis=1,inplace=True)"
   ]
  },
  {
   "cell_type": "code",
   "execution_count": 14,
   "metadata": {},
   "outputs": [],
   "source": [
    "X_val = X_val.sort_values('srch_id')\n",
    "X_val = X_val.reset_index(drop = True)\n",
    "y_val = X_val.assign_score\n",
    "val_groups = X_val.srch_id.value_counts(sort=True,ascending=True).sort_index()\n",
    "val_search_ids = X_val.srch_id\n",
    "\n",
    "X_val.drop(['gross_bookings_usd', 'position'],axis=1,inplace=True)"
   ]
  },
  {
   "cell_type": "code",
   "execution_count": 15,
   "metadata": {},
   "outputs": [],
   "source": [
    "training_data.drop(['srch_id', 'assign_score'],axis=1,inplace=True)\n",
    "X_train.drop(['srch_id', 'assign_score'],axis=1,inplace=True)\n",
    "X_val.drop(['srch_id', 'assign_score'],axis=1,inplace=True)"
   ]
  },
  {
   "cell_type": "markdown",
   "metadata": {},
   "source": [
    "# LGB Model"
   ]
  },
  {
   "cell_type": "code",
   "execution_count": 36,
   "metadata": {
    "scrolled": true
   },
   "outputs": [
    {
     "name": "stdout",
     "output_type": "stream",
     "text": [
      "[1]\tvalid_0's ndcg@1: 0.785423\tvalid_0's ndcg@2: 0.82508\tvalid_0's ndcg@3: 0.846877\tvalid_0's ndcg@4: 0.860276\tvalid_0's ndcg@5: 0.869015\n",
      "[2]\tvalid_0's ndcg@1: 0.792094\tvalid_0's ndcg@2: 0.831456\tvalid_0's ndcg@3: 0.85306\tvalid_0's ndcg@4: 0.865926\tvalid_0's ndcg@5: 0.874365\n",
      "[3]\tvalid_0's ndcg@1: 0.794244\tvalid_0's ndcg@2: 0.834106\tvalid_0's ndcg@3: 0.855433\tvalid_0's ndcg@4: 0.868184\tvalid_0's ndcg@5: 0.876472\n",
      "[4]\tvalid_0's ndcg@1: 0.796089\tvalid_0's ndcg@2: 0.836164\tvalid_0's ndcg@3: 0.857279\tvalid_0's ndcg@4: 0.869951\tvalid_0's ndcg@5: 0.878015\n",
      "[5]\tvalid_0's ndcg@1: 0.797081\tvalid_0's ndcg@2: 0.837226\tvalid_0's ndcg@3: 0.858089\tvalid_0's ndcg@4: 0.870647\tvalid_0's ndcg@5: 0.878557\n",
      "[6]\tvalid_0's ndcg@1: 0.797792\tvalid_0's ndcg@2: 0.838344\tvalid_0's ndcg@3: 0.859003\tvalid_0's ndcg@4: 0.871475\tvalid_0's ndcg@5: 0.879248\n",
      "[7]\tvalid_0's ndcg@1: 0.798497\tvalid_0's ndcg@2: 0.838832\tvalid_0's ndcg@3: 0.859407\tvalid_0's ndcg@4: 0.871979\tvalid_0's ndcg@5: 0.879799\n",
      "[8]\tvalid_0's ndcg@1: 0.799316\tvalid_0's ndcg@2: 0.839367\tvalid_0's ndcg@3: 0.859854\tvalid_0's ndcg@4: 0.872408\tvalid_0's ndcg@5: 0.880278\n",
      "[9]\tvalid_0's ndcg@1: 0.79955\tvalid_0's ndcg@2: 0.839637\tvalid_0's ndcg@3: 0.860246\tvalid_0's ndcg@4: 0.872657\tvalid_0's ndcg@5: 0.880475\n",
      "[10]\tvalid_0's ndcg@1: 0.799758\tvalid_0's ndcg@2: 0.839817\tvalid_0's ndcg@3: 0.860455\tvalid_0's ndcg@4: 0.872745\tvalid_0's ndcg@5: 0.880633\n",
      "[11]\tvalid_0's ndcg@1: 0.800351\tvalid_0's ndcg@2: 0.840305\tvalid_0's ndcg@3: 0.860866\tvalid_0's ndcg@4: 0.873213\tvalid_0's ndcg@5: 0.881058\n",
      "[12]\tvalid_0's ndcg@1: 0.800615\tvalid_0's ndcg@2: 0.840538\tvalid_0's ndcg@3: 0.861145\tvalid_0's ndcg@4: 0.873386\tvalid_0's ndcg@5: 0.881267\n",
      "[13]\tvalid_0's ndcg@1: 0.800885\tvalid_0's ndcg@2: 0.840769\tvalid_0's ndcg@3: 0.861373\tvalid_0's ndcg@4: 0.87362\tvalid_0's ndcg@5: 0.881395\n",
      "[14]\tvalid_0's ndcg@1: 0.801275\tvalid_0's ndcg@2: 0.841057\tvalid_0's ndcg@3: 0.861604\tvalid_0's ndcg@4: 0.873878\tvalid_0's ndcg@5: 0.881606\n",
      "[15]\tvalid_0's ndcg@1: 0.801062\tvalid_0's ndcg@2: 0.841167\tvalid_0's ndcg@3: 0.8617\tvalid_0's ndcg@4: 0.873919\tvalid_0's ndcg@5: 0.881652\n",
      "[16]\tvalid_0's ndcg@1: 0.801275\tvalid_0's ndcg@2: 0.841414\tvalid_0's ndcg@3: 0.8619\tvalid_0's ndcg@4: 0.874168\tvalid_0's ndcg@5: 0.881822\n",
      "[17]\tvalid_0's ndcg@1: 0.8013\tvalid_0's ndcg@2: 0.841502\tvalid_0's ndcg@3: 0.862091\tvalid_0's ndcg@4: 0.874198\tvalid_0's ndcg@5: 0.88194\n",
      "[18]\tvalid_0's ndcg@1: 0.801467\tvalid_0's ndcg@2: 0.841611\tvalid_0's ndcg@3: 0.862227\tvalid_0's ndcg@4: 0.874342\tvalid_0's ndcg@5: 0.882009\n",
      "[19]\tvalid_0's ndcg@1: 0.801711\tvalid_0's ndcg@2: 0.841965\tvalid_0's ndcg@3: 0.862371\tvalid_0's ndcg@4: 0.87448\tvalid_0's ndcg@5: 0.882206\n",
      "[20]\tvalid_0's ndcg@1: 0.801701\tvalid_0's ndcg@2: 0.841953\tvalid_0's ndcg@3: 0.862437\tvalid_0's ndcg@4: 0.874516\tvalid_0's ndcg@5: 0.88224\n",
      "[21]\tvalid_0's ndcg@1: 0.80203\tvalid_0's ndcg@2: 0.842034\tvalid_0's ndcg@3: 0.862665\tvalid_0's ndcg@4: 0.87477\tvalid_0's ndcg@5: 0.882343\n",
      "[22]\tvalid_0's ndcg@1: 0.801988\tvalid_0's ndcg@2: 0.842016\tvalid_0's ndcg@3: 0.862714\tvalid_0's ndcg@4: 0.8748\tvalid_0's ndcg@5: 0.882402\n",
      "[23]\tvalid_0's ndcg@1: 0.801974\tvalid_0's ndcg@2: 0.842056\tvalid_0's ndcg@3: 0.862688\tvalid_0's ndcg@4: 0.874743\tvalid_0's ndcg@5: 0.882442\n",
      "[24]\tvalid_0's ndcg@1: 0.802212\tvalid_0's ndcg@2: 0.842287\tvalid_0's ndcg@3: 0.862855\tvalid_0's ndcg@4: 0.874954\tvalid_0's ndcg@5: 0.88258\n",
      "[25]\tvalid_0's ndcg@1: 0.802309\tvalid_0's ndcg@2: 0.842413\tvalid_0's ndcg@3: 0.863036\tvalid_0's ndcg@4: 0.87501\tvalid_0's ndcg@5: 0.882689\n",
      "[26]\tvalid_0's ndcg@1: 0.802445\tvalid_0's ndcg@2: 0.842551\tvalid_0's ndcg@3: 0.863091\tvalid_0's ndcg@4: 0.87503\tvalid_0's ndcg@5: 0.882783\n",
      "[27]\tvalid_0's ndcg@1: 0.802385\tvalid_0's ndcg@2: 0.842584\tvalid_0's ndcg@3: 0.863179\tvalid_0's ndcg@4: 0.875094\tvalid_0's ndcg@5: 0.882844\n",
      "[28]\tvalid_0's ndcg@1: 0.802471\tvalid_0's ndcg@2: 0.842535\tvalid_0's ndcg@3: 0.863316\tvalid_0's ndcg@4: 0.875214\tvalid_0's ndcg@5: 0.882897\n",
      "[29]\tvalid_0's ndcg@1: 0.80248\tvalid_0's ndcg@2: 0.842654\tvalid_0's ndcg@3: 0.863383\tvalid_0's ndcg@4: 0.875339\tvalid_0's ndcg@5: 0.882946\n",
      "[30]\tvalid_0's ndcg@1: 0.802628\tvalid_0's ndcg@2: 0.842871\tvalid_0's ndcg@3: 0.863523\tvalid_0's ndcg@4: 0.875427\tvalid_0's ndcg@5: 0.883004\n",
      "[31]\tvalid_0's ndcg@1: 0.80282\tvalid_0's ndcg@2: 0.843014\tvalid_0's ndcg@3: 0.863625\tvalid_0's ndcg@4: 0.875469\tvalid_0's ndcg@5: 0.883095\n",
      "[32]\tvalid_0's ndcg@1: 0.802875\tvalid_0's ndcg@2: 0.843025\tvalid_0's ndcg@3: 0.863648\tvalid_0's ndcg@4: 0.87553\tvalid_0's ndcg@5: 0.883145\n",
      "[33]\tvalid_0's ndcg@1: 0.802957\tvalid_0's ndcg@2: 0.843136\tvalid_0's ndcg@3: 0.863704\tvalid_0's ndcg@4: 0.875616\tvalid_0's ndcg@5: 0.883242\n",
      "[34]\tvalid_0's ndcg@1: 0.803246\tvalid_0's ndcg@2: 0.843317\tvalid_0's ndcg@3: 0.863912\tvalid_0's ndcg@4: 0.875807\tvalid_0's ndcg@5: 0.883371\n",
      "[35]\tvalid_0's ndcg@1: 0.803353\tvalid_0's ndcg@2: 0.843448\tvalid_0's ndcg@3: 0.863938\tvalid_0's ndcg@4: 0.875917\tvalid_0's ndcg@5: 0.883449\n",
      "[36]\tvalid_0's ndcg@1: 0.803448\tvalid_0's ndcg@2: 0.843492\tvalid_0's ndcg@3: 0.864063\tvalid_0's ndcg@4: 0.875981\tvalid_0's ndcg@5: 0.883513\n",
      "[37]\tvalid_0's ndcg@1: 0.803448\tvalid_0's ndcg@2: 0.843502\tvalid_0's ndcg@3: 0.864082\tvalid_0's ndcg@4: 0.876004\tvalid_0's ndcg@5: 0.883537\n",
      "[38]\tvalid_0's ndcg@1: 0.803463\tvalid_0's ndcg@2: 0.843558\tvalid_0's ndcg@3: 0.864052\tvalid_0's ndcg@4: 0.875991\tvalid_0's ndcg@5: 0.883531\n",
      "[39]\tvalid_0's ndcg@1: 0.803286\tvalid_0's ndcg@2: 0.8436\tvalid_0's ndcg@3: 0.863973\tvalid_0's ndcg@4: 0.876\tvalid_0's ndcg@5: 0.883528\n",
      "[40]\tvalid_0's ndcg@1: 0.803427\tvalid_0's ndcg@2: 0.8438\tvalid_0's ndcg@3: 0.864059\tvalid_0's ndcg@4: 0.876051\tvalid_0's ndcg@5: 0.883579\n",
      "[41]\tvalid_0's ndcg@1: 0.803492\tvalid_0's ndcg@2: 0.843837\tvalid_0's ndcg@3: 0.864158\tvalid_0's ndcg@4: 0.876173\tvalid_0's ndcg@5: 0.883667\n",
      "[42]\tvalid_0's ndcg@1: 0.803716\tvalid_0's ndcg@2: 0.843802\tvalid_0's ndcg@3: 0.864235\tvalid_0's ndcg@4: 0.876227\tvalid_0's ndcg@5: 0.883758\n",
      "[43]\tvalid_0's ndcg@1: 0.80364\tvalid_0's ndcg@2: 0.84377\tvalid_0's ndcg@3: 0.864222\tvalid_0's ndcg@4: 0.876201\tvalid_0's ndcg@5: 0.883759\n",
      "[44]\tvalid_0's ndcg@1: 0.803701\tvalid_0's ndcg@2: 0.843875\tvalid_0's ndcg@3: 0.864252\tvalid_0's ndcg@4: 0.876234\tvalid_0's ndcg@5: 0.883739\n",
      "[45]\tvalid_0's ndcg@1: 0.803741\tvalid_0's ndcg@2: 0.843773\tvalid_0's ndcg@3: 0.864234\tvalid_0's ndcg@4: 0.876193\tvalid_0's ndcg@5: 0.883758\n",
      "[46]\tvalid_0's ndcg@1: 0.80367\tvalid_0's ndcg@2: 0.84379\tvalid_0's ndcg@3: 0.864279\tvalid_0's ndcg@4: 0.876201\tvalid_0's ndcg@5: 0.883731\n",
      "[47]\tvalid_0's ndcg@1: 0.803731\tvalid_0's ndcg@2: 0.843946\tvalid_0's ndcg@3: 0.864308\tvalid_0's ndcg@4: 0.876311\tvalid_0's ndcg@5: 0.883856\n",
      "[48]\tvalid_0's ndcg@1: 0.803858\tvalid_0's ndcg@2: 0.844083\tvalid_0's ndcg@3: 0.864415\tvalid_0's ndcg@4: 0.876445\tvalid_0's ndcg@5: 0.883975\n",
      "[49]\tvalid_0's ndcg@1: 0.803691\tvalid_0's ndcg@2: 0.844025\tvalid_0's ndcg@3: 0.864394\tvalid_0's ndcg@4: 0.876387\tvalid_0's ndcg@5: 0.883951\n",
      "[50]\tvalid_0's ndcg@1: 0.803934\tvalid_0's ndcg@2: 0.844192\tvalid_0's ndcg@3: 0.864519\tvalid_0's ndcg@4: 0.876548\tvalid_0's ndcg@5: 0.884019\n",
      "[51]\tvalid_0's ndcg@1: 0.803985\tvalid_0's ndcg@2: 0.844247\tvalid_0's ndcg@3: 0.864565\tvalid_0's ndcg@4: 0.876572\tvalid_0's ndcg@5: 0.884047\n",
      "[52]\tvalid_0's ndcg@1: 0.803858\tvalid_0's ndcg@2: 0.844215\tvalid_0's ndcg@3: 0.864615\tvalid_0's ndcg@4: 0.876531\tvalid_0's ndcg@5: 0.884077\n",
      "[53]\tvalid_0's ndcg@1: 0.803955\tvalid_0's ndcg@2: 0.844202\tvalid_0's ndcg@3: 0.864662\tvalid_0's ndcg@4: 0.876581\tvalid_0's ndcg@5: 0.884122\n",
      "[54]\tvalid_0's ndcg@1: 0.803944\tvalid_0's ndcg@2: 0.844276\tvalid_0's ndcg@3: 0.864718\tvalid_0's ndcg@4: 0.876606\tvalid_0's ndcg@5: 0.884159\n",
      "[55]\tvalid_0's ndcg@1: 0.804066\tvalid_0's ndcg@2: 0.84434\tvalid_0's ndcg@3: 0.864706\tvalid_0's ndcg@4: 0.876708\tvalid_0's ndcg@5: 0.884215\n",
      "[56]\tvalid_0's ndcg@1: 0.804091\tvalid_0's ndcg@2: 0.844278\tvalid_0's ndcg@3: 0.864738\tvalid_0's ndcg@4: 0.876676\tvalid_0's ndcg@5: 0.884235\n",
      "[57]\tvalid_0's ndcg@1: 0.804062\tvalid_0's ndcg@2: 0.844295\tvalid_0's ndcg@3: 0.864694\tvalid_0's ndcg@4: 0.876652\tvalid_0's ndcg@5: 0.88421\n",
      "[58]\tvalid_0's ndcg@1: 0.804183\tvalid_0's ndcg@2: 0.844371\tvalid_0's ndcg@3: 0.864825\tvalid_0's ndcg@4: 0.876704\tvalid_0's ndcg@5: 0.884252\n",
      "[59]\tvalid_0's ndcg@1: 0.804278\tvalid_0's ndcg@2: 0.844498\tvalid_0's ndcg@3: 0.864887\tvalid_0's ndcg@4: 0.876794\tvalid_0's ndcg@5: 0.884315\n"
     ]
    },
    {
     "name": "stdout",
     "output_type": "stream",
     "text": [
      "[60]\tvalid_0's ndcg@1: 0.804375\tvalid_0's ndcg@2: 0.844544\tvalid_0's ndcg@3: 0.864871\tvalid_0's ndcg@4: 0.876831\tvalid_0's ndcg@5: 0.884364\n",
      "[61]\tvalid_0's ndcg@1: 0.804304\tvalid_0's ndcg@2: 0.844523\tvalid_0's ndcg@3: 0.864885\tvalid_0's ndcg@4: 0.876832\tvalid_0's ndcg@5: 0.884361\n",
      "[62]\tvalid_0's ndcg@1: 0.804385\tvalid_0's ndcg@2: 0.844519\tvalid_0's ndcg@3: 0.864953\tvalid_0's ndcg@4: 0.876873\tvalid_0's ndcg@5: 0.884397\n",
      "[63]\tvalid_0's ndcg@1: 0.804446\tvalid_0's ndcg@2: 0.844643\tvalid_0's ndcg@3: 0.865048\tvalid_0's ndcg@4: 0.876924\tvalid_0's ndcg@5: 0.884411\n",
      "[64]\tvalid_0's ndcg@1: 0.804391\tvalid_0's ndcg@2: 0.844669\tvalid_0's ndcg@3: 0.865007\tvalid_0's ndcg@4: 0.876897\tvalid_0's ndcg@5: 0.88447\n",
      "[65]\tvalid_0's ndcg@1: 0.804411\tvalid_0's ndcg@2: 0.844716\tvalid_0's ndcg@3: 0.865005\tvalid_0's ndcg@4: 0.876904\tvalid_0's ndcg@5: 0.884478\n",
      "[66]\tvalid_0's ndcg@1: 0.804451\tvalid_0's ndcg@2: 0.844676\tvalid_0's ndcg@3: 0.865001\tvalid_0's ndcg@4: 0.876924\tvalid_0's ndcg@5: 0.884501\n",
      "[67]\tvalid_0's ndcg@1: 0.804498\tvalid_0's ndcg@2: 0.844743\tvalid_0's ndcg@3: 0.865078\tvalid_0's ndcg@4: 0.876996\tvalid_0's ndcg@5: 0.884489\n",
      "[68]\tvalid_0's ndcg@1: 0.80433\tvalid_0's ndcg@2: 0.844761\tvalid_0's ndcg@3: 0.865029\tvalid_0's ndcg@4: 0.87698\tvalid_0's ndcg@5: 0.884487\n",
      "[69]\tvalid_0's ndcg@1: 0.804396\tvalid_0's ndcg@2: 0.844804\tvalid_0's ndcg@3: 0.86513\tvalid_0's ndcg@4: 0.877023\tvalid_0's ndcg@5: 0.884547\n",
      "[70]\tvalid_0's ndcg@1: 0.804503\tvalid_0's ndcg@2: 0.844888\tvalid_0's ndcg@3: 0.865197\tvalid_0's ndcg@4: 0.877118\tvalid_0's ndcg@5: 0.884621\n",
      "[71]\tvalid_0's ndcg@1: 0.804528\tvalid_0's ndcg@2: 0.844891\tvalid_0's ndcg@3: 0.865309\tvalid_0's ndcg@4: 0.877118\tvalid_0's ndcg@5: 0.88462\n",
      "[72]\tvalid_0's ndcg@1: 0.804518\tvalid_0's ndcg@2: 0.845026\tvalid_0's ndcg@3: 0.865318\tvalid_0's ndcg@4: 0.877126\tvalid_0's ndcg@5: 0.884651\n",
      "[73]\tvalid_0's ndcg@1: 0.804569\tvalid_0's ndcg@2: 0.844973\tvalid_0's ndcg@3: 0.865349\tvalid_0's ndcg@4: 0.877164\tvalid_0's ndcg@5: 0.884675\n",
      "[74]\tvalid_0's ndcg@1: 0.804665\tvalid_0's ndcg@2: 0.845025\tvalid_0's ndcg@3: 0.865411\tvalid_0's ndcg@4: 0.877216\tvalid_0's ndcg@5: 0.884733\n",
      "[75]\tvalid_0's ndcg@1: 0.804756\tvalid_0's ndcg@2: 0.845035\tvalid_0's ndcg@3: 0.865466\tvalid_0's ndcg@4: 0.877228\tvalid_0's ndcg@5: 0.884786\n",
      "[76]\tvalid_0's ndcg@1: 0.804665\tvalid_0's ndcg@2: 0.845001\tvalid_0's ndcg@3: 0.865426\tvalid_0's ndcg@4: 0.877194\tvalid_0's ndcg@5: 0.884746\n",
      "[77]\tvalid_0's ndcg@1: 0.80476\tvalid_0's ndcg@2: 0.845055\tvalid_0's ndcg@3: 0.865453\tvalid_0's ndcg@4: 0.877211\tvalid_0's ndcg@5: 0.884788\n",
      "[78]\tvalid_0's ndcg@1: 0.804816\tvalid_0's ndcg@2: 0.844971\tvalid_0's ndcg@3: 0.86549\tvalid_0's ndcg@4: 0.877235\tvalid_0's ndcg@5: 0.88478\n",
      "[79]\tvalid_0's ndcg@1: 0.804761\tvalid_0's ndcg@2: 0.845003\tvalid_0's ndcg@3: 0.865526\tvalid_0's ndcg@4: 0.877229\tvalid_0's ndcg@5: 0.884809\n",
      "[80]\tvalid_0's ndcg@1: 0.804893\tvalid_0's ndcg@2: 0.845046\tvalid_0's ndcg@3: 0.865572\tvalid_0's ndcg@4: 0.877302\tvalid_0's ndcg@5: 0.884871\n",
      "[81]\tvalid_0's ndcg@1: 0.805029\tvalid_0's ndcg@2: 0.845106\tvalid_0's ndcg@3: 0.865631\tvalid_0's ndcg@4: 0.877394\tvalid_0's ndcg@5: 0.884905\n",
      "[82]\tvalid_0's ndcg@1: 0.804963\tvalid_0's ndcg@2: 0.845092\tvalid_0's ndcg@3: 0.865659\tvalid_0's ndcg@4: 0.877369\tvalid_0's ndcg@5: 0.884895\n",
      "[83]\tvalid_0's ndcg@1: 0.804851\tvalid_0's ndcg@2: 0.845132\tvalid_0's ndcg@3: 0.865636\tvalid_0's ndcg@4: 0.877351\tvalid_0's ndcg@5: 0.884845\n",
      "[84]\tvalid_0's ndcg@1: 0.804933\tvalid_0's ndcg@2: 0.84519\tvalid_0's ndcg@3: 0.865678\tvalid_0's ndcg@4: 0.877366\tvalid_0's ndcg@5: 0.884895\n",
      "[85]\tvalid_0's ndcg@1: 0.804953\tvalid_0's ndcg@2: 0.845155\tvalid_0's ndcg@3: 0.865679\tvalid_0's ndcg@4: 0.877352\tvalid_0's ndcg@5: 0.88491\n",
      "[86]\tvalid_0's ndcg@1: 0.805024\tvalid_0's ndcg@2: 0.845157\tvalid_0's ndcg@3: 0.865736\tvalid_0's ndcg@4: 0.877383\tvalid_0's ndcg@5: 0.884955\n",
      "[87]\tvalid_0's ndcg@1: 0.805075\tvalid_0's ndcg@2: 0.845156\tvalid_0's ndcg@3: 0.865778\tvalid_0's ndcg@4: 0.877428\tvalid_0's ndcg@5: 0.884969\n",
      "[88]\tvalid_0's ndcg@1: 0.805176\tvalid_0's ndcg@2: 0.845235\tvalid_0's ndcg@3: 0.865828\tvalid_0's ndcg@4: 0.877467\tvalid_0's ndcg@5: 0.885004\n",
      "[89]\tvalid_0's ndcg@1: 0.80509\tvalid_0's ndcg@2: 0.84523\tvalid_0's ndcg@3: 0.86584\tvalid_0's ndcg@4: 0.87747\tvalid_0's ndcg@5: 0.884999\n",
      "[90]\tvalid_0's ndcg@1: 0.805034\tvalid_0's ndcg@2: 0.845318\tvalid_0's ndcg@3: 0.865881\tvalid_0's ndcg@4: 0.877461\tvalid_0's ndcg@5: 0.885033\n",
      "[91]\tvalid_0's ndcg@1: 0.80505\tvalid_0's ndcg@2: 0.845261\tvalid_0's ndcg@3: 0.865874\tvalid_0's ndcg@4: 0.87747\tvalid_0's ndcg@5: 0.885042\n",
      "[92]\tvalid_0's ndcg@1: 0.805019\tvalid_0's ndcg@2: 0.845305\tvalid_0's ndcg@3: 0.865855\tvalid_0's ndcg@4: 0.877515\tvalid_0's ndcg@5: 0.885034\n",
      "[93]\tvalid_0's ndcg@1: 0.80506\tvalid_0's ndcg@2: 0.845326\tvalid_0's ndcg@3: 0.865875\tvalid_0's ndcg@4: 0.877588\tvalid_0's ndcg@5: 0.885015\n",
      "[94]\tvalid_0's ndcg@1: 0.805065\tvalid_0's ndcg@2: 0.845265\tvalid_0's ndcg@3: 0.865849\tvalid_0's ndcg@4: 0.877573\tvalid_0's ndcg@5: 0.885021\n",
      "[95]\tvalid_0's ndcg@1: 0.80506\tvalid_0's ndcg@2: 0.845286\tvalid_0's ndcg@3: 0.86586\tvalid_0's ndcg@4: 0.877599\tvalid_0's ndcg@5: 0.885014\n",
      "[96]\tvalid_0's ndcg@1: 0.805085\tvalid_0's ndcg@2: 0.845295\tvalid_0's ndcg@3: 0.86587\tvalid_0's ndcg@4: 0.877572\tvalid_0's ndcg@5: 0.885038\n",
      "[97]\tvalid_0's ndcg@1: 0.805202\tvalid_0's ndcg@2: 0.84533\tvalid_0's ndcg@3: 0.865955\tvalid_0's ndcg@4: 0.877574\tvalid_0's ndcg@5: 0.885091\n",
      "[98]\tvalid_0's ndcg@1: 0.805176\tvalid_0's ndcg@2: 0.84534\tvalid_0's ndcg@3: 0.865914\tvalid_0's ndcg@4: 0.877646\tvalid_0's ndcg@5: 0.885117\n",
      "[99]\tvalid_0's ndcg@1: 0.805167\tvalid_0's ndcg@2: 0.845352\tvalid_0's ndcg@3: 0.865939\tvalid_0's ndcg@4: 0.87763\tvalid_0's ndcg@5: 0.885111\n",
      "[100]\tvalid_0's ndcg@1: 0.805394\tvalid_0's ndcg@2: 0.845445\tvalid_0's ndcg@3: 0.866129\tvalid_0's ndcg@4: 0.877752\tvalid_0's ndcg@5: 0.885202\n",
      "[101]\tvalid_0's ndcg@1: 0.805348\tvalid_0's ndcg@2: 0.845464\tvalid_0's ndcg@3: 0.866106\tvalid_0's ndcg@4: 0.877796\tvalid_0's ndcg@5: 0.885198\n",
      "[102]\tvalid_0's ndcg@1: 0.80544\tvalid_0's ndcg@2: 0.845448\tvalid_0's ndcg@3: 0.866129\tvalid_0's ndcg@4: 0.877818\tvalid_0's ndcg@5: 0.885236\n",
      "[103]\tvalid_0's ndcg@1: 0.80545\tvalid_0's ndcg@2: 0.845497\tvalid_0's ndcg@3: 0.866179\tvalid_0's ndcg@4: 0.877808\tvalid_0's ndcg@5: 0.885231\n",
      "[104]\tvalid_0's ndcg@1: 0.805496\tvalid_0's ndcg@2: 0.845543\tvalid_0's ndcg@3: 0.866221\tvalid_0's ndcg@4: 0.877857\tvalid_0's ndcg@5: 0.885288\n",
      "[105]\tvalid_0's ndcg@1: 0.805491\tvalid_0's ndcg@2: 0.845622\tvalid_0's ndcg@3: 0.866215\tvalid_0's ndcg@4: 0.877874\tvalid_0's ndcg@5: 0.8853\n",
      "[106]\tvalid_0's ndcg@1: 0.80546\tvalid_0's ndcg@2: 0.845652\tvalid_0's ndcg@3: 0.866219\tvalid_0's ndcg@4: 0.877871\tvalid_0's ndcg@5: 0.885303\n",
      "[107]\tvalid_0's ndcg@1: 0.805465\tvalid_0's ndcg@2: 0.845728\tvalid_0's ndcg@3: 0.866303\tvalid_0's ndcg@4: 0.877904\tvalid_0's ndcg@5: 0.88534\n",
      "[108]\tvalid_0's ndcg@1: 0.80544\tvalid_0's ndcg@2: 0.845704\tvalid_0's ndcg@3: 0.866246\tvalid_0's ndcg@4: 0.877871\tvalid_0's ndcg@5: 0.885308\n",
      "[109]\tvalid_0's ndcg@1: 0.80544\tvalid_0's ndcg@2: 0.845693\tvalid_0's ndcg@3: 0.866272\tvalid_0's ndcg@4: 0.877905\tvalid_0's ndcg@5: 0.885303\n",
      "[110]\tvalid_0's ndcg@1: 0.805526\tvalid_0's ndcg@2: 0.845786\tvalid_0's ndcg@3: 0.86632\tvalid_0's ndcg@4: 0.87798\tvalid_0's ndcg@5: 0.885367\n",
      "[111]\tvalid_0's ndcg@1: 0.805562\tvalid_0's ndcg@2: 0.845833\tvalid_0's ndcg@3: 0.866347\tvalid_0's ndcg@4: 0.877996\tvalid_0's ndcg@5: 0.885367\n",
      "[112]\tvalid_0's ndcg@1: 0.805567\tvalid_0's ndcg@2: 0.845836\tvalid_0's ndcg@3: 0.866357\tvalid_0's ndcg@4: 0.877994\tvalid_0's ndcg@5: 0.885376\n",
      "[113]\tvalid_0's ndcg@1: 0.805587\tvalid_0's ndcg@2: 0.84581\tvalid_0's ndcg@3: 0.866365\tvalid_0's ndcg@4: 0.878045\tvalid_0's ndcg@5: 0.885418\n",
      "[114]\tvalid_0's ndcg@1: 0.805516\tvalid_0's ndcg@2: 0.845825\tvalid_0's ndcg@3: 0.866372\tvalid_0's ndcg@4: 0.878023\tvalid_0's ndcg@5: 0.885406\n",
      "[115]\tvalid_0's ndcg@1: 0.805552\tvalid_0's ndcg@2: 0.845861\tvalid_0's ndcg@3: 0.866404\tvalid_0's ndcg@4: 0.878061\tvalid_0's ndcg@5: 0.885421\n",
      "[116]\tvalid_0's ndcg@1: 0.805587\tvalid_0's ndcg@2: 0.846028\tvalid_0's ndcg@3: 0.866479\tvalid_0's ndcg@4: 0.878108\tvalid_0's ndcg@5: 0.885504\n",
      "[117]\tvalid_0's ndcg@1: 0.805566\tvalid_0's ndcg@2: 0.846019\tvalid_0's ndcg@3: 0.866497\tvalid_0's ndcg@4: 0.878115\tvalid_0's ndcg@5: 0.885504\n",
      "[118]\tvalid_0's ndcg@1: 0.805698\tvalid_0's ndcg@2: 0.846119\tvalid_0's ndcg@3: 0.866503\tvalid_0's ndcg@4: 0.878159\tvalid_0's ndcg@5: 0.885536\n"
     ]
    },
    {
     "name": "stdout",
     "output_type": "stream",
     "text": [
      "[119]\tvalid_0's ndcg@1: 0.805673\tvalid_0's ndcg@2: 0.846099\tvalid_0's ndcg@3: 0.866461\tvalid_0's ndcg@4: 0.878148\tvalid_0's ndcg@5: 0.885523\n",
      "[120]\tvalid_0's ndcg@1: 0.805764\tvalid_0's ndcg@2: 0.846145\tvalid_0's ndcg@3: 0.866499\tvalid_0's ndcg@4: 0.878189\tvalid_0's ndcg@5: 0.885541\n",
      "[121]\tvalid_0's ndcg@1: 0.805724\tvalid_0's ndcg@2: 0.846119\tvalid_0's ndcg@3: 0.866504\tvalid_0's ndcg@4: 0.878156\tvalid_0's ndcg@5: 0.885513\n",
      "[122]\tvalid_0's ndcg@1: 0.805724\tvalid_0's ndcg@2: 0.846115\tvalid_0's ndcg@3: 0.866518\tvalid_0's ndcg@4: 0.87816\tvalid_0's ndcg@5: 0.885515\n",
      "[123]\tvalid_0's ndcg@1: 0.80583\tvalid_0's ndcg@2: 0.846188\tvalid_0's ndcg@3: 0.866557\tvalid_0's ndcg@4: 0.878204\tvalid_0's ndcg@5: 0.885554\n",
      "[124]\tvalid_0's ndcg@1: 0.805851\tvalid_0's ndcg@2: 0.846185\tvalid_0's ndcg@3: 0.866552\tvalid_0's ndcg@4: 0.878189\tvalid_0's ndcg@5: 0.885572\n",
      "[125]\tvalid_0's ndcg@1: 0.805871\tvalid_0's ndcg@2: 0.846162\tvalid_0's ndcg@3: 0.866537\tvalid_0's ndcg@4: 0.878212\tvalid_0's ndcg@5: 0.885569\n",
      "[126]\tvalid_0's ndcg@1: 0.805877\tvalid_0's ndcg@2: 0.846141\tvalid_0's ndcg@3: 0.866522\tvalid_0's ndcg@4: 0.878224\tvalid_0's ndcg@5: 0.885561\n",
      "[127]\tvalid_0's ndcg@1: 0.805882\tvalid_0's ndcg@2: 0.84614\tvalid_0's ndcg@3: 0.866483\tvalid_0's ndcg@4: 0.878227\tvalid_0's ndcg@5: 0.88556\n",
      "[128]\tvalid_0's ndcg@1: 0.805851\tvalid_0's ndcg@2: 0.846133\tvalid_0's ndcg@3: 0.866443\tvalid_0's ndcg@4: 0.87823\tvalid_0's ndcg@5: 0.885568\n",
      "[129]\tvalid_0's ndcg@1: 0.805801\tvalid_0's ndcg@2: 0.846134\tvalid_0's ndcg@3: 0.866458\tvalid_0's ndcg@4: 0.878188\tvalid_0's ndcg@5: 0.885538\n",
      "[130]\tvalid_0's ndcg@1: 0.805801\tvalid_0's ndcg@2: 0.846097\tvalid_0's ndcg@3: 0.86649\tvalid_0's ndcg@4: 0.878176\tvalid_0's ndcg@5: 0.885532\n",
      "[131]\tvalid_0's ndcg@1: 0.805836\tvalid_0's ndcg@2: 0.846097\tvalid_0's ndcg@3: 0.866529\tvalid_0's ndcg@4: 0.878196\tvalid_0's ndcg@5: 0.885527\n",
      "[132]\tvalid_0's ndcg@1: 0.80579\tvalid_0's ndcg@2: 0.846108\tvalid_0's ndcg@3: 0.866541\tvalid_0's ndcg@4: 0.878213\tvalid_0's ndcg@5: 0.885528\n",
      "[133]\tvalid_0's ndcg@1: 0.805841\tvalid_0's ndcg@2: 0.846079\tvalid_0's ndcg@3: 0.866559\tvalid_0's ndcg@4: 0.878237\tvalid_0's ndcg@5: 0.885546\n",
      "[134]\tvalid_0's ndcg@1: 0.805694\tvalid_0's ndcg@2: 0.84604\tvalid_0's ndcg@3: 0.866506\tvalid_0's ndcg@4: 0.878178\tvalid_0's ndcg@5: 0.885517\n",
      "[135]\tvalid_0's ndcg@1: 0.805821\tvalid_0's ndcg@2: 0.846095\tvalid_0's ndcg@3: 0.866543\tvalid_0's ndcg@4: 0.878225\tvalid_0's ndcg@5: 0.88558\n",
      "[136]\tvalid_0's ndcg@1: 0.805765\tvalid_0's ndcg@2: 0.846077\tvalid_0's ndcg@3: 0.866512\tvalid_0's ndcg@4: 0.878185\tvalid_0's ndcg@5: 0.885577\n",
      "[137]\tvalid_0's ndcg@1: 0.805881\tvalid_0's ndcg@2: 0.84612\tvalid_0's ndcg@3: 0.866545\tvalid_0's ndcg@4: 0.878201\tvalid_0's ndcg@5: 0.885587\n",
      "[138]\tvalid_0's ndcg@1: 0.805897\tvalid_0's ndcg@2: 0.846073\tvalid_0's ndcg@3: 0.866551\tvalid_0's ndcg@4: 0.878164\tvalid_0's ndcg@5: 0.885599\n",
      "[139]\tvalid_0's ndcg@1: 0.805902\tvalid_0's ndcg@2: 0.846117\tvalid_0's ndcg@3: 0.866599\tvalid_0's ndcg@4: 0.878196\tvalid_0's ndcg@5: 0.885625\n",
      "[140]\tvalid_0's ndcg@1: 0.805927\tvalid_0's ndcg@2: 0.846095\tvalid_0's ndcg@3: 0.866597\tvalid_0's ndcg@4: 0.878208\tvalid_0's ndcg@5: 0.885629\n",
      "[141]\tvalid_0's ndcg@1: 0.805942\tvalid_0's ndcg@2: 0.846083\tvalid_0's ndcg@3: 0.866584\tvalid_0's ndcg@4: 0.878206\tvalid_0's ndcg@5: 0.885636\n",
      "[142]\tvalid_0's ndcg@1: 0.806003\tvalid_0's ndcg@2: 0.846148\tvalid_0's ndcg@3: 0.866627\tvalid_0's ndcg@4: 0.878249\tvalid_0's ndcg@5: 0.88569\n",
      "[143]\tvalid_0's ndcg@1: 0.806023\tvalid_0's ndcg@2: 0.846169\tvalid_0's ndcg@3: 0.866651\tvalid_0's ndcg@4: 0.878281\tvalid_0's ndcg@5: 0.885702\n",
      "[144]\tvalid_0's ndcg@1: 0.806064\tvalid_0's ndcg@2: 0.846194\tvalid_0's ndcg@3: 0.866593\tvalid_0's ndcg@4: 0.878284\tvalid_0's ndcg@5: 0.885735\n",
      "[145]\tvalid_0's ndcg@1: 0.806048\tvalid_0's ndcg@2: 0.846212\tvalid_0's ndcg@3: 0.866577\tvalid_0's ndcg@4: 0.87828\tvalid_0's ndcg@5: 0.885724\n",
      "[146]\tvalid_0's ndcg@1: 0.806049\tvalid_0's ndcg@2: 0.846221\tvalid_0's ndcg@3: 0.866605\tvalid_0's ndcg@4: 0.87829\tvalid_0's ndcg@5: 0.885743\n",
      "[147]\tvalid_0's ndcg@1: 0.806115\tvalid_0's ndcg@2: 0.846246\tvalid_0's ndcg@3: 0.866623\tvalid_0's ndcg@4: 0.878316\tvalid_0's ndcg@5: 0.885799\n",
      "[148]\tvalid_0's ndcg@1: 0.806079\tvalid_0's ndcg@2: 0.846237\tvalid_0's ndcg@3: 0.866623\tvalid_0's ndcg@4: 0.878329\tvalid_0's ndcg@5: 0.885797\n",
      "[149]\tvalid_0's ndcg@1: 0.806145\tvalid_0's ndcg@2: 0.846287\tvalid_0's ndcg@3: 0.866657\tvalid_0's ndcg@4: 0.878386\tvalid_0's ndcg@5: 0.885819\n",
      "[150]\tvalid_0's ndcg@1: 0.806221\tvalid_0's ndcg@2: 0.846334\tvalid_0's ndcg@3: 0.866692\tvalid_0's ndcg@4: 0.878417\tvalid_0's ndcg@5: 0.885851\n",
      "[151]\tvalid_0's ndcg@1: 0.806277\tvalid_0's ndcg@2: 0.846345\tvalid_0's ndcg@3: 0.866697\tvalid_0's ndcg@4: 0.878449\tvalid_0's ndcg@5: 0.885862\n",
      "[152]\tvalid_0's ndcg@1: 0.806267\tvalid_0's ndcg@2: 0.846337\tvalid_0's ndcg@3: 0.866701\tvalid_0's ndcg@4: 0.878441\tvalid_0's ndcg@5: 0.885858\n",
      "[153]\tvalid_0's ndcg@1: 0.806252\tvalid_0's ndcg@2: 0.846288\tvalid_0's ndcg@3: 0.866696\tvalid_0's ndcg@4: 0.878424\tvalid_0's ndcg@5: 0.885846\n",
      "[154]\tvalid_0's ndcg@1: 0.806333\tvalid_0's ndcg@2: 0.846309\tvalid_0's ndcg@3: 0.866681\tvalid_0's ndcg@4: 0.878443\tvalid_0's ndcg@5: 0.885887\n",
      "[155]\tvalid_0's ndcg@1: 0.806394\tvalid_0's ndcg@2: 0.846323\tvalid_0's ndcg@3: 0.866689\tvalid_0's ndcg@4: 0.878457\tvalid_0's ndcg@5: 0.885902\n",
      "[156]\tvalid_0's ndcg@1: 0.806384\tvalid_0's ndcg@2: 0.846371\tvalid_0's ndcg@3: 0.866717\tvalid_0's ndcg@4: 0.878503\tvalid_0's ndcg@5: 0.885948\n",
      "[157]\tvalid_0's ndcg@1: 0.806368\tvalid_0's ndcg@2: 0.846354\tvalid_0's ndcg@3: 0.866678\tvalid_0's ndcg@4: 0.878456\tvalid_0's ndcg@5: 0.885929\n",
      "[158]\tvalid_0's ndcg@1: 0.806293\tvalid_0's ndcg@2: 0.846388\tvalid_0's ndcg@3: 0.866696\tvalid_0's ndcg@4: 0.878425\tvalid_0's ndcg@5: 0.885918\n",
      "[159]\tvalid_0's ndcg@1: 0.806303\tvalid_0's ndcg@2: 0.846373\tvalid_0's ndcg@3: 0.866762\tvalid_0's ndcg@4: 0.878414\tvalid_0's ndcg@5: 0.885892\n",
      "[160]\tvalid_0's ndcg@1: 0.806303\tvalid_0's ndcg@2: 0.846352\tvalid_0's ndcg@3: 0.86673\tvalid_0's ndcg@4: 0.878393\tvalid_0's ndcg@5: 0.885874\n",
      "[161]\tvalid_0's ndcg@1: 0.806303\tvalid_0's ndcg@2: 0.846399\tvalid_0's ndcg@3: 0.866723\tvalid_0's ndcg@4: 0.878396\tvalid_0's ndcg@5: 0.885868\n",
      "[162]\tvalid_0's ndcg@1: 0.806273\tvalid_0's ndcg@2: 0.846383\tvalid_0's ndcg@3: 0.866734\tvalid_0's ndcg@4: 0.878401\tvalid_0's ndcg@5: 0.885845\n",
      "[163]\tvalid_0's ndcg@1: 0.806288\tvalid_0's ndcg@2: 0.846359\tvalid_0's ndcg@3: 0.866753\tvalid_0's ndcg@4: 0.878439\tvalid_0's ndcg@5: 0.885868\n",
      "[164]\tvalid_0's ndcg@1: 0.806252\tvalid_0's ndcg@2: 0.846347\tvalid_0's ndcg@3: 0.86674\tvalid_0's ndcg@4: 0.878412\tvalid_0's ndcg@5: 0.88585\n",
      "[165]\tvalid_0's ndcg@1: 0.806303\tvalid_0's ndcg@2: 0.846378\tvalid_0's ndcg@3: 0.866748\tvalid_0's ndcg@4: 0.878428\tvalid_0's ndcg@5: 0.885864\n",
      "[166]\tvalid_0's ndcg@1: 0.806313\tvalid_0's ndcg@2: 0.846409\tvalid_0's ndcg@3: 0.866757\tvalid_0's ndcg@4: 0.878456\tvalid_0's ndcg@5: 0.885863\n",
      "[167]\tvalid_0's ndcg@1: 0.806288\tvalid_0's ndcg@2: 0.846356\tvalid_0's ndcg@3: 0.866735\tvalid_0's ndcg@4: 0.878449\tvalid_0's ndcg@5: 0.885833\n",
      "[168]\tvalid_0's ndcg@1: 0.806242\tvalid_0's ndcg@2: 0.846385\tvalid_0's ndcg@3: 0.866747\tvalid_0's ndcg@4: 0.878432\tvalid_0's ndcg@5: 0.885815\n",
      "[169]\tvalid_0's ndcg@1: 0.806227\tvalid_0's ndcg@2: 0.846413\tvalid_0's ndcg@3: 0.866752\tvalid_0's ndcg@4: 0.878415\tvalid_0's ndcg@5: 0.885829\n",
      "[170]\tvalid_0's ndcg@1: 0.806222\tvalid_0's ndcg@2: 0.846398\tvalid_0's ndcg@3: 0.866706\tvalid_0's ndcg@4: 0.878397\tvalid_0's ndcg@5: 0.885828\n",
      "[171]\tvalid_0's ndcg@1: 0.806232\tvalid_0's ndcg@2: 0.846381\tvalid_0's ndcg@3: 0.866707\tvalid_0's ndcg@4: 0.878392\tvalid_0's ndcg@5: 0.885823\n",
      "[172]\tvalid_0's ndcg@1: 0.806262\tvalid_0's ndcg@2: 0.846376\tvalid_0's ndcg@3: 0.866719\tvalid_0's ndcg@4: 0.878402\tvalid_0's ndcg@5: 0.885834\n",
      "[173]\tvalid_0's ndcg@1: 0.806242\tvalid_0's ndcg@2: 0.84641\tvalid_0's ndcg@3: 0.866719\tvalid_0's ndcg@4: 0.878418\tvalid_0's ndcg@5: 0.885844\n",
      "[174]\tvalid_0's ndcg@1: 0.806268\tvalid_0's ndcg@2: 0.846434\tvalid_0's ndcg@3: 0.866761\tvalid_0's ndcg@4: 0.87844\tvalid_0's ndcg@5: 0.885892\n",
      "[175]\tvalid_0's ndcg@1: 0.806303\tvalid_0's ndcg@2: 0.846442\tvalid_0's ndcg@3: 0.866761\tvalid_0's ndcg@4: 0.878454\tvalid_0's ndcg@5: 0.885909\n",
      "[176]\tvalid_0's ndcg@1: 0.806288\tvalid_0's ndcg@2: 0.846443\tvalid_0's ndcg@3: 0.866778\tvalid_0's ndcg@4: 0.878452\tvalid_0's ndcg@5: 0.885936\n",
      "[177]\tvalid_0's ndcg@1: 0.806222\tvalid_0's ndcg@2: 0.846399\tvalid_0's ndcg@3: 0.866707\tvalid_0's ndcg@4: 0.878424\tvalid_0's ndcg@5: 0.885889\n"
     ]
    },
    {
     "name": "stdout",
     "output_type": "stream",
     "text": [
      "[178]\tvalid_0's ndcg@1: 0.806171\tvalid_0's ndcg@2: 0.846377\tvalid_0's ndcg@3: 0.866686\tvalid_0's ndcg@4: 0.878412\tvalid_0's ndcg@5: 0.885846\n",
      "[179]\tvalid_0's ndcg@1: 0.806202\tvalid_0's ndcg@2: 0.846398\tvalid_0's ndcg@3: 0.866712\tvalid_0's ndcg@4: 0.878438\tvalid_0's ndcg@5: 0.885865\n",
      "[180]\tvalid_0's ndcg@1: 0.806217\tvalid_0's ndcg@2: 0.846381\tvalid_0's ndcg@3: 0.86673\tvalid_0's ndcg@4: 0.878459\tvalid_0's ndcg@5: 0.885867\n",
      "[181]\tvalid_0's ndcg@1: 0.806263\tvalid_0's ndcg@2: 0.846388\tvalid_0's ndcg@3: 0.866747\tvalid_0's ndcg@4: 0.878483\tvalid_0's ndcg@5: 0.885888\n",
      "[182]\tvalid_0's ndcg@1: 0.806329\tvalid_0's ndcg@2: 0.846424\tvalid_0's ndcg@3: 0.86676\tvalid_0's ndcg@4: 0.878508\tvalid_0's ndcg@5: 0.885912\n",
      "[183]\tvalid_0's ndcg@1: 0.806339\tvalid_0's ndcg@2: 0.846405\tvalid_0's ndcg@3: 0.866765\tvalid_0's ndcg@4: 0.878511\tvalid_0's ndcg@5: 0.885869\n",
      "[184]\tvalid_0's ndcg@1: 0.806344\tvalid_0's ndcg@2: 0.846404\tvalid_0's ndcg@3: 0.866758\tvalid_0's ndcg@4: 0.878497\tvalid_0's ndcg@5: 0.885873\n",
      "[185]\tvalid_0's ndcg@1: 0.80638\tvalid_0's ndcg@2: 0.846438\tvalid_0's ndcg@3: 0.86676\tvalid_0's ndcg@4: 0.878505\tvalid_0's ndcg@5: 0.885876\n",
      "[186]\tvalid_0's ndcg@1: 0.806349\tvalid_0's ndcg@2: 0.846431\tvalid_0's ndcg@3: 0.866753\tvalid_0's ndcg@4: 0.878492\tvalid_0's ndcg@5: 0.885875\n",
      "[187]\tvalid_0's ndcg@1: 0.80642\tvalid_0's ndcg@2: 0.846453\tvalid_0's ndcg@3: 0.866783\tvalid_0's ndcg@4: 0.878508\tvalid_0's ndcg@5: 0.885894\n",
      "[188]\tvalid_0's ndcg@1: 0.8064\tvalid_0's ndcg@2: 0.846449\tvalid_0's ndcg@3: 0.866776\tvalid_0's ndcg@4: 0.878499\tvalid_0's ndcg@5: 0.885883\n",
      "[189]\tvalid_0's ndcg@1: 0.806395\tvalid_0's ndcg@2: 0.846416\tvalid_0's ndcg@3: 0.866748\tvalid_0's ndcg@4: 0.878477\tvalid_0's ndcg@5: 0.885879\n",
      "[190]\tvalid_0's ndcg@1: 0.806425\tvalid_0's ndcg@2: 0.846434\tvalid_0's ndcg@3: 0.866749\tvalid_0's ndcg@4: 0.878507\tvalid_0's ndcg@5: 0.885859\n",
      "[191]\tvalid_0's ndcg@1: 0.806496\tvalid_0's ndcg@2: 0.846449\tvalid_0's ndcg@3: 0.866761\tvalid_0's ndcg@4: 0.878517\tvalid_0's ndcg@5: 0.885848\n",
      "[192]\tvalid_0's ndcg@1: 0.806435\tvalid_0's ndcg@2: 0.84639\tvalid_0's ndcg@3: 0.866715\tvalid_0's ndcg@4: 0.878485\tvalid_0's ndcg@5: 0.885823\n",
      "[193]\tvalid_0's ndcg@1: 0.806476\tvalid_0's ndcg@2: 0.846452\tvalid_0's ndcg@3: 0.866759\tvalid_0's ndcg@4: 0.878514\tvalid_0's ndcg@5: 0.885848\n",
      "[194]\tvalid_0's ndcg@1: 0.806563\tvalid_0's ndcg@2: 0.846505\tvalid_0's ndcg@3: 0.866808\tvalid_0's ndcg@4: 0.87856\tvalid_0's ndcg@5: 0.885878\n",
      "[195]\tvalid_0's ndcg@1: 0.806527\tvalid_0's ndcg@2: 0.846467\tvalid_0's ndcg@3: 0.866824\tvalid_0's ndcg@4: 0.878537\tvalid_0's ndcg@5: 0.885852\n",
      "[196]\tvalid_0's ndcg@1: 0.806446\tvalid_0's ndcg@2: 0.846476\tvalid_0's ndcg@3: 0.866798\tvalid_0's ndcg@4: 0.878546\tvalid_0's ndcg@5: 0.885824\n",
      "[197]\tvalid_0's ndcg@1: 0.806431\tvalid_0's ndcg@2: 0.846482\tvalid_0's ndcg@3: 0.866773\tvalid_0's ndcg@4: 0.878555\tvalid_0's ndcg@5: 0.885822\n",
      "[198]\tvalid_0's ndcg@1: 0.80641\tvalid_0's ndcg@2: 0.846453\tvalid_0's ndcg@3: 0.866731\tvalid_0's ndcg@4: 0.878534\tvalid_0's ndcg@5: 0.885799\n",
      "[199]\tvalid_0's ndcg@1: 0.806405\tvalid_0's ndcg@2: 0.846441\tvalid_0's ndcg@3: 0.866696\tvalid_0's ndcg@4: 0.878511\tvalid_0's ndcg@5: 0.885786\n",
      "[200]\tvalid_0's ndcg@1: 0.806385\tvalid_0's ndcg@2: 0.846404\tvalid_0's ndcg@3: 0.86669\tvalid_0's ndcg@4: 0.878501\tvalid_0's ndcg@5: 0.885774\n",
      "[201]\tvalid_0's ndcg@1: 0.806355\tvalid_0's ndcg@2: 0.846383\tvalid_0's ndcg@3: 0.866667\tvalid_0's ndcg@4: 0.878489\tvalid_0's ndcg@5: 0.885777\n",
      "[202]\tvalid_0's ndcg@1: 0.806334\tvalid_0's ndcg@2: 0.846408\tvalid_0's ndcg@3: 0.866647\tvalid_0's ndcg@4: 0.87849\tvalid_0's ndcg@5: 0.885763\n",
      "[203]\tvalid_0's ndcg@1: 0.806349\tvalid_0's ndcg@2: 0.846428\tvalid_0's ndcg@3: 0.866634\tvalid_0's ndcg@4: 0.878467\tvalid_0's ndcg@5: 0.88576\n",
      "[204]\tvalid_0's ndcg@1: 0.806274\tvalid_0's ndcg@2: 0.846418\tvalid_0's ndcg@3: 0.866602\tvalid_0's ndcg@4: 0.878454\tvalid_0's ndcg@5: 0.885735\n",
      "[205]\tvalid_0's ndcg@1: 0.806289\tvalid_0's ndcg@2: 0.846382\tvalid_0's ndcg@3: 0.866609\tvalid_0's ndcg@4: 0.878446\tvalid_0's ndcg@5: 0.885731\n",
      "[206]\tvalid_0's ndcg@1: 0.80635\tvalid_0's ndcg@2: 0.846427\tvalid_0's ndcg@3: 0.866617\tvalid_0's ndcg@4: 0.878471\tvalid_0's ndcg@5: 0.885758\n",
      "[207]\tvalid_0's ndcg@1: 0.806314\tvalid_0's ndcg@2: 0.846385\tvalid_0's ndcg@3: 0.866559\tvalid_0's ndcg@4: 0.878442\tvalid_0's ndcg@5: 0.885746\n",
      "[208]\tvalid_0's ndcg@1: 0.806334\tvalid_0's ndcg@2: 0.846382\tvalid_0's ndcg@3: 0.866564\tvalid_0's ndcg@4: 0.878461\tvalid_0's ndcg@5: 0.885754\n",
      "[209]\tvalid_0's ndcg@1: 0.806324\tvalid_0's ndcg@2: 0.846375\tvalid_0's ndcg@3: 0.866573\tvalid_0's ndcg@4: 0.878449\tvalid_0's ndcg@5: 0.885749\n",
      "[210]\tvalid_0's ndcg@1: 0.806329\tvalid_0's ndcg@2: 0.846378\tvalid_0's ndcg@3: 0.866564\tvalid_0's ndcg@4: 0.878443\tvalid_0's ndcg@5: 0.885727\n",
      "[211]\tvalid_0's ndcg@1: 0.806309\tvalid_0's ndcg@2: 0.846336\tvalid_0's ndcg@3: 0.866556\tvalid_0's ndcg@4: 0.878431\tvalid_0's ndcg@5: 0.885718\n",
      "[212]\tvalid_0's ndcg@1: 0.806294\tvalid_0's ndcg@2: 0.846305\tvalid_0's ndcg@3: 0.866539\tvalid_0's ndcg@4: 0.878428\tvalid_0's ndcg@5: 0.885728\n",
      "[213]\tvalid_0's ndcg@1: 0.806314\tvalid_0's ndcg@2: 0.846316\tvalid_0's ndcg@3: 0.866545\tvalid_0's ndcg@4: 0.878433\tvalid_0's ndcg@5: 0.885753\n",
      "[214]\tvalid_0's ndcg@1: 0.806268\tvalid_0's ndcg@2: 0.846305\tvalid_0's ndcg@3: 0.866529\tvalid_0's ndcg@4: 0.8784\tvalid_0's ndcg@5: 0.885731\n",
      "[215]\tvalid_0's ndcg@1: 0.806248\tvalid_0's ndcg@2: 0.846309\tvalid_0's ndcg@3: 0.866502\tvalid_0's ndcg@4: 0.878392\tvalid_0's ndcg@5: 0.885738\n",
      "[216]\tvalid_0's ndcg@1: 0.806334\tvalid_0's ndcg@2: 0.846398\tvalid_0's ndcg@3: 0.866528\tvalid_0's ndcg@4: 0.878462\tvalid_0's ndcg@5: 0.885792\n",
      "[217]\tvalid_0's ndcg@1: 0.806339\tvalid_0's ndcg@2: 0.846402\tvalid_0's ndcg@3: 0.866522\tvalid_0's ndcg@4: 0.878465\tvalid_0's ndcg@5: 0.88579\n",
      "[218]\tvalid_0's ndcg@1: 0.806385\tvalid_0's ndcg@2: 0.846444\tvalid_0's ndcg@3: 0.866551\tvalid_0's ndcg@4: 0.878501\tvalid_0's ndcg@5: 0.885813\n",
      "[219]\tvalid_0's ndcg@1: 0.806395\tvalid_0's ndcg@2: 0.84646\tvalid_0's ndcg@3: 0.866567\tvalid_0's ndcg@4: 0.8785\tvalid_0's ndcg@5: 0.885813\n",
      "[220]\tvalid_0's ndcg@1: 0.806385\tvalid_0's ndcg@2: 0.846499\tvalid_0's ndcg@3: 0.866582\tvalid_0's ndcg@4: 0.878507\tvalid_0's ndcg@5: 0.88582\n",
      "[221]\tvalid_0's ndcg@1: 0.806395\tvalid_0's ndcg@2: 0.846502\tvalid_0's ndcg@3: 0.866593\tvalid_0's ndcg@4: 0.878506\tvalid_0's ndcg@5: 0.885817\n",
      "[222]\tvalid_0's ndcg@1: 0.80636\tvalid_0's ndcg@2: 0.84646\tvalid_0's ndcg@3: 0.86658\tvalid_0's ndcg@4: 0.878507\tvalid_0's ndcg@5: 0.885815\n",
      "[223]\tvalid_0's ndcg@1: 0.806375\tvalid_0's ndcg@2: 0.846444\tvalid_0's ndcg@3: 0.866552\tvalid_0's ndcg@4: 0.878508\tvalid_0's ndcg@5: 0.885801\n",
      "[224]\tvalid_0's ndcg@1: 0.80638\tvalid_0's ndcg@2: 0.846403\tvalid_0's ndcg@3: 0.866533\tvalid_0's ndcg@4: 0.878503\tvalid_0's ndcg@5: 0.885795\n",
      "[225]\tvalid_0's ndcg@1: 0.806411\tvalid_0's ndcg@2: 0.846387\tvalid_0's ndcg@3: 0.866551\tvalid_0's ndcg@4: 0.8785\tvalid_0's ndcg@5: 0.885806\n",
      "[226]\tvalid_0's ndcg@1: 0.80638\tvalid_0's ndcg@2: 0.846374\tvalid_0's ndcg@3: 0.86654\tvalid_0's ndcg@4: 0.878504\tvalid_0's ndcg@5: 0.88581\n",
      "[227]\tvalid_0's ndcg@1: 0.806396\tvalid_0's ndcg@2: 0.84637\tvalid_0's ndcg@3: 0.866515\tvalid_0's ndcg@4: 0.878502\tvalid_0's ndcg@5: 0.885806\n",
      "[228]\tvalid_0's ndcg@1: 0.806431\tvalid_0's ndcg@2: 0.846368\tvalid_0's ndcg@3: 0.866492\tvalid_0's ndcg@4: 0.878492\tvalid_0's ndcg@5: 0.885808\n",
      "[229]\tvalid_0's ndcg@1: 0.806406\tvalid_0's ndcg@2: 0.846374\tvalid_0's ndcg@3: 0.866494\tvalid_0's ndcg@4: 0.878488\tvalid_0's ndcg@5: 0.885809\n",
      "[230]\tvalid_0's ndcg@1: 0.80638\tvalid_0's ndcg@2: 0.846352\tvalid_0's ndcg@3: 0.866487\tvalid_0's ndcg@4: 0.878479\tvalid_0's ndcg@5: 0.885795\n",
      "[231]\tvalid_0's ndcg@1: 0.80636\tvalid_0's ndcg@2: 0.846313\tvalid_0's ndcg@3: 0.866462\tvalid_0's ndcg@4: 0.878454\tvalid_0's ndcg@5: 0.885789\n",
      "[232]\tvalid_0's ndcg@1: 0.806299\tvalid_0's ndcg@2: 0.846269\tvalid_0's ndcg@3: 0.866439\tvalid_0's ndcg@4: 0.878435\tvalid_0's ndcg@5: 0.885788\n",
      "[233]\tvalid_0's ndcg@1: 0.806314\tvalid_0's ndcg@2: 0.846279\tvalid_0's ndcg@3: 0.866461\tvalid_0's ndcg@4: 0.878453\tvalid_0's ndcg@5: 0.885787\n",
      "[234]\tvalid_0's ndcg@1: 0.806315\tvalid_0's ndcg@2: 0.846297\tvalid_0's ndcg@3: 0.866452\tvalid_0's ndcg@4: 0.878464\tvalid_0's ndcg@5: 0.885803\n",
      "[235]\tvalid_0's ndcg@1: 0.80631\tvalid_0's ndcg@2: 0.846301\tvalid_0's ndcg@3: 0.866465\tvalid_0's ndcg@4: 0.878469\tvalid_0's ndcg@5: 0.885808\n",
      "[236]\tvalid_0's ndcg@1: 0.806355\tvalid_0's ndcg@2: 0.846244\tvalid_0's ndcg@3: 0.866473\tvalid_0's ndcg@4: 0.878503\tvalid_0's ndcg@5: 0.885808\n"
     ]
    },
    {
     "name": "stdout",
     "output_type": "stream",
     "text": [
      "[237]\tvalid_0's ndcg@1: 0.806406\tvalid_0's ndcg@2: 0.846271\tvalid_0's ndcg@3: 0.866488\tvalid_0's ndcg@4: 0.87852\tvalid_0's ndcg@5: 0.885827\n",
      "[238]\tvalid_0's ndcg@1: 0.806431\tvalid_0's ndcg@2: 0.846275\tvalid_0's ndcg@3: 0.866509\tvalid_0's ndcg@4: 0.878525\tvalid_0's ndcg@5: 0.885814\n",
      "[239]\tvalid_0's ndcg@1: 0.806391\tvalid_0's ndcg@2: 0.846238\tvalid_0's ndcg@3: 0.866476\tvalid_0's ndcg@4: 0.878486\tvalid_0's ndcg@5: 0.885793\n",
      "[240]\tvalid_0's ndcg@1: 0.80636\tvalid_0's ndcg@2: 0.846211\tvalid_0's ndcg@3: 0.86647\tvalid_0's ndcg@4: 0.878483\tvalid_0's ndcg@5: 0.885797\n",
      "[241]\tvalid_0's ndcg@1: 0.806345\tvalid_0's ndcg@2: 0.846212\tvalid_0's ndcg@3: 0.866475\tvalid_0's ndcg@4: 0.878475\tvalid_0's ndcg@5: 0.885811\n",
      "[242]\tvalid_0's ndcg@1: 0.80636\tvalid_0's ndcg@2: 0.846221\tvalid_0's ndcg@3: 0.866469\tvalid_0's ndcg@4: 0.878473\tvalid_0's ndcg@5: 0.885816\n",
      "[243]\tvalid_0's ndcg@1: 0.8063\tvalid_0's ndcg@2: 0.846186\tvalid_0's ndcg@3: 0.866426\tvalid_0's ndcg@4: 0.878437\tvalid_0's ndcg@5: 0.885777\n",
      "[244]\tvalid_0's ndcg@1: 0.80629\tvalid_0's ndcg@2: 0.846184\tvalid_0's ndcg@3: 0.866425\tvalid_0's ndcg@4: 0.878417\tvalid_0's ndcg@5: 0.885775\n",
      "[245]\tvalid_0's ndcg@1: 0.806315\tvalid_0's ndcg@2: 0.846189\tvalid_0's ndcg@3: 0.866429\tvalid_0's ndcg@4: 0.878428\tvalid_0's ndcg@5: 0.885784\n",
      "[246]\tvalid_0's ndcg@1: 0.80632\tvalid_0's ndcg@2: 0.846209\tvalid_0's ndcg@3: 0.866428\tvalid_0's ndcg@4: 0.878448\tvalid_0's ndcg@5: 0.885808\n",
      "[247]\tvalid_0's ndcg@1: 0.806289\tvalid_0's ndcg@2: 0.846181\tvalid_0's ndcg@3: 0.866397\tvalid_0's ndcg@4: 0.878401\tvalid_0's ndcg@5: 0.885772\n",
      "[248]\tvalid_0's ndcg@1: 0.80631\tvalid_0's ndcg@2: 0.846191\tvalid_0's ndcg@3: 0.866377\tvalid_0's ndcg@4: 0.87841\tvalid_0's ndcg@5: 0.885756\n",
      "[249]\tvalid_0's ndcg@1: 0.80635\tvalid_0's ndcg@2: 0.846173\tvalid_0's ndcg@3: 0.866369\tvalid_0's ndcg@4: 0.878408\tvalid_0's ndcg@5: 0.885759\n",
      "[250]\tvalid_0's ndcg@1: 0.80631\tvalid_0's ndcg@2: 0.846189\tvalid_0's ndcg@3: 0.866371\tvalid_0's ndcg@4: 0.878402\tvalid_0's ndcg@5: 0.885757\n",
      "[251]\tvalid_0's ndcg@1: 0.806329\tvalid_0's ndcg@2: 0.846152\tvalid_0's ndcg@3: 0.866374\tvalid_0's ndcg@4: 0.878393\tvalid_0's ndcg@5: 0.885755\n",
      "[252]\tvalid_0's ndcg@1: 0.80639\tvalid_0's ndcg@2: 0.846174\tvalid_0's ndcg@3: 0.866355\tvalid_0's ndcg@4: 0.878418\tvalid_0's ndcg@5: 0.885784\n",
      "[253]\tvalid_0's ndcg@1: 0.806375\tvalid_0's ndcg@2: 0.846176\tvalid_0's ndcg@3: 0.866349\tvalid_0's ndcg@4: 0.878407\tvalid_0's ndcg@5: 0.885781\n",
      "[254]\tvalid_0's ndcg@1: 0.806359\tvalid_0's ndcg@2: 0.846189\tvalid_0's ndcg@3: 0.866325\tvalid_0's ndcg@4: 0.878393\tvalid_0's ndcg@5: 0.885783\n",
      "[255]\tvalid_0's ndcg@1: 0.806359\tvalid_0's ndcg@2: 0.846207\tvalid_0's ndcg@3: 0.86633\tvalid_0's ndcg@4: 0.878394\tvalid_0's ndcg@5: 0.885781\n",
      "[256]\tvalid_0's ndcg@1: 0.80639\tvalid_0's ndcg@2: 0.846216\tvalid_0's ndcg@3: 0.866353\tvalid_0's ndcg@4: 0.878391\tvalid_0's ndcg@5: 0.885787\n",
      "[257]\tvalid_0's ndcg@1: 0.806415\tvalid_0's ndcg@2: 0.84614\tvalid_0's ndcg@3: 0.866328\tvalid_0's ndcg@4: 0.878376\tvalid_0's ndcg@5: 0.88578\n",
      "[258]\tvalid_0's ndcg@1: 0.80639\tvalid_0's ndcg@2: 0.846151\tvalid_0's ndcg@3: 0.866325\tvalid_0's ndcg@4: 0.878376\tvalid_0's ndcg@5: 0.885772\n",
      "[259]\tvalid_0's ndcg@1: 0.806375\tvalid_0's ndcg@2: 0.846126\tvalid_0's ndcg@3: 0.866328\tvalid_0's ndcg@4: 0.878377\tvalid_0's ndcg@5: 0.885764\n",
      "[260]\tvalid_0's ndcg@1: 0.806385\tvalid_0's ndcg@2: 0.846157\tvalid_0's ndcg@3: 0.866345\tvalid_0's ndcg@4: 0.878381\tvalid_0's ndcg@5: 0.885772\n",
      "[261]\tvalid_0's ndcg@1: 0.806354\tvalid_0's ndcg@2: 0.846153\tvalid_0's ndcg@3: 0.866333\tvalid_0's ndcg@4: 0.878343\tvalid_0's ndcg@5: 0.885759\n",
      "[262]\tvalid_0's ndcg@1: 0.806349\tvalid_0's ndcg@2: 0.84617\tvalid_0's ndcg@3: 0.866348\tvalid_0's ndcg@4: 0.878357\tvalid_0's ndcg@5: 0.885748\n",
      "[263]\tvalid_0's ndcg@1: 0.806314\tvalid_0's ndcg@2: 0.846168\tvalid_0's ndcg@3: 0.86632\tvalid_0's ndcg@4: 0.878347\tvalid_0's ndcg@5: 0.885729\n",
      "[264]\tvalid_0's ndcg@1: 0.806339\tvalid_0's ndcg@2: 0.846136\tvalid_0's ndcg@3: 0.866326\tvalid_0's ndcg@4: 0.878337\tvalid_0's ndcg@5: 0.885731\n",
      "[265]\tvalid_0's ndcg@1: 0.806385\tvalid_0's ndcg@2: 0.846147\tvalid_0's ndcg@3: 0.866324\tvalid_0's ndcg@4: 0.878338\tvalid_0's ndcg@5: 0.885752\n",
      "[266]\tvalid_0's ndcg@1: 0.8064\tvalid_0's ndcg@2: 0.846154\tvalid_0's ndcg@3: 0.866324\tvalid_0's ndcg@4: 0.878346\tvalid_0's ndcg@5: 0.885759\n",
      "[267]\tvalid_0's ndcg@1: 0.806345\tvalid_0's ndcg@2: 0.846124\tvalid_0's ndcg@3: 0.866327\tvalid_0's ndcg@4: 0.878319\tvalid_0's ndcg@5: 0.885718\n",
      "[268]\tvalid_0's ndcg@1: 0.80635\tvalid_0's ndcg@2: 0.846139\tvalid_0's ndcg@3: 0.866316\tvalid_0's ndcg@4: 0.878328\tvalid_0's ndcg@5: 0.88572\n",
      "[269]\tvalid_0's ndcg@1: 0.806319\tvalid_0's ndcg@2: 0.846119\tvalid_0's ndcg@3: 0.866314\tvalid_0's ndcg@4: 0.878314\tvalid_0's ndcg@5: 0.885709\n",
      "[270]\tvalid_0's ndcg@1: 0.806289\tvalid_0's ndcg@2: 0.846083\tvalid_0's ndcg@3: 0.86631\tvalid_0's ndcg@4: 0.878301\tvalid_0's ndcg@5: 0.885685\n",
      "[271]\tvalid_0's ndcg@1: 0.806274\tvalid_0's ndcg@2: 0.846115\tvalid_0's ndcg@3: 0.866325\tvalid_0's ndcg@4: 0.878312\tvalid_0's ndcg@5: 0.88571\n",
      "[272]\tvalid_0's ndcg@1: 0.806314\tvalid_0's ndcg@2: 0.846136\tvalid_0's ndcg@3: 0.866355\tvalid_0's ndcg@4: 0.878341\tvalid_0's ndcg@5: 0.885711\n",
      "[273]\tvalid_0's ndcg@1: 0.806325\tvalid_0's ndcg@2: 0.84613\tvalid_0's ndcg@3: 0.866318\tvalid_0's ndcg@4: 0.878314\tvalid_0's ndcg@5: 0.885707\n",
      "[274]\tvalid_0's ndcg@1: 0.806315\tvalid_0's ndcg@2: 0.84613\tvalid_0's ndcg@3: 0.86633\tvalid_0's ndcg@4: 0.878317\tvalid_0's ndcg@5: 0.885702\n",
      "[275]\tvalid_0's ndcg@1: 0.80632\tvalid_0's ndcg@2: 0.846125\tvalid_0's ndcg@3: 0.866339\tvalid_0's ndcg@4: 0.878329\tvalid_0's ndcg@5: 0.885703\n",
      "[276]\tvalid_0's ndcg@1: 0.806253\tvalid_0's ndcg@2: 0.846092\tvalid_0's ndcg@3: 0.866307\tvalid_0's ndcg@4: 0.87831\tvalid_0's ndcg@5: 0.885687\n",
      "[277]\tvalid_0's ndcg@1: 0.806248\tvalid_0's ndcg@2: 0.846062\tvalid_0's ndcg@3: 0.866284\tvalid_0's ndcg@4: 0.878298\tvalid_0's ndcg@5: 0.885677\n",
      "[278]\tvalid_0's ndcg@1: 0.806309\tvalid_0's ndcg@2: 0.846081\tvalid_0's ndcg@3: 0.866305\tvalid_0's ndcg@4: 0.878307\tvalid_0's ndcg@5: 0.885697\n",
      "[279]\tvalid_0's ndcg@1: 0.806289\tvalid_0's ndcg@2: 0.84608\tvalid_0's ndcg@3: 0.866303\tvalid_0's ndcg@4: 0.878297\tvalid_0's ndcg@5: 0.885703\n",
      "[280]\tvalid_0's ndcg@1: 0.806253\tvalid_0's ndcg@2: 0.846055\tvalid_0's ndcg@3: 0.866299\tvalid_0's ndcg@4: 0.878274\tvalid_0's ndcg@5: 0.885668\n",
      "[281]\tvalid_0's ndcg@1: 0.806263\tvalid_0's ndcg@2: 0.846088\tvalid_0's ndcg@3: 0.866272\tvalid_0's ndcg@4: 0.878279\tvalid_0's ndcg@5: 0.885686\n",
      "[282]\tvalid_0's ndcg@1: 0.806248\tvalid_0's ndcg@2: 0.846083\tvalid_0's ndcg@3: 0.866271\tvalid_0's ndcg@4: 0.878262\tvalid_0's ndcg@5: 0.885686\n",
      "[283]\tvalid_0's ndcg@1: 0.806258\tvalid_0's ndcg@2: 0.846086\tvalid_0's ndcg@3: 0.866248\tvalid_0's ndcg@4: 0.878268\tvalid_0's ndcg@5: 0.885679\n",
      "[284]\tvalid_0's ndcg@1: 0.806299\tvalid_0's ndcg@2: 0.84612\tvalid_0's ndcg@3: 0.866254\tvalid_0's ndcg@4: 0.878265\tvalid_0's ndcg@5: 0.885706\n",
      "[285]\tvalid_0's ndcg@1: 0.806314\tvalid_0's ndcg@2: 0.84617\tvalid_0's ndcg@3: 0.866279\tvalid_0's ndcg@4: 0.878293\tvalid_0's ndcg@5: 0.885739\n",
      "[286]\tvalid_0's ndcg@1: 0.806344\tvalid_0's ndcg@2: 0.846168\tvalid_0's ndcg@3: 0.866283\tvalid_0's ndcg@4: 0.878298\tvalid_0's ndcg@5: 0.885741\n",
      "[287]\tvalid_0's ndcg@1: 0.80638\tvalid_0's ndcg@2: 0.846177\tvalid_0's ndcg@3: 0.866284\tvalid_0's ndcg@4: 0.878314\tvalid_0's ndcg@5: 0.885762\n",
      "[288]\tvalid_0's ndcg@1: 0.806385\tvalid_0's ndcg@2: 0.846183\tvalid_0's ndcg@3: 0.866278\tvalid_0's ndcg@4: 0.878329\tvalid_0's ndcg@5: 0.885778\n",
      "[289]\tvalid_0's ndcg@1: 0.806344\tvalid_0's ndcg@2: 0.846138\tvalid_0's ndcg@3: 0.866241\tvalid_0's ndcg@4: 0.878301\tvalid_0's ndcg@5: 0.88575\n",
      "[290]\tvalid_0's ndcg@1: 0.80638\tvalid_0's ndcg@2: 0.84619\tvalid_0's ndcg@3: 0.866254\tvalid_0's ndcg@4: 0.878335\tvalid_0's ndcg@5: 0.885782\n",
      "[291]\tvalid_0's ndcg@1: 0.806405\tvalid_0's ndcg@2: 0.846203\tvalid_0's ndcg@3: 0.866249\tvalid_0's ndcg@4: 0.878339\tvalid_0's ndcg@5: 0.885794\n",
      "[292]\tvalid_0's ndcg@1: 0.80638\tvalid_0's ndcg@2: 0.846171\tvalid_0's ndcg@3: 0.866246\tvalid_0's ndcg@4: 0.878326\tvalid_0's ndcg@5: 0.885753\n",
      "[293]\tvalid_0's ndcg@1: 0.80637\tvalid_0's ndcg@2: 0.846193\tvalid_0's ndcg@3: 0.866244\tvalid_0's ndcg@4: 0.87833\tvalid_0's ndcg@5: 0.885745\n",
      "[294]\tvalid_0's ndcg@1: 0.80637\tvalid_0's ndcg@2: 0.846182\tvalid_0's ndcg@3: 0.866249\tvalid_0's ndcg@4: 0.878303\tvalid_0's ndcg@5: 0.88575\n",
      "[295]\tvalid_0's ndcg@1: 0.806375\tvalid_0's ndcg@2: 0.846196\tvalid_0's ndcg@3: 0.866255\tvalid_0's ndcg@4: 0.878318\tvalid_0's ndcg@5: 0.885743\n"
     ]
    },
    {
     "name": "stdout",
     "output_type": "stream",
     "text": [
      "[296]\tvalid_0's ndcg@1: 0.806396\tvalid_0's ndcg@2: 0.846206\tvalid_0's ndcg@3: 0.866274\tvalid_0's ndcg@4: 0.878324\tvalid_0's ndcg@5: 0.885748\n",
      "[297]\tvalid_0's ndcg@1: 0.80638\tvalid_0's ndcg@2: 0.846197\tvalid_0's ndcg@3: 0.86623\tvalid_0's ndcg@4: 0.878317\tvalid_0's ndcg@5: 0.885735\n",
      "[298]\tvalid_0's ndcg@1: 0.806355\tvalid_0's ndcg@2: 0.846224\tvalid_0's ndcg@3: 0.866227\tvalid_0's ndcg@4: 0.878314\tvalid_0's ndcg@5: 0.885716\n",
      "[299]\tvalid_0's ndcg@1: 0.806375\tvalid_0's ndcg@2: 0.846212\tvalid_0's ndcg@3: 0.866228\tvalid_0's ndcg@4: 0.878296\tvalid_0's ndcg@5: 0.885726\n",
      "[300]\tvalid_0's ndcg@1: 0.806375\tvalid_0's ndcg@2: 0.846189\tvalid_0's ndcg@3: 0.866228\tvalid_0's ndcg@4: 0.878283\tvalid_0's ndcg@5: 0.885731\n"
     ]
    },
    {
     "data": {
      "text/plain": [
       "LGBMRanker(boosting_type='goss', class_weight=None, colsample_bytree=1.0,\n",
       "      importance_type='split', learning_rate=0.1, max_depth=-1,\n",
       "      min_child_samples=20, min_child_weight=0.001, min_split_gain=0.0,\n",
       "      n_estimators=300, n_jobs=-1, num_leaves=100, objective='lambdarank',\n",
       "      random_state=None, reg_alpha=0.0, reg_lambda=0.0, score='ndcg',\n",
       "      silent=True, subsample=0.8, subsample_for_bin=200000,\n",
       "      subsample_freq=-1)"
      ]
     },
     "execution_count": 36,
     "metadata": {},
     "output_type": "execute_result"
    }
   ],
   "source": [
    "model2 = lgb.LGBMRanker(objective='lambdarank',n_estimators= 300, num_leaves=100,learning_rate= 0.1,score='ndcg',\n",
    "                       subsample=0.8,subsample_freq=-1, boosting_type = 'goss')\n",
    "\n",
    "model2.fit(X_train, y_train, group=train_groups, eval_set = [(X_val,y_val)], eval_group=[val_groups])"
   ]
  },
  {
   "cell_type": "code",
   "execution_count": 39,
   "metadata": {},
   "outputs": [
    {
     "ename": "AttributeError",
     "evalue": "Unknown property figsize",
     "output_type": "error",
     "traceback": [
      "\u001b[1;31m---------------------------------------------------------------------------\u001b[0m",
      "\u001b[1;31mAttributeError\u001b[0m                            Traceback (most recent call last)",
      "\u001b[1;32m<ipython-input-39-24bf11047a81>\u001b[0m in \u001b[0;36m<module>\u001b[1;34m\u001b[0m\n\u001b[1;32m----> 1\u001b[1;33m \u001b[0mxgb\u001b[0m\u001b[1;33m.\u001b[0m\u001b[0mplot_importance\u001b[0m\u001b[1;33m(\u001b[0m\u001b[0mmodel3\u001b[0m\u001b[1;33m,\u001b[0m \u001b[0mfigsize\u001b[0m\u001b[1;33m=\u001b[0m\u001b[1;33m(\u001b[0m\u001b[1;36m10\u001b[0m\u001b[1;33m,\u001b[0m\u001b[1;36m10\u001b[0m\u001b[1;33m)\u001b[0m\u001b[1;33m)\u001b[0m\u001b[1;33m\u001b[0m\u001b[1;33m\u001b[0m\u001b[0m\n\u001b[0m",
      "\u001b[1;32mC:\\Users\\Public\\Anaconda\\lib\\site-packages\\xgboost\\plotting.py\u001b[0m in \u001b[0;36mplot_importance\u001b[1;34m(booster, ax, height, xlim, ylim, title, xlabel, ylabel, fmap, importance_type, max_num_features, grid, show_values, **kwargs)\u001b[0m\n\u001b[0;32m     87\u001b[0m \u001b[1;33m\u001b[0m\u001b[0m\n\u001b[0;32m     88\u001b[0m     \u001b[0mylocs\u001b[0m \u001b[1;33m=\u001b[0m \u001b[0mnp\u001b[0m\u001b[1;33m.\u001b[0m\u001b[0marange\u001b[0m\u001b[1;33m(\u001b[0m\u001b[0mlen\u001b[0m\u001b[1;33m(\u001b[0m\u001b[0mvalues\u001b[0m\u001b[1;33m)\u001b[0m\u001b[1;33m)\u001b[0m\u001b[1;33m\u001b[0m\u001b[1;33m\u001b[0m\u001b[0m\n\u001b[1;32m---> 89\u001b[1;33m     \u001b[0max\u001b[0m\u001b[1;33m.\u001b[0m\u001b[0mbarh\u001b[0m\u001b[1;33m(\u001b[0m\u001b[0mylocs\u001b[0m\u001b[1;33m,\u001b[0m \u001b[0mvalues\u001b[0m\u001b[1;33m,\u001b[0m \u001b[0malign\u001b[0m\u001b[1;33m=\u001b[0m\u001b[1;34m'center'\u001b[0m\u001b[1;33m,\u001b[0m \u001b[0mheight\u001b[0m\u001b[1;33m=\u001b[0m\u001b[0mheight\u001b[0m\u001b[1;33m,\u001b[0m \u001b[1;33m**\u001b[0m\u001b[0mkwargs\u001b[0m\u001b[1;33m)\u001b[0m\u001b[1;33m\u001b[0m\u001b[1;33m\u001b[0m\u001b[0m\n\u001b[0m\u001b[0;32m     90\u001b[0m \u001b[1;33m\u001b[0m\u001b[0m\n\u001b[0;32m     91\u001b[0m     \u001b[1;32mif\u001b[0m \u001b[0mshow_values\u001b[0m \u001b[1;32mis\u001b[0m \u001b[1;32mTrue\u001b[0m\u001b[1;33m:\u001b[0m\u001b[1;33m\u001b[0m\u001b[1;33m\u001b[0m\u001b[0m\n",
      "\u001b[1;32mC:\\Users\\Public\\Anaconda\\lib\\site-packages\\matplotlib\\axes\\_axes.py\u001b[0m in \u001b[0;36mbarh\u001b[1;34m(self, y, width, height, left, align, **kwargs)\u001b[0m\n\u001b[0;32m   2461\u001b[0m         \u001b[0mkwargs\u001b[0m\u001b[1;33m.\u001b[0m\u001b[0msetdefault\u001b[0m\u001b[1;33m(\u001b[0m\u001b[1;34m'orientation'\u001b[0m\u001b[1;33m,\u001b[0m \u001b[1;34m'horizontal'\u001b[0m\u001b[1;33m)\u001b[0m\u001b[1;33m\u001b[0m\u001b[1;33m\u001b[0m\u001b[0m\n\u001b[0;32m   2462\u001b[0m         patches = self.bar(x=left, height=height, width=width, bottom=y,\n\u001b[1;32m-> 2463\u001b[1;33m                            align=align, **kwargs)\n\u001b[0m\u001b[0;32m   2464\u001b[0m         \u001b[1;32mreturn\u001b[0m \u001b[0mpatches\u001b[0m\u001b[1;33m\u001b[0m\u001b[1;33m\u001b[0m\u001b[0m\n\u001b[0;32m   2465\u001b[0m \u001b[1;33m\u001b[0m\u001b[0m\n",
      "\u001b[1;32mC:\\Users\\Public\\Anaconda\\lib\\site-packages\\matplotlib\\__init__.py\u001b[0m in \u001b[0;36minner\u001b[1;34m(ax, data, *args, **kwargs)\u001b[0m\n\u001b[0;32m   1808\u001b[0m                         \u001b[1;34m\"the Matplotlib list!)\"\u001b[0m \u001b[1;33m%\u001b[0m \u001b[1;33m(\u001b[0m\u001b[0mlabel_namer\u001b[0m\u001b[1;33m,\u001b[0m \u001b[0mfunc\u001b[0m\u001b[1;33m.\u001b[0m\u001b[0m__name__\u001b[0m\u001b[1;33m)\u001b[0m\u001b[1;33m,\u001b[0m\u001b[1;33m\u001b[0m\u001b[1;33m\u001b[0m\u001b[0m\n\u001b[0;32m   1809\u001b[0m                         RuntimeWarning, stacklevel=2)\n\u001b[1;32m-> 1810\u001b[1;33m             \u001b[1;32mreturn\u001b[0m \u001b[0mfunc\u001b[0m\u001b[1;33m(\u001b[0m\u001b[0max\u001b[0m\u001b[1;33m,\u001b[0m \u001b[1;33m*\u001b[0m\u001b[0margs\u001b[0m\u001b[1;33m,\u001b[0m \u001b[1;33m**\u001b[0m\u001b[0mkwargs\u001b[0m\u001b[1;33m)\u001b[0m\u001b[1;33m\u001b[0m\u001b[1;33m\u001b[0m\u001b[0m\n\u001b[0m\u001b[0;32m   1811\u001b[0m \u001b[1;33m\u001b[0m\u001b[0m\n\u001b[0;32m   1812\u001b[0m         inner.__doc__ = _add_data_doc(inner.__doc__,\n",
      "\u001b[1;32mC:\\Users\\Public\\Anaconda\\lib\\site-packages\\matplotlib\\axes\\_axes.py\u001b[0m in \u001b[0;36mbar\u001b[1;34m(self, x, height, width, bottom, align, **kwargs)\u001b[0m\n\u001b[0;32m   2296\u001b[0m                 \u001b[0mlabel\u001b[0m\u001b[1;33m=\u001b[0m\u001b[1;34m'_nolegend_'\u001b[0m\u001b[1;33m,\u001b[0m\u001b[1;33m\u001b[0m\u001b[1;33m\u001b[0m\u001b[0m\n\u001b[0;32m   2297\u001b[0m                 )\n\u001b[1;32m-> 2298\u001b[1;33m             \u001b[0mr\u001b[0m\u001b[1;33m.\u001b[0m\u001b[0mupdate\u001b[0m\u001b[1;33m(\u001b[0m\u001b[0mkwargs\u001b[0m\u001b[1;33m)\u001b[0m\u001b[1;33m\u001b[0m\u001b[1;33m\u001b[0m\u001b[0m\n\u001b[0m\u001b[0;32m   2299\u001b[0m             \u001b[0mr\u001b[0m\u001b[1;33m.\u001b[0m\u001b[0mget_path\u001b[0m\u001b[1;33m(\u001b[0m\u001b[1;33m)\u001b[0m\u001b[1;33m.\u001b[0m\u001b[0m_interpolation_steps\u001b[0m \u001b[1;33m=\u001b[0m \u001b[1;36m100\u001b[0m\u001b[1;33m\u001b[0m\u001b[1;33m\u001b[0m\u001b[0m\n\u001b[0;32m   2300\u001b[0m             \u001b[1;32mif\u001b[0m \u001b[0morientation\u001b[0m \u001b[1;33m==\u001b[0m \u001b[1;34m'vertical'\u001b[0m\u001b[1;33m:\u001b[0m\u001b[1;33m\u001b[0m\u001b[1;33m\u001b[0m\u001b[0m\n",
      "\u001b[1;32mC:\\Users\\Public\\Anaconda\\lib\\site-packages\\matplotlib\\artist.py\u001b[0m in \u001b[0;36mupdate\u001b[1;34m(self, props)\u001b[0m\n\u001b[0;32m    914\u001b[0m \u001b[1;33m\u001b[0m\u001b[0m\n\u001b[0;32m    915\u001b[0m         \u001b[1;32mwith\u001b[0m \u001b[0mcbook\u001b[0m\u001b[1;33m.\u001b[0m\u001b[0m_setattr_cm\u001b[0m\u001b[1;33m(\u001b[0m\u001b[0mself\u001b[0m\u001b[1;33m,\u001b[0m \u001b[0meventson\u001b[0m\u001b[1;33m=\u001b[0m\u001b[1;32mFalse\u001b[0m\u001b[1;33m)\u001b[0m\u001b[1;33m:\u001b[0m\u001b[1;33m\u001b[0m\u001b[1;33m\u001b[0m\u001b[0m\n\u001b[1;32m--> 916\u001b[1;33m             \u001b[0mret\u001b[0m \u001b[1;33m=\u001b[0m \u001b[1;33m[\u001b[0m\u001b[0m_update_property\u001b[0m\u001b[1;33m(\u001b[0m\u001b[0mself\u001b[0m\u001b[1;33m,\u001b[0m \u001b[0mk\u001b[0m\u001b[1;33m,\u001b[0m \u001b[0mv\u001b[0m\u001b[1;33m)\u001b[0m \u001b[1;32mfor\u001b[0m \u001b[0mk\u001b[0m\u001b[1;33m,\u001b[0m \u001b[0mv\u001b[0m \u001b[1;32min\u001b[0m \u001b[0mprops\u001b[0m\u001b[1;33m.\u001b[0m\u001b[0mitems\u001b[0m\u001b[1;33m(\u001b[0m\u001b[1;33m)\u001b[0m\u001b[1;33m]\u001b[0m\u001b[1;33m\u001b[0m\u001b[1;33m\u001b[0m\u001b[0m\n\u001b[0m\u001b[0;32m    917\u001b[0m \u001b[1;33m\u001b[0m\u001b[0m\n\u001b[0;32m    918\u001b[0m         \u001b[1;32mif\u001b[0m \u001b[0mlen\u001b[0m\u001b[1;33m(\u001b[0m\u001b[0mret\u001b[0m\u001b[1;33m)\u001b[0m\u001b[1;33m:\u001b[0m\u001b[1;33m\u001b[0m\u001b[1;33m\u001b[0m\u001b[0m\n",
      "\u001b[1;32mC:\\Users\\Public\\Anaconda\\lib\\site-packages\\matplotlib\\artist.py\u001b[0m in \u001b[0;36m<listcomp>\u001b[1;34m(.0)\u001b[0m\n\u001b[0;32m    914\u001b[0m \u001b[1;33m\u001b[0m\u001b[0m\n\u001b[0;32m    915\u001b[0m         \u001b[1;32mwith\u001b[0m \u001b[0mcbook\u001b[0m\u001b[1;33m.\u001b[0m\u001b[0m_setattr_cm\u001b[0m\u001b[1;33m(\u001b[0m\u001b[0mself\u001b[0m\u001b[1;33m,\u001b[0m \u001b[0meventson\u001b[0m\u001b[1;33m=\u001b[0m\u001b[1;32mFalse\u001b[0m\u001b[1;33m)\u001b[0m\u001b[1;33m:\u001b[0m\u001b[1;33m\u001b[0m\u001b[1;33m\u001b[0m\u001b[0m\n\u001b[1;32m--> 916\u001b[1;33m             \u001b[0mret\u001b[0m \u001b[1;33m=\u001b[0m \u001b[1;33m[\u001b[0m\u001b[0m_update_property\u001b[0m\u001b[1;33m(\u001b[0m\u001b[0mself\u001b[0m\u001b[1;33m,\u001b[0m \u001b[0mk\u001b[0m\u001b[1;33m,\u001b[0m \u001b[0mv\u001b[0m\u001b[1;33m)\u001b[0m \u001b[1;32mfor\u001b[0m \u001b[0mk\u001b[0m\u001b[1;33m,\u001b[0m \u001b[0mv\u001b[0m \u001b[1;32min\u001b[0m \u001b[0mprops\u001b[0m\u001b[1;33m.\u001b[0m\u001b[0mitems\u001b[0m\u001b[1;33m(\u001b[0m\u001b[1;33m)\u001b[0m\u001b[1;33m]\u001b[0m\u001b[1;33m\u001b[0m\u001b[1;33m\u001b[0m\u001b[0m\n\u001b[0m\u001b[0;32m    917\u001b[0m \u001b[1;33m\u001b[0m\u001b[0m\n\u001b[0;32m    918\u001b[0m         \u001b[1;32mif\u001b[0m \u001b[0mlen\u001b[0m\u001b[1;33m(\u001b[0m\u001b[0mret\u001b[0m\u001b[1;33m)\u001b[0m\u001b[1;33m:\u001b[0m\u001b[1;33m\u001b[0m\u001b[1;33m\u001b[0m\u001b[0m\n",
      "\u001b[1;32mC:\\Users\\Public\\Anaconda\\lib\\site-packages\\matplotlib\\artist.py\u001b[0m in \u001b[0;36m_update_property\u001b[1;34m(self, k, v)\u001b[0m\n\u001b[0;32m    910\u001b[0m                 \u001b[0mfunc\u001b[0m \u001b[1;33m=\u001b[0m \u001b[0mgetattr\u001b[0m\u001b[1;33m(\u001b[0m\u001b[0mself\u001b[0m\u001b[1;33m,\u001b[0m \u001b[1;34m'set_'\u001b[0m \u001b[1;33m+\u001b[0m \u001b[0mk\u001b[0m\u001b[1;33m,\u001b[0m \u001b[1;32mNone\u001b[0m\u001b[1;33m)\u001b[0m\u001b[1;33m\u001b[0m\u001b[1;33m\u001b[0m\u001b[0m\n\u001b[0;32m    911\u001b[0m                 \u001b[1;32mif\u001b[0m \u001b[1;32mnot\u001b[0m \u001b[0mcallable\u001b[0m\u001b[1;33m(\u001b[0m\u001b[0mfunc\u001b[0m\u001b[1;33m)\u001b[0m\u001b[1;33m:\u001b[0m\u001b[1;33m\u001b[0m\u001b[1;33m\u001b[0m\u001b[0m\n\u001b[1;32m--> 912\u001b[1;33m                     \u001b[1;32mraise\u001b[0m \u001b[0mAttributeError\u001b[0m\u001b[1;33m(\u001b[0m\u001b[1;34m'Unknown property %s'\u001b[0m \u001b[1;33m%\u001b[0m \u001b[0mk\u001b[0m\u001b[1;33m)\u001b[0m\u001b[1;33m\u001b[0m\u001b[1;33m\u001b[0m\u001b[0m\n\u001b[0m\u001b[0;32m    913\u001b[0m                 \u001b[1;32mreturn\u001b[0m \u001b[0mfunc\u001b[0m\u001b[1;33m(\u001b[0m\u001b[0mv\u001b[0m\u001b[1;33m)\u001b[0m\u001b[1;33m\u001b[0m\u001b[1;33m\u001b[0m\u001b[0m\n\u001b[0;32m    914\u001b[0m \u001b[1;33m\u001b[0m\u001b[0m\n",
      "\u001b[1;31mAttributeError\u001b[0m: Unknown property figsize"
     ]
    },
    {
     "data": {
      "image/png": "[encoded data removed]",
      "text/plain": [
       "<Figure size 432x288 with 1 Axes>"
      ]
     },
     "metadata": {
      "needs_background": "light"
     },
     "output_type": "display_data"
    }
   ],
   "source": [
    "xgb.plot_importance(model3, figsize=(10,10))"
   ]
  },
  {
   "cell_type": "code",
   "execution_count": 38,
   "metadata": {},
   "outputs": [],
   "source": [
    "evaluation_lgb = model2.evals_result_"
   ]
  },
  {
   "cell_type": "code",
   "execution_count": 39,
   "metadata": {},
   "outputs": [
    {
     "name": "stdout",
     "output_type": "stream",
     "text": [
      "0.8857307653330544\n"
     ]
    }
   ],
   "source": [
    "print(evaluation_lgb['valid_0']['ndcg@5'][-1])"
   ]
  },
  {
   "cell_type": "code",
   "execution_count": 40,
   "metadata": {},
   "outputs": [
    {
     "ename": "NameError",
     "evalue": "name 'evaluation_lgb' is not defined",
     "output_type": "error",
     "traceback": [
      "\u001b[1;31m---------------------------------------------------------------------------\u001b[0m",
      "\u001b[1;31mNameError\u001b[0m                                 Traceback (most recent call last)",
      "\u001b[1;32m<ipython-input-40-64f016130f96>\u001b[0m in \u001b[0;36m<module>\u001b[1;34m\u001b[0m\n\u001b[0;32m      1\u001b[0m \u001b[1;32mfrom\u001b[0m \u001b[0mmatplotlib\u001b[0m \u001b[1;32mimport\u001b[0m \u001b[0mpyplot\u001b[0m\u001b[1;33m\u001b[0m\u001b[1;33m\u001b[0m\u001b[0m\n\u001b[0;32m      2\u001b[0m \u001b[1;31m# plot learning curves\u001b[0m\u001b[1;33m\u001b[0m\u001b[1;33m\u001b[0m\u001b[1;33m\u001b[0m\u001b[0m\n\u001b[1;32m----> 3\u001b[1;33m \u001b[0mpyplot\u001b[0m\u001b[1;33m.\u001b[0m\u001b[0mplot\u001b[0m\u001b[1;33m(\u001b[0m\u001b[0mevaluation_lgb\u001b[0m\u001b[1;33m[\u001b[0m\u001b[1;34m'valid_0'\u001b[0m\u001b[1;33m]\u001b[0m\u001b[1;33m[\u001b[0m\u001b[1;34m'ndcg@5'\u001b[0m\u001b[1;33m]\u001b[0m\u001b[1;33m,\u001b[0m \u001b[0mlabel\u001b[0m\u001b[1;33m=\u001b[0m\u001b[1;34m'train'\u001b[0m\u001b[1;33m)\u001b[0m\u001b[1;33m\u001b[0m\u001b[1;33m\u001b[0m\u001b[0m\n\u001b[0m\u001b[0;32m      4\u001b[0m \u001b[1;31m# show the legend\u001b[0m\u001b[1;33m\u001b[0m\u001b[1;33m\u001b[0m\u001b[1;33m\u001b[0m\u001b[0m\n\u001b[0;32m      5\u001b[0m \u001b[0mpyplot\u001b[0m\u001b[1;33m.\u001b[0m\u001b[0mlegend\u001b[0m\u001b[1;33m(\u001b[0m\u001b[1;33m)\u001b[0m\u001b[1;33m\u001b[0m\u001b[1;33m\u001b[0m\u001b[0m\n",
      "\u001b[1;31mNameError\u001b[0m: name 'evaluation_lgb' is not defined"
     ]
    }
   ],
   "source": [
    "from matplotlib import pyplot\n",
    "# plot learning curves\n",
    "pyplot.plot(evaluation_lgb['valid_0']['ndcg@5'], label='train')\n",
    "# show the legend\n",
    "pyplot.legend()\n",
    "# show the plot\n",
    "pyplot.show()"
   ]
  },
  {
   "cell_type": "code",
   "execution_count": 40,
   "metadata": {
    "scrolled": true
   },
   "outputs": [
    {
     "name": "stderr",
     "output_type": "stream",
     "text": [
      "C:\\Users\\Public\\Anaconda\\lib\\site-packages\\lightgbm\\plotting.py:328: UserWarning: More than one metric available, picking one to plot.\n",
      "  _log_warning(\"More than one metric available, picking one to plot.\")\n"
     ]
    },
    {
     "data": {
      "text/plain": [
       "<matplotlib.axes._subplots.AxesSubplot at 0x2900f34da58>"
      ]
     },
     "execution_count": 40,
     "metadata": {},
     "output_type": "execute_result"
    },
    {
     "data": {
      "image/png": "[encoded data removed]",
      "text/plain": [
       "<Figure size 432x288 with 1 Axes>"
      ]
     },
     "metadata": {
      "needs_background": "light"
     },
     "output_type": "display_data"
    }
   ],
   "source": [
    "lgb.plot_metric(model2)"
   ]
  },
  {
   "cell_type": "markdown",
   "metadata": {},
   "source": [
    "# XGBoost model"
   ]
  },
  {
   "cell_type": "code",
   "execution_count": 34,
   "metadata": {},
   "outputs": [
    {
     "name": "stderr",
     "output_type": "stream",
     "text": [
      "C:\\Users\\Public\\Anaconda\\lib\\site-packages\\xgboost\\core.py:430: FutureWarning: Pass `group` as keyword args.  Passing these as positional arguments will be considered as error in future releases.\n",
      "  format(\", \".join(args_msg)), FutureWarning)\n"
     ]
    },
    {
     "data": {
      "text/plain": [
       "XGBRanker(base_score=0.5, booster='dart', colsample_bylevel=1,\n",
       "     colsample_bynode=1, colsample_bytree=1, gamma=1.0, gpu_id=-1,\n",
       "     importance_type='gain', interaction_constraints='', learning_rate=0.1,\n",
       "     max_delta_step=0, max_depth=8, min_child_weight=0.1, missing=nan,\n",
       "     monotone_constraints='()', n_estimators=200, n_jobs=4,\n",
       "     num_parallel_tree=1, objective='rank:pairwise', random_state=0,\n",
       "     reg_alpha=0, reg_lambda=1, scale_pos_weight=None, subsample=0.7,\n",
       "     tree_method='exact', validate_parameters=1, verbosity=None)"
      ]
     },
     "execution_count": 34,
     "metadata": {},
     "output_type": "execute_result"
    }
   ],
   "source": [
    "import xgboost as xgb\n",
    "\n",
    "model3 = xgb.sklearn.XGBRanker(objective = 'rank:pairwise', learning_rate= 0.1,gamma= 1.0, min_child_weight= 0.1,\n",
    "                                n_estimators= 200,subsample=0.7,max_depth=8,booster='dart', n_jobs = 4)\n",
    "#gbtree or dart\n",
    "model3.fit(X_train, y_train, train_groups, eval_set=[(X_val, y_val)], eval_group=[val_groups],eval_metric = 'ndcg')"
   ]
  },
  {
   "cell_type": "code",
   "execution_count": 35,
   "metadata": {},
   "outputs": [],
   "source": [
    "evaluation_xgb = model3.evals_result_"
   ]
  },
  {
   "cell_type": "code",
   "execution_count": 36,
   "metadata": {},
   "outputs": [
    {
     "name": "stdout",
     "output_type": "stream",
     "text": [
      "0.899272\n"
     ]
    }
   ],
   "source": [
    "print(evaluation_xgb['validation_0']['ndcg'][-1])"
   ]
  },
  {
   "cell_type": "code",
   "execution_count": 37,
   "metadata": {},
   "outputs": [
    {
     "data": {
      "image/png": "[encoded data removed]",
      "text/plain": [
       "<Figure size 432x288 with 1 Axes>"
      ]
     },
     "metadata": {
      "needs_background": "light"
     },
     "output_type": "display_data"
    }
   ],
   "source": [
    "from matplotlib import pyplot\n",
    "# plot learning curves\n",
    "pyplot.plot(evaluation_xgb['validation_0']['ndcg'], label='train')\n",
    "# show the legend\n",
    "pyplot.legend()\n",
    "# show the plot\n",
    "pyplot.show()"
   ]
  },
  {
   "cell_type": "markdown",
   "metadata": {},
   "source": [
    "# Preparing the test data"
   ]
  },
  {
   "cell_type": "code",
   "execution_count": 22,
   "metadata": {},
   "outputs": [],
   "source": [
    "test_data = pd.read_csv('test_set_VU_DM.csv') "
   ]
  },
  {
   "cell_type": "code",
   "execution_count": 23,
   "metadata": {},
   "outputs": [],
   "source": [
    "test_data['date_time'] = pd.to_datetime(test_data['date_time'])\n",
    "\n",
    "test_data['Cin_hour'] = test_data[\"date_time\"].apply(lambda x: x.hour)\n",
    "test_data['Cin_day'] = test_data[\"date_time\"].apply(lambda x: x.day)\n",
    "test_data['Cin_month'] = test_data[\"date_time\"].apply(lambda x: x.month)\n",
    "test_data['Cin_quarter'] = test_data[\"date_time\"].apply(lambda x: x.quarter)\n",
    "test_data['Cin_day_of_week'] = test_data['date_time'].dt.dayofweek+1 #we don't want zeros\n",
    "\n",
    "test_data.drop('date_time',axis=1,inplace=True)"
   ]
  },
  {
   "cell_type": "code",
   "execution_count": 24,
   "metadata": {},
   "outputs": [],
   "source": [
    "test_data['priceRank'] = test_data.groupby('srch_id')['price_usd'].rank()\n",
    "test_data['starRank'] = test_data.groupby('srch_id')['prop_starrating'].rank()\n",
    "test_data['reviewRank'] = test_data.groupby('srch_id')['prop_review_score'].rank()\n",
    "test_data['location1Rank'] = test_data.groupby('srch_id')['prop_location_score1'].rank()\n",
    "test_data['location2Rank'] = test_data.groupby('srch_id')['prop_location_score2'].rank()\n",
    "test_data['histpriceRank'] = test_data.groupby('srch_id')['prop_log_historical_price'].rank()"
   ]
  },
  {
   "cell_type": "code",
   "execution_count": 25,
   "metadata": {},
   "outputs": [],
   "source": [
    "test_data['rating_diff']=abs(test_data['visitor_hist_starrating']-test_data['prop_starrating'])\n",
    "test_data['rating_diff']=test_data['rating_diff'].fillna(test_data['rating_diff'].mean())\n",
    "\n",
    "test_data['price_diff']=abs(test_data['visitor_hist_adr_usd']-test_data['price_usd'])\n",
    "test_data['price_diff']=test_data['price_diff'].fillna(test_data['price_diff'].mean())"
   ]
  },
  {
   "cell_type": "code",
   "execution_count": 26,
   "metadata": {},
   "outputs": [],
   "source": [
    "test_data['competitor_rate'] = (test_data.comp1_rate + test_data.comp2_rate + test_data.comp3_rate +\n",
    "                                test_data.comp4_rate + test_data.comp5_rate + test_data.comp6_rate +\n",
    "                                test_data.comp7_rate + test_data.comp8_rate)\n",
    "\n",
    "test_data['competitor_inv'] = (test_data.comp1_inv + test_data.comp2_inv + test_data.comp3_inv +\n",
    "                               test_data.comp4_inv + test_data.comp5_inv + test_data.comp6_inv +\n",
    "                               test_data.comp7_inv + test_data.comp8_inv)\n",
    "\n",
    "test_data['competitor_rpd'] = (  test_data.comp1_rate_percent_diff + test_data.comp2_rate_percent_diff\n",
    "                               + test_data.comp3_rate_percent_diff + test_data.comp4_rate_percent_diff\n",
    "                               + test_data.comp5_rate_percent_diff + test_data.comp6_rate_percent_diff\n",
    "                               + test_data.comp7_rate_percent_diff + test_data.comp8_rate_percent_diff)/8/100\n",
    "\n",
    "test_data.drop('comp1_rate',axis=1,inplace=True)\n",
    "test_data.drop('comp2_rate',axis=1,inplace=True)\n",
    "test_data.drop('comp3_rate',axis=1,inplace=True)\n",
    "test_data.drop('comp4_rate',axis=1,inplace=True)\n",
    "test_data.drop('comp5_rate',axis=1,inplace=True)\n",
    "test_data.drop('comp6_rate',axis=1,inplace=True)\n",
    "test_data.drop('comp7_rate',axis=1,inplace=True)\n",
    "test_data.drop('comp8_rate',axis=1,inplace=True)\n",
    "test_data.drop('comp1_inv',axis=1,inplace=True)\n",
    "test_data.drop('comp1_rate_percent_diff',axis=1,inplace=True)\n",
    "test_data.drop('comp2_inv',axis=1,inplace=True)\n",
    "test_data.drop('comp2_rate_percent_diff',axis=1,inplace=True)\n",
    "test_data.drop('comp3_inv',axis=1,inplace=True)\n",
    "test_data.drop('comp3_rate_percent_diff',axis=1,inplace=True)\n",
    "test_data.drop('comp4_inv',axis=1,inplace=True)\n",
    "test_data.drop('comp4_rate_percent_diff',axis=1,inplace=True)\n",
    "test_data.drop('comp5_inv',axis=1,inplace=True)\n",
    "test_data.drop('comp5_rate_percent_diff',axis=1,inplace=True)\n",
    "test_data.drop('comp6_inv',axis=1,inplace=True)\n",
    "test_data.drop('comp6_rate_percent_diff',axis=1,inplace=True)\n",
    "test_data.drop('comp7_inv',axis=1,inplace=True)\n",
    "test_data.drop('comp7_rate_percent_diff',axis=1,inplace=True)\n",
    "test_data.drop('comp8_inv',axis=1,inplace=True)\n",
    "test_data.drop('comp8_rate_percent_diff',axis=1,inplace=True)"
   ]
  },
  {
   "cell_type": "code",
   "execution_count": 27,
   "metadata": {},
   "outputs": [],
   "source": [
    "test_data = test_data[test_data.price_usd < 1800]"
   ]
  },
  {
   "cell_type": "code",
   "execution_count": 28,
   "metadata": {},
   "outputs": [],
   "source": [
    "test_data = test_data.fillna(0)"
   ]
  },
  {
   "cell_type": "code",
   "execution_count": 29,
   "metadata": {},
   "outputs": [],
   "source": [
    "clustering_kmeans = MiniBatchKMeans(n_clusters=100)\n",
    "test_data['hotel_cluster'] = clustering_kmeans.fit_predict(test_data)"
   ]
  },
  {
   "cell_type": "code",
   "execution_count": 30,
   "metadata": {},
   "outputs": [],
   "source": [
    "test_data = test_data.sort_values('srch_id')\n",
    "test_data = test_data.reset_index(drop =True)\n",
    "test_data_search_ids = test_data.srch_id\n",
    "\n",
    "test_data_groups = test_data.srch_id.value_counts(sort=True,ascending=True).sort_index()\n",
    "\n",
    "srch_id = test_data.srch_id\n",
    "prop_id = test_data.prop_id\n",
    "test_data.drop(['srch_id'],axis=1,inplace=True)"
   ]
  },
  {
   "cell_type": "code",
   "execution_count": 31,
   "metadata": {},
   "outputs": [],
   "source": [
    "def create_result(rankings,srch_id,prop_id):\n",
    "    predictions = pd.DataFrame(rankings,columns=['probs'])\n",
    "    predictions = predictions.join(srch_id)\n",
    "    predictions = predictions.join(prop_id)\n",
    "    final_table = predictions.sort_values(by=['srch_id', 'probs'], ascending=[True, False])\n",
    "    final_table.reset_index(drop = True, inplace = True)\n",
    "    final_table = final_table.drop('probs',axis =1)\n",
    "    \n",
    "    return(final_table)"
   ]
  },
  {
   "cell_type": "markdown",
   "metadata": {},
   "source": [
    "# Method 1 - LightGBM"
   ]
  },
  {
   "cell_type": "code",
   "execution_count": 58,
   "metadata": {},
   "outputs": [],
   "source": [
    "rankings_lgb = model2.predict(test_data)"
   ]
  },
  {
   "cell_type": "code",
   "execution_count": 59,
   "metadata": {},
   "outputs": [],
   "source": [
    "final_table_lgb2 = create_result(rankings_lgb,srch_id,prop_id)\n",
    "final_table_lgb2.to_csv('rankings_lgb_cluster_booking4.csv',index = False)"
   ]
  },
  {
   "cell_type": "markdown",
   "metadata": {},
   "source": [
    "# Method 2 - XGBoost"
   ]
  },
  {
   "cell_type": "code",
   "execution_count": 32,
   "metadata": {},
   "outputs": [
    {
     "name": "stderr",
     "output_type": "stream",
     "text": [
      "C:\\Users\\Public\\Anaconda\\lib\\site-packages\\xgboost\\data.py:114: UserWarning: Use subset (sliced data) of np.ndarray is not recommended because it will generate extra copies and increase memory consumption\n",
      "  \"because it will generate extra copies and increase \" +\n"
     ]
    }
   ],
   "source": [
    "rankings_xgb = model3.predict(test_data)"
   ]
  },
  {
   "cell_type": "code",
   "execution_count": 33,
   "metadata": {},
   "outputs": [],
   "source": [
    "final_table_xgb = create_result(rankings_xgb,srch_id,prop_id)\n",
    "final_table_xgb.to_csv('rankings_xgb_cluster_300iterations.csv',index = False)"
   ]
  },
  {
   "cell_type": "markdown",
   "metadata": {},
   "source": [
    "Compare LGB with XGB"
   ]
  },
  {
   "cell_type": "code",
   "execution_count": 62,
   "metadata": {},
   "outputs": [
    {
     "name": "stdout",
     "output_type": "stream",
     "text": [
      "         srch_id  prob_id_lgb  prob_id_xgb\n",
      "0              1        99484        99484\n",
      "1              1        54937        54937\n",
      "2              1        61934        61934\n",
      "3              1        24194        24194\n",
      "4              1        28181        28181\n",
      "5              1        34263        63894\n",
      "6              1        63894        82231\n",
      "7              1        82231        34263\n",
      "8              1        50162        50162\n",
      "9              1        72090         5543\n",
      "10             1        90385        90385\n",
      "11             1         3180        78599\n",
      "12             1         5543        72090\n",
      "13             1        95031         3180\n",
      "14             1       123675       123675\n",
      "15             1        94729        95031\n",
      "16             1        74045        74045\n",
      "17             1       128085        94729\n",
      "18             1        22393        22393\n",
      "19             1        14142       128085\n",
      "20             1        78599        14142\n",
      "21             1        37567        73666\n",
      "22             1        89466        37567\n",
      "23             1       139162       139162\n",
      "24             1        73666        89466\n",
      "25             1       128871        56050\n",
      "26             1        61632       128871\n",
      "27             1        56050       134992\n",
      "28             1       134992        61632\n",
      "29             3       131940       131940\n",
      "...          ...          ...          ...\n",
      "4953249   332785        84583        84583\n",
      "4953250   332785        19162       122587\n",
      "4953251   332786       103457       103457\n",
      "4953252   332786        36331        36331\n",
      "4953253   332786        45449        45449\n",
      "4953254   332786        54994       117267\n",
      "4953255   332786       128251        59590\n",
      "4953256   332786        59590       128251\n",
      "4953257   332786        46497        54994\n",
      "4953258   332786       135414       135414\n",
      "4953259   332786       117267        46497\n",
      "4953260   332786        63164        19265\n",
      "4953261   332786       127402       127402\n",
      "4953262   332786        43698        63164\n",
      "4953263   332786       125075        43698\n",
      "4953264   332786       101905       125075\n",
      "4953265   332786        15662        29028\n",
      "4953266   332786        29028        15662\n",
      "4953267   332786        92950       113183\n",
      "4953268   332786        54775       101905\n",
      "4953269   332786        19265        92950\n",
      "4953270   332786       113183        54775\n",
      "4953271   332786        98306        98306\n",
      "4953272   332787        22854        22854\n",
      "4953273   332787        33959        33959\n",
      "4953274   332787        29018        29018\n",
      "4953275   332787        32019        32019\n",
      "4953276   332787        94437        94437\n",
      "4953277   332787        99509        99509\n",
      "4953278   332787        35240        35240\n",
      "\n",
      "[4953279 rows x 3 columns]\n"
     ]
    }
   ],
   "source": [
    "table = pd.DataFrame()\n",
    "table['srch_id'] = srch_id\n",
    "table['prob_id_lgb'] = final_table_lgb2['prop_id']\n",
    "table['prob_id_xgb'] = final_table_xgb['prop_id']\n",
    "print(table)"
   ]
  },
  {
   "cell_type": "code",
   "execution_count": null,
   "metadata": {},
   "outputs": [],
   "source": []
  }
 ],
 "metadata": {
  "kernelspec": {
   "display_name": "Python 3",
   "language": "python",
   "name": "python3"
  },
  "language_info": {
   "codemirror_mode": {
    "name": "ipython",
    "version": 3
   },
   "file_extension": ".py",
   "mimetype": "text/x-python",
   "name": "python",
   "nbconvert_exporter": "python",
   "pygments_lexer": "ipython3",
   "version": "3.8.8"
  },
  "varInspector": {
   "cols": {
    "lenName": 16,
    "lenType": 16,
    "lenVar": 40
   },
   "kernels_config": {
    "python": {
     "delete_cmd_postfix": "",
     "delete_cmd_prefix": "del ",
     "library": "var_list.py",
     "varRefreshCmd": "print(var_dic_list())"
    },
    "r": {
     "delete_cmd_postfix": ") ",
     "delete_cmd_prefix": "rm(",
     "library": "var_list.r",
     "varRefreshCmd": "cat(var_dic_list()) "
    }
   },
   "position": {
    "height": "301px",
    "left": "1027px",
    "right": "20px",
    "top": "33px",
    "width": "492.6px"
   },
   "types_to_exclude": [
    "module",
    "function",
    "builtin_function_or_method",
    "instance",
    "_Feature"
   ],
   "window_display": true
  }
 },
 "nbformat": 4,
 "nbformat_minor": 4
}
