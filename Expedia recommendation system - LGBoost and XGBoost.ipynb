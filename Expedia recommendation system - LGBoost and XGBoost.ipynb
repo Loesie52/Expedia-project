{
 "cells": [
  {
   "cell_type": "markdown",
   "metadata": {},
   "source": [
    "# Expedia recommendation"
   ]
  },
  {
   "cell_type": "markdown",
   "metadata": {},
   "source": [
    "From statistics about liked and disliked hotels, we're going to create a model to predict wether a particular user will like or dislike the hotel\n",
    "\n",
    "Summary :\n",
    "\n",
    "1. Data Collection\n",
    "2. Feature engineering\n",
    "3. Methodology\n",
    "4. Testing on test data"
   ]
  },
  {
   "cell_type": "markdown",
   "metadata": {},
   "source": [
    "## 1. Data Collection"
   ]
  },
  {
   "cell_type": "markdown",
   "metadata": {},
   "source": [
    "A training set of .... rows and a test set of .... rows is given in a csv file"
   ]
  },
  {
   "cell_type": "markdown",
   "metadata": {},
   "source": [
    "| Field | Data Type | Description |\n",
    "| --- | --- | --- |\n",
    "| srch_id | Date/time | Date and time of the search |\n",
    "| date_time | Integer | ID of the Expedia point of sale (i.e. Expedia.com, Expedia.co.uk, Expedia.co.jp, ..) |\n",
    "| site_id | Integer | The ID of the search |\n",
    "| visitor_location_country_id | Integer | The ID of the country the customer is located |\n",
    "| visitor_hist_starrating | Float | The mean star rating of hotels the customer has previously purchased; null signifies there is no purchase history on the customer |\n",
    "| visitor_hist_adr_usd | Float | Themean price per night (in US$) of the hotels the customer has previously purchased; null signifies there is no purchase history on the customer |\n",
    "| prop_country_id | Integer | The ID of the country the hotel is located in |\n",
    "| prop_id | Integer | The ID of the hotel |\n",
    "| prop_starrating | Integer |  The star rating of the hotel, from 1 to 5, in increments of 1. A 0 indicates the property has no\n",
    "stars, the star rating is not known or cannot be publicized |\n",
    "| prop_review_score | Float | The mean customer review score for the hotel on a scale out of 5, rounded to 0.5 increments.\n",
    "A 0 means there have been no reviews, null that the information is not available |\n",
    "| prop_brand_bool | Integer | +1 if the hotel is part of a major hotel chain; 0 if it is an independent hotel |\n",
    "| prop_location_score1 | Float | A (first) score outlining the desirability of a hotel’s location |\n",
    "| prop_location_score2 | Float | A (second) score outlining the desirability of the hotel’s location |\n",
    "| prop_log_historical_price | Float | The logarithm of themean price of the hotel over the last trading period. A 0 will occur if the\n",
    "hotel was not sold in that period |\n",
    "| price_usd | Float | Displayed price of the hotel for the given search. Note that different countries have different\n",
    "conventions regarding displaying taxes and fees and the value may be per night or for the\n",
    "whole stay |\n",
    "| promotion_flag | Integer | +1 if the hotel had a sale price promotion specifically displayed |\n",
    "| srch_destination_id | Integer | ID of the destination where the hotel search was performed |\n",
    "| srch_length_of_stay | Integer | Number of nights stay that was searched |\n",
    "| srch_booking_window | Integer | Number of days in the future the hotel stay started from the search date |\n",
    "| srch_adults_count | Integer | The number of adults specified in the hotel room |\n",
    "| srch_children_count | Integer | The number of (extra occupancy) children specified in the hotel room |\n",
    "| srch_room_count | Integer | Number of hotel rooms specified in the search |\n",
    "| srch_saturday_night_bool | Boolean | +1 if the stay includes a Saturday night, starts fromThursday with a length of stay is less than or equal to 4 nights (i.e. weekend); otherwise 0 |\n",
    "| srch_query_affinity_score | Float | The log of the probability a hotel will be clicked on in Internet searches (hence the values are negative) A null signifies there are no data (i.e. hotel did not register in any searches) |\n",
    "| orig_destination_distance | Float | Physical distance between the hotel and the customer at the time of search. A null means the distance could not be calculated |\n",
    "| random_bool | Boolean | +1 when the displayed sort was random, 0 when the normal sort order was displayed |\n",
    "| comp1_rate | Integer | +1 if Expedia has a lower price than competitor 1 for the hotel; 0 if the same; -1 if Expedia’s\n",
    "price is higher than competitor 1; null signifies there is no competitive data |\n",
    "| comp1_inv | Integer | +1 if competitor 1 does not have availability in the hotel; 0 if both Expedia and competitor 1\n",
    "have availability; null signifies there is no competitive data |\n",
    "| comp1_rate_percent_diff | Float | The absolute percentage difference (if one exists) between Expedia and competitor 1’s price\n",
    "(Expedia’s price the denominator); null signifies there is no competitive data |\n",
    "| comp2_rate |  | |\n",
    "| comp2_inv |  | |\n",
    "| comp2_rate_percent_diff |  | |\n",
    "| ... |  | |\n",
    "| comp8_rate |  | |\n",
    "| comp8_in |  | |\n",
    "| comp8_rate_percent_diff |  | |\n",
    "| --- | --- | --- |\n",
    "| Training set only |\n",
    "| position | Integer | Hotel position on Expedia’s search results page. This is only provided for the training data,\n",
    "but not the test data |\n",
    "| click_bool | Boolean | 1 if the user clicked on the property, 0 if not |\n",
    "| booking_bool | Boolean | 1 if the user booked the property, 0 if not |\n",
    "| gross_booking_usd | Float | Total value of the transaction. This can differ from the price_usd due to taxes, fees, conventions\n",
    "on multiple day bookings and purchase of a room type other than the one shown in the\n",
    "search |\n",
    "\n",
    "\n"
   ]
  },
  {
   "cell_type": "markdown",
   "metadata": {},
   "source": [
    "## 2. Feature engineering"
   ]
  },
  {
   "cell_type": "markdown",
   "metadata": {},
   "source": [
    "1. Prediction value\n",
    "2. Ranking (price ranking, star rate ranking, review score ranking, location score ranking)\n",
    "3. Competitor rate\n",
    "4. Datetime\n",
    "5. Rating and price difference\n",
    "6. Clusters\n"
   ]
  },
  {
   "cell_type": "code",
   "execution_count": null,
   "metadata": {},
   "outputs": [],
   "source": []
  },
  {
   "cell_type": "code",
   "execution_count": null,
   "metadata": {},
   "outputs": [],
   "source": []
  },
  {
   "cell_type": "code",
   "execution_count": 2,
   "metadata": {},
   "outputs": [],
   "source": [
    "import pandas as pd \n",
    "import numpy as np\n",
    "import matplotlib.pyplot as plt\n",
    "import seaborn as sns\n",
    "import pickle\n",
    "\n",
    "from sklearn.decomposition import PCA\n",
    "from sklearn.cluster import KMeans\n",
    "from sklearn.cluster import MiniBatchKMeans\n",
    "\n",
    "from sklearn.feature_selection import SelectKBest\n",
    "from sklearn.feature_selection import chi2\n",
    "\n",
    "import lightgbm as lgb"
   ]
  },
  {
   "cell_type": "markdown",
   "metadata": {},
   "source": [
    "## 1. Data collection"
   ]
  },
  {
   "cell_type": "code",
   "execution_count": 3,
   "metadata": {},
   "outputs": [],
   "source": [
    "training_data = pd.read_csv('training_set_VU_DM.csv') "
   ]
  },
  {
   "cell_type": "markdown",
   "metadata": {},
   "source": [
    "## 2. Feature engineering"
   ]
  },
  {
   "cell_type": "code",
   "execution_count": 4,
   "metadata": {},
   "outputs": [],
   "source": [
    "training_data['date_time'] = pd.to_datetime(training_data['date_time'])\n",
    "\n",
    "training_data['Cin_hour'] = training_data[\"date_time\"].apply(lambda x: x.hour)\n",
    "training_data['Cin_day'] = training_data[\"date_time\"].apply(lambda x: x.day)\n",
    "training_data['Cin_month'] = training_data[\"date_time\"].apply(lambda x: x.month)\n",
    "training_data['Cin_quarter'] = training_data[\"date_time\"].apply(lambda x: x.quarter)\n",
    "training_data['Cin_day_of_week'] = training_data['date_time'].dt.dayofweek+1 #we don't want zeros\n",
    "\n",
    "training_data.drop('date_time',axis=1,inplace=True)"
   ]
  },
  {
   "cell_type": "code",
   "execution_count": 5,
   "metadata": {},
   "outputs": [],
   "source": [
    "training_data['priceRank'] = training_data.groupby('srch_id')['price_usd'].rank()\n",
    "training_data['starRank'] = training_data.groupby('srch_id')['prop_starrating'].rank()\n",
    "training_data['reviewRank'] = training_data.groupby('srch_id')['prop_review_score'].rank()\n",
    "training_data['location1Rank'] = training_data.groupby('srch_id')['prop_location_score1'].rank()\n",
    "training_data['location2Rank'] = training_data.groupby('srch_id')['prop_location_score2'].rank()\n",
    "training_data['histpriceRank'] = training_data.groupby('srch_id')['prop_log_historical_price'].rank()"
   ]
  },
  {
   "cell_type": "code",
   "execution_count": 6,
   "metadata": {},
   "outputs": [],
   "source": [
    "training_data['rating_diff']=abs(training_data['visitor_hist_starrating']-training_data['prop_starrating'])\n",
    "training_data['rating_diff']=training_data['rating_diff'].fillna(training_data['rating_diff'].mean())\n",
    "\n",
    "training_data['price_diff']=abs(training_data['visitor_hist_adr_usd']-training_data['price_usd'])\n",
    "training_data['price_diff']=training_data['price_diff'].fillna(training_data['price_diff'].mean())"
   ]
  },
  {
   "cell_type": "code",
   "execution_count": 7,
   "metadata": {},
   "outputs": [],
   "source": [
    "# creating new features\n",
    "training_data['competitor_rate'] = (training_data.comp1_rate + training_data.comp2_rate + training_data.comp3_rate +\n",
    "                                    training_data.comp4_rate + training_data.comp5_rate + training_data.comp6_rate +\n",
    "                                    training_data.comp7_rate + training_data.comp8_rate)\n",
    "\n",
    "training_data['competitor_inv'] = (training_data.comp1_inv + training_data.comp2_inv + training_data.comp3_inv +\n",
    "                                    training_data.comp4_inv + training_data.comp5_inv + training_data.comp6_inv +\n",
    "                                    training_data.comp7_inv + training_data.comp8_inv)\n",
    "\n",
    "training_data['competitor_rpd'] = (  training_data.comp1_rate_percent_diff + training_data.comp2_rate_percent_diff\n",
    "                                   + training_data.comp3_rate_percent_diff + training_data.comp4_rate_percent_diff\n",
    "                                   + training_data.comp5_rate_percent_diff + training_data.comp6_rate_percent_diff\n",
    "                                   + training_data.comp7_rate_percent_diff + training_data.comp8_rate_percent_diff) /8/100\n",
    "\n",
    "training_data.drop('comp1_rate',axis=1,inplace=True)\n",
    "training_data.drop('comp2_rate',axis=1,inplace=True)\n",
    "training_data.drop('comp3_rate',axis=1,inplace=True)\n",
    "training_data.drop('comp4_rate',axis=1,inplace=True)\n",
    "training_data.drop('comp5_rate',axis=1,inplace=True)\n",
    "training_data.drop('comp6_rate',axis=1,inplace=True)\n",
    "training_data.drop('comp7_rate',axis=1,inplace=True)\n",
    "training_data.drop('comp8_rate',axis=1,inplace=True)\n",
    "training_data.drop('comp1_inv',axis=1,inplace=True)\n",
    "training_data.drop('comp1_rate_percent_diff',axis=1,inplace=True)\n",
    "training_data.drop('comp2_inv',axis=1,inplace=True)\n",
    "training_data.drop('comp2_rate_percent_diff',axis=1,inplace=True)\n",
    "training_data.drop('comp3_inv',axis=1,inplace=True)\n",
    "training_data.drop('comp3_rate_percent_diff',axis=1,inplace=True)\n",
    "training_data.drop('comp4_inv',axis=1,inplace=True)\n",
    "training_data.drop('comp4_rate_percent_diff',axis=1,inplace=True)\n",
    "training_data.drop('comp5_inv',axis=1,inplace=True)\n",
    "training_data.drop('comp5_rate_percent_diff',axis=1,inplace=True)\n",
    "training_data.drop('comp6_inv',axis=1,inplace=True)\n",
    "training_data.drop('comp6_rate_percent_diff',axis=1,inplace=True)\n",
    "training_data.drop('comp7_inv',axis=1,inplace=True)\n",
    "training_data.drop('comp7_rate_percent_diff',axis=1,inplace=True)\n",
    "training_data.drop('comp8_inv',axis=1,inplace=True)\n",
    "training_data.drop('comp8_rate_percent_diff',axis=1,inplace=True)"
   ]
  },
  {
   "cell_type": "code",
   "execution_count": 8,
   "metadata": {},
   "outputs": [],
   "source": [
    "training_data['assign_score'] = training_data.click_bool + 4*training_data.booking_bool\n",
    "training_data = training_data.drop(['click_bool', 'booking_bool'],axis = 1)"
   ]
  },
  {
   "cell_type": "code",
   "execution_count": 9,
   "metadata": {},
   "outputs": [],
   "source": [
    "training_data = training_data[training_data.price_usd < 1800]"
   ]
  },
  {
   "cell_type": "code",
   "execution_count": 10,
   "metadata": {},
   "outputs": [],
   "source": [
    "training_data = training_data.fillna(0)"
   ]
  },
  {
   "cell_type": "code",
   "execution_count": 11,
   "metadata": {},
   "outputs": [
    {
     "name": "stderr",
     "output_type": "stream",
     "text": [
      "C:\\Users\\loesv\\anaconda3\\lib\\site-packages\\sklearn\\cluster\\_kmeans.py:887: UserWarning: MiniBatchKMeans is known to have a memory leak on Windows with MKL, when there are less chunks than available threads. You can prevent it by setting batch_size >= 2048 or by setting the environment variable OMP_NUM_THREADS=1\n",
      "  warnings.warn(\n"
     ]
    }
   ],
   "source": [
    "clustering_kmeans = MiniBatchKMeans(n_clusters=100)\n",
    "training_data['hotel_cluster'] = clustering_kmeans.fit_predict(training_data)"
   ]
  },
  {
   "cell_type": "markdown",
   "metadata": {},
   "source": [
    "## 3. Methodology"
   ]
  },
  {
   "cell_type": "markdown",
   "metadata": {},
   "source": [
    "### Preparing training and validation set"
   ]
  },
  {
   "cell_type": "code",
   "execution_count": 12,
   "metadata": {},
   "outputs": [],
   "source": [
    "from sklearn.model_selection import train_test_split\n",
    "\n",
    "X_train, X_val, y_train, y_val = train_test_split(training_data, training_data.assign_score , test_size=0.30, random_state=42)"
   ]
  },
  {
   "cell_type": "code",
   "execution_count": 13,
   "metadata": {},
   "outputs": [],
   "source": [
    "training_data = training_data.sort_values('srch_id')\n",
    "training_data = training_data.reset_index(drop=True)\n",
    "training_data_groups = training_data.srch_id.value_counts(sort=True,ascending=True).sort_index()\n",
    "y_training = training_data.assign_score\n",
    "\n",
    "train_search_ids = training_data.srch_id\n",
    "\n",
    "training_data.drop(['gross_bookings_usd', 'position'],axis=1,inplace=True)"
   ]
  },
  {
   "cell_type": "code",
   "execution_count": 14,
   "metadata": {},
   "outputs": [],
   "source": [
    "X_train = X_train.sort_values('srch_id')\n",
    "X_train = X_train.reset_index(drop = True)\n",
    "y_train = X_train.assign_score\n",
    "train_search_ids = X_train.srch_id\n",
    "train_groups = X_train.srch_id.value_counts(sort=True,ascending=True).sort_index()\n",
    "\n",
    "X_train.drop(['gross_bookings_usd', 'position'],axis=1,inplace=True)"
   ]
  },
  {
   "cell_type": "code",
   "execution_count": 15,
   "metadata": {},
   "outputs": [],
   "source": [
    "X_val = X_val.sort_values('srch_id')\n",
    "X_val = X_val.reset_index(drop = True)\n",
    "y_val = X_val.assign_score\n",
    "val_groups = X_val.srch_id.value_counts(sort=True,ascending=True).sort_index()\n",
    "val_search_ids = X_val.srch_id\n",
    "\n",
    "X_val.drop(['gross_bookings_usd', 'position'],axis=1,inplace=True)"
   ]
  },
  {
   "cell_type": "code",
   "execution_count": 16,
   "metadata": {},
   "outputs": [],
   "source": [
    "training_data.drop(['srch_id', 'assign_score'],axis=1,inplace=True)\n",
    "X_train.drop(['srch_id', 'assign_score'],axis=1,inplace=True)\n",
    "X_val.drop(['srch_id', 'assign_score'],axis=1,inplace=True)"
   ]
  },
  {
   "cell_type": "markdown",
   "metadata": {},
   "source": [
    "### LGB Model"
   ]
  },
  {
   "cell_type": "code",
   "execution_count": 17,
   "metadata": {
    "scrolled": true
   },
   "outputs": [
    {
     "name": "stdout",
     "output_type": "stream",
     "text": [
      "[LightGBM] [Warning] Unknown parameter: score\n",
      "[1]\tvalid_0's ndcg@1: 0.785423\tvalid_0's ndcg@2: 0.82508\tvalid_0's ndcg@3: 0.846877\tvalid_0's ndcg@4: 0.860276\tvalid_0's ndcg@5: 0.869015\n",
      "[2]\tvalid_0's ndcg@1: 0.792094\tvalid_0's ndcg@2: 0.831456\tvalid_0's ndcg@3: 0.85306\tvalid_0's ndcg@4: 0.865926\tvalid_0's ndcg@5: 0.874365\n",
      "[3]\tvalid_0's ndcg@1: 0.794244\tvalid_0's ndcg@2: 0.834106\tvalid_0's ndcg@3: 0.855433\tvalid_0's ndcg@4: 0.868184\tvalid_0's ndcg@5: 0.876472\n",
      "[4]\tvalid_0's ndcg@1: 0.796089\tvalid_0's ndcg@2: 0.836164\tvalid_0's ndcg@3: 0.857279\tvalid_0's ndcg@4: 0.869951\tvalid_0's ndcg@5: 0.878015\n",
      "[5]\tvalid_0's ndcg@1: 0.797081\tvalid_0's ndcg@2: 0.837226\tvalid_0's ndcg@3: 0.858089\tvalid_0's ndcg@4: 0.870647\tvalid_0's ndcg@5: 0.878557\n",
      "[6]\tvalid_0's ndcg@1: 0.797792\tvalid_0's ndcg@2: 0.838344\tvalid_0's ndcg@3: 0.859003\tvalid_0's ndcg@4: 0.871475\tvalid_0's ndcg@5: 0.879248\n",
      "[7]\tvalid_0's ndcg@1: 0.798497\tvalid_0's ndcg@2: 0.838832\tvalid_0's ndcg@3: 0.859407\tvalid_0's ndcg@4: 0.871979\tvalid_0's ndcg@5: 0.879799\n",
      "[8]\tvalid_0's ndcg@1: 0.799316\tvalid_0's ndcg@2: 0.839367\tvalid_0's ndcg@3: 0.859854\tvalid_0's ndcg@4: 0.872408\tvalid_0's ndcg@5: 0.880278\n",
      "[9]\tvalid_0's ndcg@1: 0.79955\tvalid_0's ndcg@2: 0.839637\tvalid_0's ndcg@3: 0.860246\tvalid_0's ndcg@4: 0.872657\tvalid_0's ndcg@5: 0.880475\n",
      "[10]\tvalid_0's ndcg@1: 0.799758\tvalid_0's ndcg@2: 0.839817\tvalid_0's ndcg@3: 0.860455\tvalid_0's ndcg@4: 0.872745\tvalid_0's ndcg@5: 0.880633\n",
      "[11]\tvalid_0's ndcg@1: 0.800157\tvalid_0's ndcg@2: 0.840055\tvalid_0's ndcg@3: 0.860813\tvalid_0's ndcg@4: 0.873157\tvalid_0's ndcg@5: 0.880956\n",
      "[12]\tvalid_0's ndcg@1: 0.80026\tvalid_0's ndcg@2: 0.84038\tvalid_0's ndcg@3: 0.860963\tvalid_0's ndcg@4: 0.873253\tvalid_0's ndcg@5: 0.881117\n",
      "[13]\tvalid_0's ndcg@1: 0.800275\tvalid_0's ndcg@2: 0.840564\tvalid_0's ndcg@3: 0.861199\tvalid_0's ndcg@4: 0.873384\tvalid_0's ndcg@5: 0.881189\n",
      "[14]\tvalid_0's ndcg@1: 0.80059\tvalid_0's ndcg@2: 0.840747\tvalid_0's ndcg@3: 0.861438\tvalid_0's ndcg@4: 0.873512\tvalid_0's ndcg@5: 0.881355\n",
      "[15]\tvalid_0's ndcg@1: 0.800716\tvalid_0's ndcg@2: 0.840724\tvalid_0's ndcg@3: 0.861575\tvalid_0's ndcg@4: 0.873667\tvalid_0's ndcg@5: 0.881447\n",
      "[16]\tvalid_0's ndcg@1: 0.800746\tvalid_0's ndcg@2: 0.840907\tvalid_0's ndcg@3: 0.861784\tvalid_0's ndcg@4: 0.873788\tvalid_0's ndcg@5: 0.881563\n",
      "[17]\tvalid_0's ndcg@1: 0.801152\tvalid_0's ndcg@2: 0.841148\tvalid_0's ndcg@3: 0.862056\tvalid_0's ndcg@4: 0.874012\tvalid_0's ndcg@5: 0.881752\n",
      "[18]\tvalid_0's ndcg@1: 0.801111\tvalid_0's ndcg@2: 0.841329\tvalid_0's ndcg@3: 0.862121\tvalid_0's ndcg@4: 0.874109\tvalid_0's ndcg@5: 0.881833\n",
      "[19]\tvalid_0's ndcg@1: 0.801232\tvalid_0's ndcg@2: 0.84155\tvalid_0's ndcg@3: 0.862226\tvalid_0's ndcg@4: 0.874276\tvalid_0's ndcg@5: 0.882003\n",
      "[20]\tvalid_0's ndcg@1: 0.801455\tvalid_0's ndcg@2: 0.841628\tvalid_0's ndcg@3: 0.862315\tvalid_0's ndcg@4: 0.874361\tvalid_0's ndcg@5: 0.882087\n",
      "[21]\tvalid_0's ndcg@1: 0.801603\tvalid_0's ndcg@2: 0.841707\tvalid_0's ndcg@3: 0.862363\tvalid_0's ndcg@4: 0.874534\tvalid_0's ndcg@5: 0.882231\n",
      "[22]\tvalid_0's ndcg@1: 0.801836\tvalid_0's ndcg@2: 0.842022\tvalid_0's ndcg@3: 0.862628\tvalid_0's ndcg@4: 0.87474\tvalid_0's ndcg@5: 0.882357\n",
      "[23]\tvalid_0's ndcg@1: 0.801795\tvalid_0's ndcg@2: 0.842025\tvalid_0's ndcg@3: 0.862678\tvalid_0's ndcg@4: 0.874751\tvalid_0's ndcg@5: 0.882399\n",
      "[24]\tvalid_0's ndcg@1: 0.801825\tvalid_0's ndcg@2: 0.842088\tvalid_0's ndcg@3: 0.86272\tvalid_0's ndcg@4: 0.874767\tvalid_0's ndcg@5: 0.882416\n",
      "[25]\tvalid_0's ndcg@1: 0.801723\tvalid_0's ndcg@2: 0.842092\tvalid_0's ndcg@3: 0.862727\tvalid_0's ndcg@4: 0.874807\tvalid_0's ndcg@5: 0.882383\n",
      "[26]\tvalid_0's ndcg@1: 0.801968\tvalid_0's ndcg@2: 0.842273\tvalid_0's ndcg@3: 0.862824\tvalid_0's ndcg@4: 0.874907\tvalid_0's ndcg@5: 0.882488\n",
      "[27]\tvalid_0's ndcg@1: 0.802014\tvalid_0's ndcg@2: 0.842344\tvalid_0's ndcg@3: 0.862935\tvalid_0's ndcg@4: 0.875042\tvalid_0's ndcg@5: 0.882629\n",
      "[28]\tvalid_0's ndcg@1: 0.802216\tvalid_0's ndcg@2: 0.842519\tvalid_0's ndcg@3: 0.863155\tvalid_0's ndcg@4: 0.875253\tvalid_0's ndcg@5: 0.88276\n",
      "[29]\tvalid_0's ndcg@1: 0.802389\tvalid_0's ndcg@2: 0.842594\tvalid_0's ndcg@3: 0.863163\tvalid_0's ndcg@4: 0.875256\tvalid_0's ndcg@5: 0.88279\n",
      "[30]\tvalid_0's ndcg@1: 0.802343\tvalid_0's ndcg@2: 0.842651\tvalid_0's ndcg@3: 0.863199\tvalid_0's ndcg@4: 0.875317\tvalid_0's ndcg@5: 0.882845\n",
      "[31]\tvalid_0's ndcg@1: 0.802459\tvalid_0's ndcg@2: 0.842673\tvalid_0's ndcg@3: 0.863294\tvalid_0's ndcg@4: 0.875307\tvalid_0's ndcg@5: 0.88281\n",
      "[32]\tvalid_0's ndcg@1: 0.802459\tvalid_0's ndcg@2: 0.842789\tvalid_0's ndcg@3: 0.863397\tvalid_0's ndcg@4: 0.875446\tvalid_0's ndcg@5: 0.882909\n",
      "[33]\tvalid_0's ndcg@1: 0.802727\tvalid_0's ndcg@2: 0.843033\tvalid_0's ndcg@3: 0.863535\tvalid_0's ndcg@4: 0.875609\tvalid_0's ndcg@5: 0.883071\n",
      "[34]\tvalid_0's ndcg@1: 0.802758\tvalid_0's ndcg@2: 0.842935\tvalid_0's ndcg@3: 0.863634\tvalid_0's ndcg@4: 0.875598\tvalid_0's ndcg@5: 0.883127\n",
      "[35]\tvalid_0's ndcg@1: 0.802829\tvalid_0's ndcg@2: 0.842978\tvalid_0's ndcg@3: 0.86373\tvalid_0's ndcg@4: 0.875623\tvalid_0's ndcg@5: 0.883191\n",
      "[36]\tvalid_0's ndcg@1: 0.802662\tvalid_0's ndcg@2: 0.842915\tvalid_0's ndcg@3: 0.863679\tvalid_0's ndcg@4: 0.875577\tvalid_0's ndcg@5: 0.883136\n",
      "[37]\tvalid_0's ndcg@1: 0.80287\tvalid_0's ndcg@2: 0.843103\tvalid_0's ndcg@3: 0.863768\tvalid_0's ndcg@4: 0.875744\tvalid_0's ndcg@5: 0.883299\n",
      "[38]\tvalid_0's ndcg@1: 0.802997\tvalid_0's ndcg@2: 0.843115\tvalid_0's ndcg@3: 0.863969\tvalid_0's ndcg@4: 0.87586\tvalid_0's ndcg@5: 0.883446\n",
      "[39]\tvalid_0's ndcg@1: 0.803047\tvalid_0's ndcg@2: 0.843189\tvalid_0's ndcg@3: 0.863976\tvalid_0's ndcg@4: 0.875822\tvalid_0's ndcg@5: 0.88344\n",
      "[40]\tvalid_0's ndcg@1: 0.80324\tvalid_0's ndcg@2: 0.843258\tvalid_0's ndcg@3: 0.86397\tvalid_0's ndcg@4: 0.876005\tvalid_0's ndcg@5: 0.883569\n",
      "[41]\tvalid_0's ndcg@1: 0.803453\tvalid_0's ndcg@2: 0.843341\tvalid_0's ndcg@3: 0.864118\tvalid_0's ndcg@4: 0.876173\tvalid_0's ndcg@5: 0.883673\n",
      "[42]\tvalid_0's ndcg@1: 0.803407\tvalid_0's ndcg@2: 0.843516\tvalid_0's ndcg@3: 0.864157\tvalid_0's ndcg@4: 0.876207\tvalid_0's ndcg@5: 0.883695\n",
      "[43]\tvalid_0's ndcg@1: 0.803483\tvalid_0's ndcg@2: 0.84359\tvalid_0's ndcg@3: 0.864256\tvalid_0's ndcg@4: 0.876258\tvalid_0's ndcg@5: 0.883724\n",
      "[44]\tvalid_0's ndcg@1: 0.803565\tvalid_0's ndcg@2: 0.843688\tvalid_0's ndcg@3: 0.864258\tvalid_0's ndcg@4: 0.876294\tvalid_0's ndcg@5: 0.883785\n",
      "[45]\tvalid_0's ndcg@1: 0.803605\tvalid_0's ndcg@2: 0.843749\tvalid_0's ndcg@3: 0.864392\tvalid_0's ndcg@4: 0.876342\tvalid_0's ndcg@5: 0.883842\n",
      "[46]\tvalid_0's ndcg@1: 0.803529\tvalid_0's ndcg@2: 0.843703\tvalid_0's ndcg@3: 0.864361\tvalid_0's ndcg@4: 0.876303\tvalid_0's ndcg@5: 0.883767\n",
      "[47]\tvalid_0's ndcg@1: 0.803621\tvalid_0's ndcg@2: 0.843861\tvalid_0's ndcg@3: 0.864435\tvalid_0's ndcg@4: 0.876345\tvalid_0's ndcg@5: 0.883827\n",
      "[48]\tvalid_0's ndcg@1: 0.803752\tvalid_0's ndcg@2: 0.843984\tvalid_0's ndcg@3: 0.864464\tvalid_0's ndcg@4: 0.876342\tvalid_0's ndcg@5: 0.883912\n",
      "[49]\tvalid_0's ndcg@1: 0.803827\tvalid_0's ndcg@2: 0.844049\tvalid_0's ndcg@3: 0.864534\tvalid_0's ndcg@4: 0.876493\tvalid_0's ndcg@5: 0.884008\n",
      "[50]\tvalid_0's ndcg@1: 0.803938\tvalid_0's ndcg@2: 0.844119\tvalid_0's ndcg@3: 0.864598\tvalid_0's ndcg@4: 0.87654\tvalid_0's ndcg@5: 0.884046\n",
      "[51]\tvalid_0's ndcg@1: 0.80401\tvalid_0's ndcg@2: 0.844181\tvalid_0's ndcg@3: 0.864681\tvalid_0's ndcg@4: 0.876631\tvalid_0's ndcg@5: 0.884115\n",
      "[52]\tvalid_0's ndcg@1: 0.804076\tvalid_0's ndcg@2: 0.844147\tvalid_0's ndcg@3: 0.864697\tvalid_0's ndcg@4: 0.876618\tvalid_0's ndcg@5: 0.884152\n",
      "[53]\tvalid_0's ndcg@1: 0.804121\tvalid_0's ndcg@2: 0.844173\tvalid_0's ndcg@3: 0.864701\tvalid_0's ndcg@4: 0.876689\tvalid_0's ndcg@5: 0.884206\n",
      "[54]\tvalid_0's ndcg@1: 0.80407\tvalid_0's ndcg@2: 0.844114\tvalid_0's ndcg@3: 0.864623\tvalid_0's ndcg@4: 0.876683\tvalid_0's ndcg@5: 0.884165\n",
      "[55]\tvalid_0's ndcg@1: 0.804045\tvalid_0's ndcg@2: 0.844105\tvalid_0's ndcg@3: 0.864644\tvalid_0's ndcg@4: 0.876666\tvalid_0's ndcg@5: 0.884096\n",
      "[56]\tvalid_0's ndcg@1: 0.804233\tvalid_0's ndcg@2: 0.844211\tvalid_0's ndcg@3: 0.864816\tvalid_0's ndcg@4: 0.876769\tvalid_0's ndcg@5: 0.884242\n",
      "[57]\tvalid_0's ndcg@1: 0.804294\tvalid_0's ndcg@2: 0.844188\tvalid_0's ndcg@3: 0.864774\tvalid_0's ndcg@4: 0.876721\tvalid_0's ndcg@5: 0.884238\n",
      "[58]\tvalid_0's ndcg@1: 0.804335\tvalid_0's ndcg@2: 0.844291\tvalid_0's ndcg@3: 0.864831\tvalid_0's ndcg@4: 0.876754\tvalid_0's ndcg@5: 0.884264\n",
      "[59]\tvalid_0's ndcg@1: 0.804309\tvalid_0's ndcg@2: 0.844356\tvalid_0's ndcg@3: 0.864861\tvalid_0's ndcg@4: 0.8768\tvalid_0's ndcg@5: 0.884277\n"
     ]
    },
    {
     "name": "stdout",
     "output_type": "stream",
     "text": [
      "[60]\tvalid_0's ndcg@1: 0.804385\tvalid_0's ndcg@2: 0.84432\tvalid_0's ndcg@3: 0.864898\tvalid_0's ndcg@4: 0.876791\tvalid_0's ndcg@5: 0.884326\n",
      "[61]\tvalid_0's ndcg@1: 0.804405\tvalid_0's ndcg@2: 0.844397\tvalid_0's ndcg@3: 0.86496\tvalid_0's ndcg@4: 0.876887\tvalid_0's ndcg@5: 0.884373\n",
      "[62]\tvalid_0's ndcg@1: 0.804426\tvalid_0's ndcg@2: 0.844449\tvalid_0's ndcg@3: 0.865023\tvalid_0's ndcg@4: 0.876884\tvalid_0's ndcg@5: 0.88439\n",
      "[63]\tvalid_0's ndcg@1: 0.804461\tvalid_0's ndcg@2: 0.844443\tvalid_0's ndcg@3: 0.865043\tvalid_0's ndcg@4: 0.876929\tvalid_0's ndcg@5: 0.884413\n",
      "[64]\tvalid_0's ndcg@1: 0.804547\tvalid_0's ndcg@2: 0.844439\tvalid_0's ndcg@3: 0.865021\tvalid_0's ndcg@4: 0.876956\tvalid_0's ndcg@5: 0.884444\n",
      "[65]\tvalid_0's ndcg@1: 0.804694\tvalid_0's ndcg@2: 0.844557\tvalid_0's ndcg@3: 0.865146\tvalid_0's ndcg@4: 0.876994\tvalid_0's ndcg@5: 0.884552\n",
      "[66]\tvalid_0's ndcg@1: 0.804801\tvalid_0's ndcg@2: 0.84465\tvalid_0's ndcg@3: 0.865236\tvalid_0's ndcg@4: 0.877064\tvalid_0's ndcg@5: 0.884628\n",
      "[67]\tvalid_0's ndcg@1: 0.804791\tvalid_0's ndcg@2: 0.844684\tvalid_0's ndcg@3: 0.865228\tvalid_0's ndcg@4: 0.877089\tvalid_0's ndcg@5: 0.884625\n",
      "[68]\tvalid_0's ndcg@1: 0.804841\tvalid_0's ndcg@2: 0.844691\tvalid_0's ndcg@3: 0.865302\tvalid_0's ndcg@4: 0.877118\tvalid_0's ndcg@5: 0.884672\n",
      "[69]\tvalid_0's ndcg@1: 0.804862\tvalid_0's ndcg@2: 0.844705\tvalid_0's ndcg@3: 0.865349\tvalid_0's ndcg@4: 0.877139\tvalid_0's ndcg@5: 0.884681\n",
      "[70]\tvalid_0's ndcg@1: 0.804958\tvalid_0's ndcg@2: 0.84474\tvalid_0's ndcg@3: 0.865389\tvalid_0's ndcg@4: 0.877187\tvalid_0's ndcg@5: 0.884716\n",
      "[71]\tvalid_0's ndcg@1: 0.804947\tvalid_0's ndcg@2: 0.844722\tvalid_0's ndcg@3: 0.865383\tvalid_0's ndcg@4: 0.877218\tvalid_0's ndcg@5: 0.884721\n",
      "[72]\tvalid_0's ndcg@1: 0.805003\tvalid_0's ndcg@2: 0.844871\tvalid_0's ndcg@3: 0.86548\tvalid_0's ndcg@4: 0.877325\tvalid_0's ndcg@5: 0.884824\n",
      "[73]\tvalid_0's ndcg@1: 0.805049\tvalid_0's ndcg@2: 0.845019\tvalid_0's ndcg@3: 0.865507\tvalid_0's ndcg@4: 0.877351\tvalid_0's ndcg@5: 0.884872\n",
      "[74]\tvalid_0's ndcg@1: 0.804983\tvalid_0's ndcg@2: 0.84507\tvalid_0's ndcg@3: 0.865537\tvalid_0's ndcg@4: 0.877338\tvalid_0's ndcg@5: 0.884876\n",
      "[75]\tvalid_0's ndcg@1: 0.805095\tvalid_0's ndcg@2: 0.845195\tvalid_0's ndcg@3: 0.865556\tvalid_0's ndcg@4: 0.877388\tvalid_0's ndcg@5: 0.884909\n",
      "[76]\tvalid_0's ndcg@1: 0.805125\tvalid_0's ndcg@2: 0.845094\tvalid_0's ndcg@3: 0.865531\tvalid_0's ndcg@4: 0.877377\tvalid_0's ndcg@5: 0.884884\n",
      "[77]\tvalid_0's ndcg@1: 0.805175\tvalid_0's ndcg@2: 0.845093\tvalid_0's ndcg@3: 0.865564\tvalid_0's ndcg@4: 0.877371\tvalid_0's ndcg@5: 0.884878\n",
      "[78]\tvalid_0's ndcg@1: 0.805135\tvalid_0's ndcg@2: 0.845148\tvalid_0's ndcg@3: 0.865634\tvalid_0's ndcg@4: 0.877405\tvalid_0's ndcg@5: 0.884915\n",
      "[79]\tvalid_0's ndcg@1: 0.805054\tvalid_0's ndcg@2: 0.84517\tvalid_0's ndcg@3: 0.865605\tvalid_0's ndcg@4: 0.877373\tvalid_0's ndcg@5: 0.884892\n",
      "[80]\tvalid_0's ndcg@1: 0.80513\tvalid_0's ndcg@2: 0.845208\tvalid_0's ndcg@3: 0.865629\tvalid_0's ndcg@4: 0.877405\tvalid_0's ndcg@5: 0.884886\n",
      "[81]\tvalid_0's ndcg@1: 0.805186\tvalid_0's ndcg@2: 0.845281\tvalid_0's ndcg@3: 0.86566\tvalid_0's ndcg@4: 0.877451\tvalid_0's ndcg@5: 0.884924\n",
      "[82]\tvalid_0's ndcg@1: 0.805232\tvalid_0's ndcg@2: 0.845284\tvalid_0's ndcg@3: 0.865656\tvalid_0's ndcg@4: 0.877476\tvalid_0's ndcg@5: 0.884935\n",
      "[83]\tvalid_0's ndcg@1: 0.805338\tvalid_0's ndcg@2: 0.845336\tvalid_0's ndcg@3: 0.86574\tvalid_0's ndcg@4: 0.877531\tvalid_0's ndcg@5: 0.885009\n",
      "[84]\tvalid_0's ndcg@1: 0.805297\tvalid_0's ndcg@2: 0.845303\tvalid_0's ndcg@3: 0.865706\tvalid_0's ndcg@4: 0.877521\tvalid_0's ndcg@5: 0.884968\n",
      "[85]\tvalid_0's ndcg@1: 0.805384\tvalid_0's ndcg@2: 0.845342\tvalid_0's ndcg@3: 0.865778\tvalid_0's ndcg@4: 0.877575\tvalid_0's ndcg@5: 0.884991\n",
      "[86]\tvalid_0's ndcg@1: 0.805449\tvalid_0's ndcg@2: 0.845331\tvalid_0's ndcg@3: 0.865844\tvalid_0's ndcg@4: 0.877627\tvalid_0's ndcg@5: 0.885008\n",
      "[87]\tvalid_0's ndcg@1: 0.805393\tvalid_0's ndcg@2: 0.845358\tvalid_0's ndcg@3: 0.865836\tvalid_0's ndcg@4: 0.877623\tvalid_0's ndcg@5: 0.884966\n",
      "[88]\tvalid_0's ndcg@1: 0.805358\tvalid_0's ndcg@2: 0.845467\tvalid_0's ndcg@3: 0.86589\tvalid_0's ndcg@4: 0.877658\tvalid_0's ndcg@5: 0.885053\n",
      "[89]\tvalid_0's ndcg@1: 0.805353\tvalid_0's ndcg@2: 0.845439\tvalid_0's ndcg@3: 0.865847\tvalid_0's ndcg@4: 0.87763\tvalid_0's ndcg@5: 0.885047\n",
      "[90]\tvalid_0's ndcg@1: 0.805383\tvalid_0's ndcg@2: 0.845508\tvalid_0's ndcg@3: 0.86584\tvalid_0's ndcg@4: 0.87766\tvalid_0's ndcg@5: 0.885059\n",
      "[91]\tvalid_0's ndcg@1: 0.805409\tvalid_0's ndcg@2: 0.84553\tvalid_0's ndcg@3: 0.865776\tvalid_0's ndcg@4: 0.877678\tvalid_0's ndcg@5: 0.885049\n",
      "[92]\tvalid_0's ndcg@1: 0.805404\tvalid_0's ndcg@2: 0.845544\tvalid_0's ndcg@3: 0.865799\tvalid_0's ndcg@4: 0.877685\tvalid_0's ndcg@5: 0.885047\n",
      "[93]\tvalid_0's ndcg@1: 0.805409\tvalid_0's ndcg@2: 0.845608\tvalid_0's ndcg@3: 0.865835\tvalid_0's ndcg@4: 0.877694\tvalid_0's ndcg@5: 0.88511\n",
      "[94]\tvalid_0's ndcg@1: 0.805292\tvalid_0's ndcg@2: 0.845523\tvalid_0's ndcg@3: 0.865764\tvalid_0's ndcg@4: 0.87767\tvalid_0's ndcg@5: 0.885048\n",
      "[95]\tvalid_0's ndcg@1: 0.805337\tvalid_0's ndcg@2: 0.845621\tvalid_0's ndcg@3: 0.865773\tvalid_0's ndcg@4: 0.877632\tvalid_0's ndcg@5: 0.885106\n",
      "[96]\tvalid_0's ndcg@1: 0.805322\tvalid_0's ndcg@2: 0.845643\tvalid_0's ndcg@3: 0.865806\tvalid_0's ndcg@4: 0.877621\tvalid_0's ndcg@5: 0.885111\n",
      "[97]\tvalid_0's ndcg@1: 0.805403\tvalid_0's ndcg@2: 0.845598\tvalid_0's ndcg@3: 0.865799\tvalid_0's ndcg@4: 0.877648\tvalid_0's ndcg@5: 0.88515\n",
      "[98]\tvalid_0's ndcg@1: 0.805449\tvalid_0's ndcg@2: 0.845646\tvalid_0's ndcg@3: 0.86587\tvalid_0's ndcg@4: 0.877708\tvalid_0's ndcg@5: 0.885246\n",
      "[99]\tvalid_0's ndcg@1: 0.805429\tvalid_0's ndcg@2: 0.84567\tvalid_0's ndcg@3: 0.865911\tvalid_0's ndcg@4: 0.877782\tvalid_0's ndcg@5: 0.885271\n",
      "[100]\tvalid_0's ndcg@1: 0.805363\tvalid_0's ndcg@2: 0.845578\tvalid_0's ndcg@3: 0.865908\tvalid_0's ndcg@4: 0.877752\tvalid_0's ndcg@5: 0.885212\n",
      "[101]\tvalid_0's ndcg@1: 0.805388\tvalid_0's ndcg@2: 0.845629\tvalid_0's ndcg@3: 0.865952\tvalid_0's ndcg@4: 0.877787\tvalid_0's ndcg@5: 0.885227\n",
      "[102]\tvalid_0's ndcg@1: 0.805464\tvalid_0's ndcg@2: 0.845645\tvalid_0's ndcg@3: 0.865984\tvalid_0's ndcg@4: 0.877834\tvalid_0's ndcg@5: 0.885234\n",
      "[103]\tvalid_0's ndcg@1: 0.805596\tvalid_0's ndcg@2: 0.845655\tvalid_0's ndcg@3: 0.866045\tvalid_0's ndcg@4: 0.877864\tvalid_0's ndcg@5: 0.885274\n",
      "[104]\tvalid_0's ndcg@1: 0.80555\tvalid_0's ndcg@2: 0.845694\tvalid_0's ndcg@3: 0.86601\tvalid_0's ndcg@4: 0.87781\tvalid_0's ndcg@5: 0.885234\n",
      "[105]\tvalid_0's ndcg@1: 0.805621\tvalid_0's ndcg@2: 0.845725\tvalid_0's ndcg@3: 0.866062\tvalid_0's ndcg@4: 0.87787\tvalid_0's ndcg@5: 0.885267\n",
      "[106]\tvalid_0's ndcg@1: 0.805672\tvalid_0's ndcg@2: 0.845751\tvalid_0's ndcg@3: 0.866129\tvalid_0's ndcg@4: 0.877928\tvalid_0's ndcg@5: 0.885302\n",
      "[107]\tvalid_0's ndcg@1: 0.805641\tvalid_0's ndcg@2: 0.845754\tvalid_0's ndcg@3: 0.866128\tvalid_0's ndcg@4: 0.877921\tvalid_0's ndcg@5: 0.885333\n",
      "[108]\tvalid_0's ndcg@1: 0.805616\tvalid_0's ndcg@2: 0.845792\tvalid_0's ndcg@3: 0.866125\tvalid_0's ndcg@4: 0.877914\tvalid_0's ndcg@5: 0.885359\n",
      "[109]\tvalid_0's ndcg@1: 0.805626\tvalid_0's ndcg@2: 0.845818\tvalid_0's ndcg@3: 0.866093\tvalid_0's ndcg@4: 0.877952\tvalid_0's ndcg@5: 0.885347\n",
      "[110]\tvalid_0's ndcg@1: 0.805601\tvalid_0's ndcg@2: 0.845885\tvalid_0's ndcg@3: 0.866088\tvalid_0's ndcg@4: 0.877986\tvalid_0's ndcg@5: 0.885357\n",
      "[111]\tvalid_0's ndcg@1: 0.805738\tvalid_0's ndcg@2: 0.845913\tvalid_0's ndcg@3: 0.866173\tvalid_0's ndcg@4: 0.877983\tvalid_0's ndcg@5: 0.885408\n",
      "[112]\tvalid_0's ndcg@1: 0.805798\tvalid_0's ndcg@2: 0.845909\tvalid_0's ndcg@3: 0.866204\tvalid_0's ndcg@4: 0.877997\tvalid_0's ndcg@5: 0.885423\n",
      "[113]\tvalid_0's ndcg@1: 0.805763\tvalid_0's ndcg@2: 0.84591\tvalid_0's ndcg@3: 0.866095\tvalid_0's ndcg@4: 0.878002\tvalid_0's ndcg@5: 0.885391\n",
      "[114]\tvalid_0's ndcg@1: 0.805784\tvalid_0's ndcg@2: 0.845899\tvalid_0's ndcg@3: 0.86616\tvalid_0's ndcg@4: 0.878014\tvalid_0's ndcg@5: 0.885424\n",
      "[115]\tvalid_0's ndcg@1: 0.805662\tvalid_0's ndcg@2: 0.845864\tvalid_0's ndcg@3: 0.866171\tvalid_0's ndcg@4: 0.877948\tvalid_0's ndcg@5: 0.885387\n",
      "[116]\tvalid_0's ndcg@1: 0.805647\tvalid_0's ndcg@2: 0.845855\tvalid_0's ndcg@3: 0.866184\tvalid_0's ndcg@4: 0.877964\tvalid_0's ndcg@5: 0.885372\n",
      "[117]\tvalid_0's ndcg@1: 0.805677\tvalid_0's ndcg@2: 0.845886\tvalid_0's ndcg@3: 0.866212\tvalid_0's ndcg@4: 0.877988\tvalid_0's ndcg@5: 0.885384\n",
      "[118]\tvalid_0's ndcg@1: 0.805652\tvalid_0's ndcg@2: 0.84581\tvalid_0's ndcg@3: 0.86614\tvalid_0's ndcg@4: 0.877939\tvalid_0's ndcg@5: 0.885367\n"
     ]
    },
    {
     "name": "stdout",
     "output_type": "stream",
     "text": [
      "[119]\tvalid_0's ndcg@1: 0.805657\tvalid_0's ndcg@2: 0.845787\tvalid_0's ndcg@3: 0.866142\tvalid_0's ndcg@4: 0.877939\tvalid_0's ndcg@5: 0.885396\n",
      "[120]\tvalid_0's ndcg@1: 0.805641\tvalid_0's ndcg@2: 0.845823\tvalid_0's ndcg@3: 0.866167\tvalid_0's ndcg@4: 0.877967\tvalid_0's ndcg@5: 0.885392\n",
      "[121]\tvalid_0's ndcg@1: 0.805611\tvalid_0's ndcg@2: 0.845851\tvalid_0's ndcg@3: 0.866176\tvalid_0's ndcg@4: 0.877975\tvalid_0's ndcg@5: 0.885396\n",
      "[122]\tvalid_0's ndcg@1: 0.80557\tvalid_0's ndcg@2: 0.845833\tvalid_0's ndcg@3: 0.866171\tvalid_0's ndcg@4: 0.877967\tvalid_0's ndcg@5: 0.885413\n",
      "[123]\tvalid_0's ndcg@1: 0.805489\tvalid_0's ndcg@2: 0.845739\tvalid_0's ndcg@3: 0.86611\tvalid_0's ndcg@4: 0.877897\tvalid_0's ndcg@5: 0.885381\n",
      "[124]\tvalid_0's ndcg@1: 0.805596\tvalid_0's ndcg@2: 0.845773\tvalid_0's ndcg@3: 0.866159\tvalid_0's ndcg@4: 0.877945\tvalid_0's ndcg@5: 0.88541\n",
      "[125]\tvalid_0's ndcg@1: 0.805585\tvalid_0's ndcg@2: 0.845889\tvalid_0's ndcg@3: 0.866174\tvalid_0's ndcg@4: 0.877952\tvalid_0's ndcg@5: 0.885445\n",
      "[126]\tvalid_0's ndcg@1: 0.805591\tvalid_0's ndcg@2: 0.845906\tvalid_0's ndcg@3: 0.866154\tvalid_0's ndcg@4: 0.877994\tvalid_0's ndcg@5: 0.885434\n",
      "[127]\tvalid_0's ndcg@1: 0.805596\tvalid_0's ndcg@2: 0.845874\tvalid_0's ndcg@3: 0.866164\tvalid_0's ndcg@4: 0.877979\tvalid_0's ndcg@5: 0.885456\n",
      "[128]\tvalid_0's ndcg@1: 0.805585\tvalid_0's ndcg@2: 0.845891\tvalid_0's ndcg@3: 0.866194\tvalid_0's ndcg@4: 0.877964\tvalid_0's ndcg@5: 0.885489\n",
      "[129]\tvalid_0's ndcg@1: 0.805646\tvalid_0's ndcg@2: 0.845907\tvalid_0's ndcg@3: 0.866202\tvalid_0's ndcg@4: 0.877972\tvalid_0's ndcg@5: 0.885507\n",
      "[130]\tvalid_0's ndcg@1: 0.805788\tvalid_0's ndcg@2: 0.84597\tvalid_0's ndcg@3: 0.866263\tvalid_0's ndcg@4: 0.878093\tvalid_0's ndcg@5: 0.88558\n",
      "[131]\tvalid_0's ndcg@1: 0.805783\tvalid_0's ndcg@2: 0.845991\tvalid_0's ndcg@3: 0.866325\tvalid_0's ndcg@4: 0.878068\tvalid_0's ndcg@5: 0.885571\n",
      "[132]\tvalid_0's ndcg@1: 0.805783\tvalid_0's ndcg@2: 0.845976\tvalid_0's ndcg@3: 0.866346\tvalid_0's ndcg@4: 0.878129\tvalid_0's ndcg@5: 0.885569\n",
      "[133]\tvalid_0's ndcg@1: 0.805752\tvalid_0's ndcg@2: 0.845947\tvalid_0's ndcg@3: 0.866348\tvalid_0's ndcg@4: 0.878122\tvalid_0's ndcg@5: 0.885564\n",
      "[134]\tvalid_0's ndcg@1: 0.805712\tvalid_0's ndcg@2: 0.845949\tvalid_0's ndcg@3: 0.866358\tvalid_0's ndcg@4: 0.878084\tvalid_0's ndcg@5: 0.885544\n",
      "[135]\tvalid_0's ndcg@1: 0.805773\tvalid_0's ndcg@2: 0.845959\tvalid_0's ndcg@3: 0.866371\tvalid_0's ndcg@4: 0.878069\tvalid_0's ndcg@5: 0.885563\n",
      "[136]\tvalid_0's ndcg@1: 0.805793\tvalid_0's ndcg@2: 0.845992\tvalid_0's ndcg@3: 0.866393\tvalid_0's ndcg@4: 0.878101\tvalid_0's ndcg@5: 0.885583\n",
      "[137]\tvalid_0's ndcg@1: 0.805818\tvalid_0's ndcg@2: 0.845972\tvalid_0's ndcg@3: 0.866379\tvalid_0's ndcg@4: 0.878096\tvalid_0's ndcg@5: 0.885574\n",
      "[138]\tvalid_0's ndcg@1: 0.805819\tvalid_0's ndcg@2: 0.845992\tvalid_0's ndcg@3: 0.866403\tvalid_0's ndcg@4: 0.878111\tvalid_0's ndcg@5: 0.885577\n",
      "[139]\tvalid_0's ndcg@1: 0.805789\tvalid_0's ndcg@2: 0.84597\tvalid_0's ndcg@3: 0.866347\tvalid_0's ndcg@4: 0.878074\tvalid_0's ndcg@5: 0.885565\n",
      "[140]\tvalid_0's ndcg@1: 0.805713\tvalid_0's ndcg@2: 0.845888\tvalid_0's ndcg@3: 0.866301\tvalid_0's ndcg@4: 0.878027\tvalid_0's ndcg@5: 0.885533\n",
      "[141]\tvalid_0's ndcg@1: 0.805662\tvalid_0's ndcg@2: 0.845896\tvalid_0's ndcg@3: 0.866296\tvalid_0's ndcg@4: 0.878008\tvalid_0's ndcg@5: 0.885508\n",
      "[142]\tvalid_0's ndcg@1: 0.805692\tvalid_0's ndcg@2: 0.845963\tvalid_0's ndcg@3: 0.866309\tvalid_0's ndcg@4: 0.878043\tvalid_0's ndcg@5: 0.88552\n",
      "[143]\tvalid_0's ndcg@1: 0.805703\tvalid_0's ndcg@2: 0.84596\tvalid_0's ndcg@3: 0.866316\tvalid_0's ndcg@4: 0.87805\tvalid_0's ndcg@5: 0.885535\n",
      "[144]\tvalid_0's ndcg@1: 0.805769\tvalid_0's ndcg@2: 0.845995\tvalid_0's ndcg@3: 0.866398\tvalid_0's ndcg@4: 0.878061\tvalid_0's ndcg@5: 0.88555\n",
      "[145]\tvalid_0's ndcg@1: 0.80582\tvalid_0's ndcg@2: 0.845988\tvalid_0's ndcg@3: 0.866372\tvalid_0's ndcg@4: 0.878066\tvalid_0's ndcg@5: 0.885558\n",
      "[146]\tvalid_0's ndcg@1: 0.805779\tvalid_0's ndcg@2: 0.845991\tvalid_0's ndcg@3: 0.866379\tvalid_0's ndcg@4: 0.87805\tvalid_0's ndcg@5: 0.885508\n",
      "[147]\tvalid_0's ndcg@1: 0.805749\tvalid_0's ndcg@2: 0.845998\tvalid_0's ndcg@3: 0.866369\tvalid_0's ndcg@4: 0.878037\tvalid_0's ndcg@5: 0.885478\n",
      "[148]\tvalid_0's ndcg@1: 0.80581\tvalid_0's ndcg@2: 0.846082\tvalid_0's ndcg@3: 0.866383\tvalid_0's ndcg@4: 0.878051\tvalid_0's ndcg@5: 0.885486\n",
      "[149]\tvalid_0's ndcg@1: 0.805805\tvalid_0's ndcg@2: 0.846141\tvalid_0's ndcg@3: 0.866435\tvalid_0's ndcg@4: 0.878069\tvalid_0's ndcg@5: 0.885508\n",
      "[150]\tvalid_0's ndcg@1: 0.805855\tvalid_0's ndcg@2: 0.846121\tvalid_0's ndcg@3: 0.866445\tvalid_0's ndcg@4: 0.878063\tvalid_0's ndcg@5: 0.885534\n",
      "[151]\tvalid_0's ndcg@1: 0.805886\tvalid_0's ndcg@2: 0.846151\tvalid_0's ndcg@3: 0.866419\tvalid_0's ndcg@4: 0.87809\tvalid_0's ndcg@5: 0.885557\n",
      "[152]\tvalid_0's ndcg@1: 0.805911\tvalid_0's ndcg@2: 0.846167\tvalid_0's ndcg@3: 0.86644\tvalid_0's ndcg@4: 0.878086\tvalid_0's ndcg@5: 0.885568\n",
      "[153]\tvalid_0's ndcg@1: 0.805835\tvalid_0's ndcg@2: 0.846111\tvalid_0's ndcg@3: 0.866401\tvalid_0's ndcg@4: 0.87809\tvalid_0's ndcg@5: 0.885537\n",
      "[154]\tvalid_0's ndcg@1: 0.805861\tvalid_0's ndcg@2: 0.846096\tvalid_0's ndcg@3: 0.866382\tvalid_0's ndcg@4: 0.878087\tvalid_0's ndcg@5: 0.885543\n",
      "[155]\tvalid_0's ndcg@1: 0.80582\tvalid_0's ndcg@2: 0.84611\tvalid_0's ndcg@3: 0.866332\tvalid_0's ndcg@4: 0.878075\tvalid_0's ndcg@5: 0.885533\n",
      "[156]\tvalid_0's ndcg@1: 0.805718\tvalid_0's ndcg@2: 0.846062\tvalid_0's ndcg@3: 0.86631\tvalid_0's ndcg@4: 0.878038\tvalid_0's ndcg@5: 0.885484\n",
      "[157]\tvalid_0's ndcg@1: 0.805753\tvalid_0's ndcg@2: 0.846047\tvalid_0's ndcg@3: 0.866318\tvalid_0's ndcg@4: 0.878082\tvalid_0's ndcg@5: 0.885482\n",
      "[158]\tvalid_0's ndcg@1: 0.805698\tvalid_0's ndcg@2: 0.846028\tvalid_0's ndcg@3: 0.866299\tvalid_0's ndcg@4: 0.878053\tvalid_0's ndcg@5: 0.885438\n",
      "[159]\tvalid_0's ndcg@1: 0.805708\tvalid_0's ndcg@2: 0.846016\tvalid_0's ndcg@3: 0.86629\tvalid_0's ndcg@4: 0.878042\tvalid_0's ndcg@5: 0.885442\n",
      "[160]\tvalid_0's ndcg@1: 0.805785\tvalid_0's ndcg@2: 0.846062\tvalid_0's ndcg@3: 0.866362\tvalid_0's ndcg@4: 0.878085\tvalid_0's ndcg@5: 0.885512\n",
      "[161]\tvalid_0's ndcg@1: 0.805719\tvalid_0's ndcg@2: 0.84607\tvalid_0's ndcg@3: 0.866333\tvalid_0's ndcg@4: 0.87803\tvalid_0's ndcg@5: 0.885508\n",
      "[162]\tvalid_0's ndcg@1: 0.805728\tvalid_0's ndcg@2: 0.846101\tvalid_0's ndcg@3: 0.866351\tvalid_0's ndcg@4: 0.878061\tvalid_0's ndcg@5: 0.885515\n",
      "[163]\tvalid_0's ndcg@1: 0.805703\tvalid_0's ndcg@2: 0.84607\tvalid_0's ndcg@3: 0.866341\tvalid_0's ndcg@4: 0.878066\tvalid_0's ndcg@5: 0.885481\n",
      "[164]\tvalid_0's ndcg@1: 0.805718\tvalid_0's ndcg@2: 0.846087\tvalid_0's ndcg@3: 0.866342\tvalid_0's ndcg@4: 0.878059\tvalid_0's ndcg@5: 0.885487\n",
      "[165]\tvalid_0's ndcg@1: 0.805678\tvalid_0's ndcg@2: 0.846101\tvalid_0's ndcg@3: 0.866368\tvalid_0's ndcg@4: 0.878075\tvalid_0's ndcg@5: 0.885478\n",
      "[166]\tvalid_0's ndcg@1: 0.805714\tvalid_0's ndcg@2: 0.846105\tvalid_0's ndcg@3: 0.866356\tvalid_0's ndcg@4: 0.878066\tvalid_0's ndcg@5: 0.885482\n",
      "[167]\tvalid_0's ndcg@1: 0.805714\tvalid_0's ndcg@2: 0.846108\tvalid_0's ndcg@3: 0.866377\tvalid_0's ndcg@4: 0.878069\tvalid_0's ndcg@5: 0.885491\n",
      "[168]\tvalid_0's ndcg@1: 0.805714\tvalid_0's ndcg@2: 0.846091\tvalid_0's ndcg@3: 0.866386\tvalid_0's ndcg@4: 0.878062\tvalid_0's ndcg@5: 0.885497\n",
      "[169]\tvalid_0's ndcg@1: 0.805749\tvalid_0's ndcg@2: 0.846157\tvalid_0's ndcg@3: 0.866408\tvalid_0's ndcg@4: 0.878108\tvalid_0's ndcg@5: 0.885534\n",
      "[170]\tvalid_0's ndcg@1: 0.805749\tvalid_0's ndcg@2: 0.84614\tvalid_0's ndcg@3: 0.866414\tvalid_0's ndcg@4: 0.878105\tvalid_0's ndcg@5: 0.885546\n",
      "[171]\tvalid_0's ndcg@1: 0.805724\tvalid_0's ndcg@2: 0.846124\tvalid_0's ndcg@3: 0.866361\tvalid_0's ndcg@4: 0.878074\tvalid_0's ndcg@5: 0.885524\n",
      "[172]\tvalid_0's ndcg@1: 0.805704\tvalid_0's ndcg@2: 0.846076\tvalid_0's ndcg@3: 0.866363\tvalid_0's ndcg@4: 0.878052\tvalid_0's ndcg@5: 0.885509\n",
      "[173]\tvalid_0's ndcg@1: 0.805663\tvalid_0's ndcg@2: 0.846056\tvalid_0's ndcg@3: 0.866344\tvalid_0's ndcg@4: 0.878049\tvalid_0's ndcg@5: 0.885476\n",
      "[174]\tvalid_0's ndcg@1: 0.805658\tvalid_0's ndcg@2: 0.846061\tvalid_0's ndcg@3: 0.86636\tvalid_0's ndcg@4: 0.878038\tvalid_0's ndcg@5: 0.885505\n",
      "[175]\tvalid_0's ndcg@1: 0.805673\tvalid_0's ndcg@2: 0.846074\tvalid_0's ndcg@3: 0.866385\tvalid_0's ndcg@4: 0.878042\tvalid_0's ndcg@5: 0.885515\n",
      "[176]\tvalid_0's ndcg@1: 0.805734\tvalid_0's ndcg@2: 0.846076\tvalid_0's ndcg@3: 0.866417\tvalid_0's ndcg@4: 0.878055\tvalid_0's ndcg@5: 0.88555\n",
      "[177]\tvalid_0's ndcg@1: 0.805729\tvalid_0's ndcg@2: 0.846076\tvalid_0's ndcg@3: 0.866412\tvalid_0's ndcg@4: 0.878043\tvalid_0's ndcg@5: 0.885537\n",
      "[178]\tvalid_0's ndcg@1: 0.805805\tvalid_0's ndcg@2: 0.846092\tvalid_0's ndcg@3: 0.866416\tvalid_0's ndcg@4: 0.878058\tvalid_0's ndcg@5: 0.885571\n"
     ]
    },
    {
     "name": "stdout",
     "output_type": "stream",
     "text": [
      "[179]\tvalid_0's ndcg@1: 0.805846\tvalid_0's ndcg@2: 0.84619\tvalid_0's ndcg@3: 0.866451\tvalid_0's ndcg@4: 0.87811\tvalid_0's ndcg@5: 0.885585\n",
      "[180]\tvalid_0's ndcg@1: 0.805871\tvalid_0's ndcg@2: 0.8462\tvalid_0's ndcg@3: 0.866433\tvalid_0's ndcg@4: 0.878101\tvalid_0's ndcg@5: 0.885585\n",
      "[181]\tvalid_0's ndcg@1: 0.805881\tvalid_0's ndcg@2: 0.846216\tvalid_0's ndcg@3: 0.866437\tvalid_0's ndcg@4: 0.878106\tvalid_0's ndcg@5: 0.885608\n",
      "[182]\tvalid_0's ndcg@1: 0.805926\tvalid_0's ndcg@2: 0.846209\tvalid_0's ndcg@3: 0.866447\tvalid_0's ndcg@4: 0.878126\tvalid_0's ndcg@5: 0.885623\n",
      "[183]\tvalid_0's ndcg@1: 0.805906\tvalid_0's ndcg@2: 0.846198\tvalid_0's ndcg@3: 0.866404\tvalid_0's ndcg@4: 0.878079\tvalid_0's ndcg@5: 0.885603\n",
      "[184]\tvalid_0's ndcg@1: 0.805921\tvalid_0's ndcg@2: 0.846227\tvalid_0's ndcg@3: 0.866432\tvalid_0's ndcg@4: 0.87809\tvalid_0's ndcg@5: 0.885624\n",
      "[185]\tvalid_0's ndcg@1: 0.805947\tvalid_0's ndcg@2: 0.846257\tvalid_0's ndcg@3: 0.866436\tvalid_0's ndcg@4: 0.878127\tvalid_0's ndcg@5: 0.885635\n",
      "[186]\tvalid_0's ndcg@1: 0.805972\tvalid_0's ndcg@2: 0.846258\tvalid_0's ndcg@3: 0.866416\tvalid_0's ndcg@4: 0.878125\tvalid_0's ndcg@5: 0.885632\n",
      "[187]\tvalid_0's ndcg@1: 0.806018\tvalid_0's ndcg@2: 0.846283\tvalid_0's ndcg@3: 0.866485\tvalid_0's ndcg@4: 0.878148\tvalid_0's ndcg@5: 0.885662\n",
      "[188]\tvalid_0's ndcg@1: 0.806003\tvalid_0's ndcg@2: 0.84625\tvalid_0's ndcg@3: 0.866435\tvalid_0's ndcg@4: 0.878122\tvalid_0's ndcg@5: 0.885643\n",
      "[189]\tvalid_0's ndcg@1: 0.806013\tvalid_0's ndcg@2: 0.846246\tvalid_0's ndcg@3: 0.866435\tvalid_0's ndcg@4: 0.878103\tvalid_0's ndcg@5: 0.885639\n",
      "[190]\tvalid_0's ndcg@1: 0.805972\tvalid_0's ndcg@2: 0.846254\tvalid_0's ndcg@3: 0.866442\tvalid_0's ndcg@4: 0.878104\tvalid_0's ndcg@5: 0.885619\n",
      "[191]\tvalid_0's ndcg@1: 0.806002\tvalid_0's ndcg@2: 0.846249\tvalid_0's ndcg@3: 0.866438\tvalid_0's ndcg@4: 0.87812\tvalid_0's ndcg@5: 0.885609\n",
      "[192]\tvalid_0's ndcg@1: 0.806084\tvalid_0's ndcg@2: 0.846258\tvalid_0's ndcg@3: 0.866463\tvalid_0's ndcg@4: 0.87813\tvalid_0's ndcg@5: 0.885627\n",
      "[193]\tvalid_0's ndcg@1: 0.806063\tvalid_0's ndcg@2: 0.84623\tvalid_0's ndcg@3: 0.866443\tvalid_0's ndcg@4: 0.878129\tvalid_0's ndcg@5: 0.885627\n",
      "[194]\tvalid_0's ndcg@1: 0.806033\tvalid_0's ndcg@2: 0.846207\tvalid_0's ndcg@3: 0.866444\tvalid_0's ndcg@4: 0.878118\tvalid_0's ndcg@5: 0.885614\n",
      "[195]\tvalid_0's ndcg@1: 0.806058\tvalid_0's ndcg@2: 0.846188\tvalid_0's ndcg@3: 0.866437\tvalid_0's ndcg@4: 0.878119\tvalid_0's ndcg@5: 0.885645\n",
      "[196]\tvalid_0's ndcg@1: 0.805997\tvalid_0's ndcg@2: 0.846169\tvalid_0's ndcg@3: 0.86639\tvalid_0's ndcg@4: 0.878111\tvalid_0's ndcg@5: 0.885608\n",
      "[197]\tvalid_0's ndcg@1: 0.806038\tvalid_0's ndcg@2: 0.846148\tvalid_0's ndcg@3: 0.866388\tvalid_0's ndcg@4: 0.878127\tvalid_0's ndcg@5: 0.88561\n",
      "[198]\tvalid_0's ndcg@1: 0.806033\tvalid_0's ndcg@2: 0.846154\tvalid_0's ndcg@3: 0.866391\tvalid_0's ndcg@4: 0.87812\tvalid_0's ndcg@5: 0.885616\n",
      "[199]\tvalid_0's ndcg@1: 0.805972\tvalid_0's ndcg@2: 0.846137\tvalid_0's ndcg@3: 0.866365\tvalid_0's ndcg@4: 0.878089\tvalid_0's ndcg@5: 0.885602\n",
      "[200]\tvalid_0's ndcg@1: 0.805937\tvalid_0's ndcg@2: 0.846096\tvalid_0's ndcg@3: 0.86636\tvalid_0's ndcg@4: 0.878062\tvalid_0's ndcg@5: 0.885578\n",
      "[201]\tvalid_0's ndcg@1: 0.806002\tvalid_0's ndcg@2: 0.846107\tvalid_0's ndcg@3: 0.866394\tvalid_0's ndcg@4: 0.878076\tvalid_0's ndcg@5: 0.885583\n",
      "[202]\tvalid_0's ndcg@1: 0.805992\tvalid_0's ndcg@2: 0.846077\tvalid_0's ndcg@3: 0.866389\tvalid_0's ndcg@4: 0.878067\tvalid_0's ndcg@5: 0.885578\n",
      "[203]\tvalid_0's ndcg@1: 0.805992\tvalid_0's ndcg@2: 0.846059\tvalid_0's ndcg@3: 0.866376\tvalid_0's ndcg@4: 0.878087\tvalid_0's ndcg@5: 0.885584\n",
      "[204]\tvalid_0's ndcg@1: 0.805936\tvalid_0's ndcg@2: 0.846053\tvalid_0's ndcg@3: 0.866364\tvalid_0's ndcg@4: 0.878102\tvalid_0's ndcg@5: 0.885606\n",
      "[205]\tvalid_0's ndcg@1: 0.805932\tvalid_0's ndcg@2: 0.846088\tvalid_0's ndcg@3: 0.866371\tvalid_0's ndcg@4: 0.878105\tvalid_0's ndcg@5: 0.885604\n",
      "[206]\tvalid_0's ndcg@1: 0.805901\tvalid_0's ndcg@2: 0.846084\tvalid_0's ndcg@3: 0.866351\tvalid_0's ndcg@4: 0.878096\tvalid_0's ndcg@5: 0.885589\n",
      "[207]\tvalid_0's ndcg@1: 0.805856\tvalid_0's ndcg@2: 0.846082\tvalid_0's ndcg@3: 0.866319\tvalid_0's ndcg@4: 0.878045\tvalid_0's ndcg@5: 0.885584\n",
      "[208]\tvalid_0's ndcg@1: 0.805886\tvalid_0's ndcg@2: 0.846132\tvalid_0's ndcg@3: 0.866338\tvalid_0's ndcg@4: 0.878085\tvalid_0's ndcg@5: 0.88559\n",
      "[209]\tvalid_0's ndcg@1: 0.805886\tvalid_0's ndcg@2: 0.846086\tvalid_0's ndcg@3: 0.866341\tvalid_0's ndcg@4: 0.878084\tvalid_0's ndcg@5: 0.885597\n",
      "[210]\tvalid_0's ndcg@1: 0.805891\tvalid_0's ndcg@2: 0.84607\tvalid_0's ndcg@3: 0.866324\tvalid_0's ndcg@4: 0.87808\tvalid_0's ndcg@5: 0.885592\n",
      "[211]\tvalid_0's ndcg@1: 0.805916\tvalid_0's ndcg@2: 0.846095\tvalid_0's ndcg@3: 0.866329\tvalid_0's ndcg@4: 0.878101\tvalid_0's ndcg@5: 0.885611\n",
      "[212]\tvalid_0's ndcg@1: 0.805921\tvalid_0's ndcg@2: 0.846091\tvalid_0's ndcg@3: 0.866337\tvalid_0's ndcg@4: 0.878107\tvalid_0's ndcg@5: 0.885607\n",
      "[213]\tvalid_0's ndcg@1: 0.805947\tvalid_0's ndcg@2: 0.846113\tvalid_0's ndcg@3: 0.866301\tvalid_0's ndcg@4: 0.878101\tvalid_0's ndcg@5: 0.885579\n",
      "[214]\tvalid_0's ndcg@1: 0.805942\tvalid_0's ndcg@2: 0.846076\tvalid_0's ndcg@3: 0.866304\tvalid_0's ndcg@4: 0.878099\tvalid_0's ndcg@5: 0.88558\n",
      "[215]\tvalid_0's ndcg@1: 0.805993\tvalid_0's ndcg@2: 0.846117\tvalid_0's ndcg@3: 0.866316\tvalid_0's ndcg@4: 0.878115\tvalid_0's ndcg@5: 0.88561\n",
      "[216]\tvalid_0's ndcg@1: 0.805937\tvalid_0's ndcg@2: 0.846106\tvalid_0's ndcg@3: 0.866326\tvalid_0's ndcg@4: 0.878111\tvalid_0's ndcg@5: 0.885607\n",
      "[217]\tvalid_0's ndcg@1: 0.805886\tvalid_0's ndcg@2: 0.846051\tvalid_0's ndcg@3: 0.866286\tvalid_0's ndcg@4: 0.878095\tvalid_0's ndcg@5: 0.885576\n",
      "[218]\tvalid_0's ndcg@1: 0.805886\tvalid_0's ndcg@2: 0.846049\tvalid_0's ndcg@3: 0.866311\tvalid_0's ndcg@4: 0.878112\tvalid_0's ndcg@5: 0.88559\n",
      "[219]\tvalid_0's ndcg@1: 0.805891\tvalid_0's ndcg@2: 0.846067\tvalid_0's ndcg@3: 0.866307\tvalid_0's ndcg@4: 0.878151\tvalid_0's ndcg@5: 0.885622\n",
      "[220]\tvalid_0's ndcg@1: 0.805851\tvalid_0's ndcg@2: 0.846065\tvalid_0's ndcg@3: 0.866302\tvalid_0's ndcg@4: 0.87813\tvalid_0's ndcg@5: 0.885602\n",
      "[221]\tvalid_0's ndcg@1: 0.805825\tvalid_0's ndcg@2: 0.846057\tvalid_0's ndcg@3: 0.866276\tvalid_0's ndcg@4: 0.878114\tvalid_0's ndcg@5: 0.885599\n",
      "[222]\tvalid_0's ndcg@1: 0.805764\tvalid_0's ndcg@2: 0.846038\tvalid_0's ndcg@3: 0.866257\tvalid_0's ndcg@4: 0.878104\tvalid_0's ndcg@5: 0.885582\n",
      "[223]\tvalid_0's ndcg@1: 0.805709\tvalid_0's ndcg@2: 0.845957\tvalid_0's ndcg@3: 0.866213\tvalid_0's ndcg@4: 0.878083\tvalid_0's ndcg@5: 0.885521\n",
      "[224]\tvalid_0's ndcg@1: 0.805719\tvalid_0's ndcg@2: 0.845918\tvalid_0's ndcg@3: 0.866217\tvalid_0's ndcg@4: 0.878066\tvalid_0's ndcg@5: 0.88552\n",
      "[225]\tvalid_0's ndcg@1: 0.805724\tvalid_0's ndcg@2: 0.845931\tvalid_0's ndcg@3: 0.866222\tvalid_0's ndcg@4: 0.878094\tvalid_0's ndcg@5: 0.885529\n",
      "[226]\tvalid_0's ndcg@1: 0.805749\tvalid_0's ndcg@2: 0.845915\tvalid_0's ndcg@3: 0.866207\tvalid_0's ndcg@4: 0.878102\tvalid_0's ndcg@5: 0.885531\n",
      "[227]\tvalid_0's ndcg@1: 0.80575\tvalid_0's ndcg@2: 0.845933\tvalid_0's ndcg@3: 0.866213\tvalid_0's ndcg@4: 0.878108\tvalid_0's ndcg@5: 0.885538\n",
      "[228]\tvalid_0's ndcg@1: 0.805755\tvalid_0's ndcg@2: 0.84589\tvalid_0's ndcg@3: 0.866186\tvalid_0's ndcg@4: 0.87808\tvalid_0's ndcg@5: 0.885538\n",
      "[229]\tvalid_0's ndcg@1: 0.80579\tvalid_0's ndcg@2: 0.845911\tvalid_0's ndcg@3: 0.866217\tvalid_0's ndcg@4: 0.878098\tvalid_0's ndcg@5: 0.885558\n",
      "[230]\tvalid_0's ndcg@1: 0.805775\tvalid_0's ndcg@2: 0.845893\tvalid_0's ndcg@3: 0.866179\tvalid_0's ndcg@4: 0.878095\tvalid_0's ndcg@5: 0.885527\n",
      "[231]\tvalid_0's ndcg@1: 0.805805\tvalid_0's ndcg@2: 0.845906\tvalid_0's ndcg@3: 0.866189\tvalid_0's ndcg@4: 0.878093\tvalid_0's ndcg@5: 0.885534\n",
      "[232]\tvalid_0's ndcg@1: 0.80579\tvalid_0's ndcg@2: 0.845907\tvalid_0's ndcg@3: 0.866177\tvalid_0's ndcg@4: 0.878103\tvalid_0's ndcg@5: 0.885534\n",
      "[233]\tvalid_0's ndcg@1: 0.805811\tvalid_0's ndcg@2: 0.845909\tvalid_0's ndcg@3: 0.866197\tvalid_0's ndcg@4: 0.878113\tvalid_0's ndcg@5: 0.885531\n",
      "[234]\tvalid_0's ndcg@1: 0.805755\tvalid_0's ndcg@2: 0.845966\tvalid_0's ndcg@3: 0.866197\tvalid_0's ndcg@4: 0.878114\tvalid_0's ndcg@5: 0.885526\n",
      "[235]\tvalid_0's ndcg@1: 0.80573\tvalid_0's ndcg@2: 0.845944\tvalid_0's ndcg@3: 0.866173\tvalid_0's ndcg@4: 0.878089\tvalid_0's ndcg@5: 0.885513\n",
      "[236]\tvalid_0's ndcg@1: 0.805715\tvalid_0's ndcg@2: 0.845956\tvalid_0's ndcg@3: 0.866157\tvalid_0's ndcg@4: 0.878066\tvalid_0's ndcg@5: 0.885496\n",
      "[237]\tvalid_0's ndcg@1: 0.80575\tvalid_0's ndcg@2: 0.845981\tvalid_0's ndcg@3: 0.866175\tvalid_0's ndcg@4: 0.878074\tvalid_0's ndcg@5: 0.885501\n"
     ]
    },
    {
     "name": "stdout",
     "output_type": "stream",
     "text": [
      "[238]\tvalid_0's ndcg@1: 0.805786\tvalid_0's ndcg@2: 0.845956\tvalid_0's ndcg@3: 0.866182\tvalid_0's ndcg@4: 0.87806\tvalid_0's ndcg@5: 0.885505\n",
      "[239]\tvalid_0's ndcg@1: 0.805771\tvalid_0's ndcg@2: 0.845986\tvalid_0's ndcg@3: 0.866178\tvalid_0's ndcg@4: 0.878059\tvalid_0's ndcg@5: 0.885483\n",
      "[240]\tvalid_0's ndcg@1: 0.805766\tvalid_0's ndcg@2: 0.845977\tvalid_0's ndcg@3: 0.866175\tvalid_0's ndcg@4: 0.878054\tvalid_0's ndcg@5: 0.885482\n",
      "[241]\tvalid_0's ndcg@1: 0.805761\tvalid_0's ndcg@2: 0.845984\tvalid_0's ndcg@3: 0.866149\tvalid_0's ndcg@4: 0.878048\tvalid_0's ndcg@5: 0.885471\n",
      "[242]\tvalid_0's ndcg@1: 0.805821\tvalid_0's ndcg@2: 0.845966\tvalid_0's ndcg@3: 0.86618\tvalid_0's ndcg@4: 0.87807\tvalid_0's ndcg@5: 0.885482\n",
      "[243]\tvalid_0's ndcg@1: 0.805827\tvalid_0's ndcg@2: 0.84599\tvalid_0's ndcg@3: 0.866199\tvalid_0's ndcg@4: 0.878081\tvalid_0's ndcg@5: 0.885494\n",
      "[244]\tvalid_0's ndcg@1: 0.805857\tvalid_0's ndcg@2: 0.846012\tvalid_0's ndcg@3: 0.866197\tvalid_0's ndcg@4: 0.878068\tvalid_0's ndcg@5: 0.885487\n",
      "[245]\tvalid_0's ndcg@1: 0.806044\tvalid_0's ndcg@2: 0.846108\tvalid_0's ndcg@3: 0.866285\tvalid_0's ndcg@4: 0.878149\tvalid_0's ndcg@5: 0.885552\n",
      "[246]\tvalid_0's ndcg@1: 0.806029\tvalid_0's ndcg@2: 0.846078\tvalid_0's ndcg@3: 0.866255\tvalid_0's ndcg@4: 0.878141\tvalid_0's ndcg@5: 0.885539\n",
      "[247]\tvalid_0's ndcg@1: 0.806085\tvalid_0's ndcg@2: 0.846091\tvalid_0's ndcg@3: 0.866283\tvalid_0's ndcg@4: 0.878133\tvalid_0's ndcg@5: 0.885543\n",
      "[248]\tvalid_0's ndcg@1: 0.8061\tvalid_0's ndcg@2: 0.846086\tvalid_0's ndcg@3: 0.866326\tvalid_0's ndcg@4: 0.878131\tvalid_0's ndcg@5: 0.885562\n",
      "[249]\tvalid_0's ndcg@1: 0.806105\tvalid_0's ndcg@2: 0.846116\tvalid_0's ndcg@3: 0.866326\tvalid_0's ndcg@4: 0.878132\tvalid_0's ndcg@5: 0.885562\n",
      "[250]\tvalid_0's ndcg@1: 0.806135\tvalid_0's ndcg@2: 0.846143\tvalid_0's ndcg@3: 0.866347\tvalid_0's ndcg@4: 0.878157\tvalid_0's ndcg@5: 0.885582\n",
      "[251]\tvalid_0's ndcg@1: 0.806105\tvalid_0's ndcg@2: 0.846114\tvalid_0's ndcg@3: 0.866357\tvalid_0's ndcg@4: 0.878149\tvalid_0's ndcg@5: 0.885575\n",
      "[252]\tvalid_0's ndcg@1: 0.806029\tvalid_0's ndcg@2: 0.846093\tvalid_0's ndcg@3: 0.866338\tvalid_0's ndcg@4: 0.878121\tvalid_0's ndcg@5: 0.885545\n",
      "[253]\tvalid_0's ndcg@1: 0.806034\tvalid_0's ndcg@2: 0.846094\tvalid_0's ndcg@3: 0.866321\tvalid_0's ndcg@4: 0.878106\tvalid_0's ndcg@5: 0.885549\n",
      "[254]\tvalid_0's ndcg@1: 0.806075\tvalid_0's ndcg@2: 0.846101\tvalid_0's ndcg@3: 0.866322\tvalid_0's ndcg@4: 0.878105\tvalid_0's ndcg@5: 0.885572\n",
      "[255]\tvalid_0's ndcg@1: 0.80608\tvalid_0's ndcg@2: 0.846113\tvalid_0's ndcg@3: 0.866308\tvalid_0's ndcg@4: 0.878101\tvalid_0's ndcg@5: 0.885561\n",
      "[256]\tvalid_0's ndcg@1: 0.80604\tvalid_0's ndcg@2: 0.846119\tvalid_0's ndcg@3: 0.866295\tvalid_0's ndcg@4: 0.878085\tvalid_0's ndcg@5: 0.885575\n",
      "[257]\tvalid_0's ndcg@1: 0.805984\tvalid_0's ndcg@2: 0.846091\tvalid_0's ndcg@3: 0.866236\tvalid_0's ndcg@4: 0.878053\tvalid_0's ndcg@5: 0.885556\n",
      "[258]\tvalid_0's ndcg@1: 0.805979\tvalid_0's ndcg@2: 0.84608\tvalid_0's ndcg@3: 0.866241\tvalid_0's ndcg@4: 0.878064\tvalid_0's ndcg@5: 0.885567\n",
      "[259]\tvalid_0's ndcg@1: 0.806009\tvalid_0's ndcg@2: 0.846051\tvalid_0's ndcg@3: 0.866266\tvalid_0's ndcg@4: 0.878083\tvalid_0's ndcg@5: 0.885559\n",
      "[260]\tvalid_0's ndcg@1: 0.806004\tvalid_0's ndcg@2: 0.846059\tvalid_0's ndcg@3: 0.866238\tvalid_0's ndcg@4: 0.878082\tvalid_0's ndcg@5: 0.885544\n",
      "[261]\tvalid_0's ndcg@1: 0.80606\tvalid_0's ndcg@2: 0.846079\tvalid_0's ndcg@3: 0.866244\tvalid_0's ndcg@4: 0.878095\tvalid_0's ndcg@5: 0.885551\n",
      "[262]\tvalid_0's ndcg@1: 0.806049\tvalid_0's ndcg@2: 0.84608\tvalid_0's ndcg@3: 0.86625\tvalid_0's ndcg@4: 0.878086\tvalid_0's ndcg@5: 0.885532\n",
      "[263]\tvalid_0's ndcg@1: 0.805953\tvalid_0's ndcg@2: 0.846023\tvalid_0's ndcg@3: 0.866201\tvalid_0's ndcg@4: 0.878055\tvalid_0's ndcg@5: 0.885488\n",
      "[264]\tvalid_0's ndcg@1: 0.805994\tvalid_0's ndcg@2: 0.846029\tvalid_0's ndcg@3: 0.866208\tvalid_0's ndcg@4: 0.878062\tvalid_0's ndcg@5: 0.885514\n",
      "[265]\tvalid_0's ndcg@1: 0.806004\tvalid_0's ndcg@2: 0.846023\tvalid_0's ndcg@3: 0.866183\tvalid_0's ndcg@4: 0.878069\tvalid_0's ndcg@5: 0.885507\n",
      "[266]\tvalid_0's ndcg@1: 0.805974\tvalid_0's ndcg@2: 0.846051\tvalid_0's ndcg@3: 0.86618\tvalid_0's ndcg@4: 0.878059\tvalid_0's ndcg@5: 0.885503\n",
      "[267]\tvalid_0's ndcg@1: 0.805953\tvalid_0's ndcg@2: 0.846024\tvalid_0's ndcg@3: 0.866176\tvalid_0's ndcg@4: 0.878056\tvalid_0's ndcg@5: 0.885483\n",
      "[268]\tvalid_0's ndcg@1: 0.805953\tvalid_0's ndcg@2: 0.846033\tvalid_0's ndcg@3: 0.866158\tvalid_0's ndcg@4: 0.878048\tvalid_0's ndcg@5: 0.885496\n",
      "[269]\tvalid_0's ndcg@1: 0.805938\tvalid_0's ndcg@2: 0.846029\tvalid_0's ndcg@3: 0.866163\tvalid_0's ndcg@4: 0.878046\tvalid_0's ndcg@5: 0.8855\n",
      "[270]\tvalid_0's ndcg@1: 0.805994\tvalid_0's ndcg@2: 0.846074\tvalid_0's ndcg@3: 0.866192\tvalid_0's ndcg@4: 0.878068\tvalid_0's ndcg@5: 0.885515\n",
      "[271]\tvalid_0's ndcg@1: 0.805988\tvalid_0's ndcg@2: 0.846087\tvalid_0's ndcg@3: 0.866179\tvalid_0's ndcg@4: 0.878085\tvalid_0's ndcg@5: 0.885505\n",
      "[272]\tvalid_0's ndcg@1: 0.806004\tvalid_0's ndcg@2: 0.846107\tvalid_0's ndcg@3: 0.866218\tvalid_0's ndcg@4: 0.878067\tvalid_0's ndcg@5: 0.885518\n",
      "[273]\tvalid_0's ndcg@1: 0.805943\tvalid_0's ndcg@2: 0.846079\tvalid_0's ndcg@3: 0.866185\tvalid_0's ndcg@4: 0.878069\tvalid_0's ndcg@5: 0.885492\n",
      "[274]\tvalid_0's ndcg@1: 0.805937\tvalid_0's ndcg@2: 0.846099\tvalid_0's ndcg@3: 0.866213\tvalid_0's ndcg@4: 0.878074\tvalid_0's ndcg@5: 0.885489\n",
      "[275]\tvalid_0's ndcg@1: 0.806034\tvalid_0's ndcg@2: 0.846092\tvalid_0's ndcg@3: 0.8662\tvalid_0's ndcg@4: 0.878105\tvalid_0's ndcg@5: 0.885526\n",
      "[276]\tvalid_0's ndcg@1: 0.806059\tvalid_0's ndcg@2: 0.846111\tvalid_0's ndcg@3: 0.866196\tvalid_0's ndcg@4: 0.87813\tvalid_0's ndcg@5: 0.885545\n",
      "[277]\tvalid_0's ndcg@1: 0.806034\tvalid_0's ndcg@2: 0.846119\tvalid_0's ndcg@3: 0.866207\tvalid_0's ndcg@4: 0.878139\tvalid_0's ndcg@5: 0.88555\n",
      "[278]\tvalid_0's ndcg@1: 0.805978\tvalid_0's ndcg@2: 0.846111\tvalid_0's ndcg@3: 0.866183\tvalid_0's ndcg@4: 0.878119\tvalid_0's ndcg@5: 0.885541\n",
      "[279]\tvalid_0's ndcg@1: 0.806039\tvalid_0's ndcg@2: 0.846152\tvalid_0's ndcg@3: 0.866235\tvalid_0's ndcg@4: 0.878148\tvalid_0's ndcg@5: 0.88556\n",
      "[280]\tvalid_0's ndcg@1: 0.806079\tvalid_0's ndcg@2: 0.846171\tvalid_0's ndcg@3: 0.866236\tvalid_0's ndcg@4: 0.878137\tvalid_0's ndcg@5: 0.885564\n",
      "[281]\tvalid_0's ndcg@1: 0.80609\tvalid_0's ndcg@2: 0.846187\tvalid_0's ndcg@3: 0.866258\tvalid_0's ndcg@4: 0.878145\tvalid_0's ndcg@5: 0.885572\n",
      "[282]\tvalid_0's ndcg@1: 0.806039\tvalid_0's ndcg@2: 0.846122\tvalid_0's ndcg@3: 0.866232\tvalid_0's ndcg@4: 0.878122\tvalid_0's ndcg@5: 0.885546\n",
      "[283]\tvalid_0's ndcg@1: 0.805978\tvalid_0's ndcg@2: 0.846113\tvalid_0's ndcg@3: 0.866249\tvalid_0's ndcg@4: 0.87809\tvalid_0's ndcg@5: 0.885516\n",
      "[284]\tvalid_0's ndcg@1: 0.805968\tvalid_0's ndcg@2: 0.846133\tvalid_0's ndcg@3: 0.866241\tvalid_0's ndcg@4: 0.878102\tvalid_0's ndcg@5: 0.88553\n",
      "[285]\tvalid_0's ndcg@1: 0.805943\tvalid_0's ndcg@2: 0.846146\tvalid_0's ndcg@3: 0.866235\tvalid_0's ndcg@4: 0.878098\tvalid_0's ndcg@5: 0.885523\n",
      "[286]\tvalid_0's ndcg@1: 0.805933\tvalid_0's ndcg@2: 0.846133\tvalid_0's ndcg@3: 0.866231\tvalid_0's ndcg@4: 0.878101\tvalid_0's ndcg@5: 0.885533\n",
      "[287]\tvalid_0's ndcg@1: 0.805897\tvalid_0's ndcg@2: 0.846121\tvalid_0's ndcg@3: 0.866202\tvalid_0's ndcg@4: 0.878092\tvalid_0's ndcg@5: 0.885533\n",
      "[288]\tvalid_0's ndcg@1: 0.805866\tvalid_0's ndcg@2: 0.846079\tvalid_0's ndcg@3: 0.866226\tvalid_0's ndcg@4: 0.878099\tvalid_0's ndcg@5: 0.885531\n",
      "[289]\tvalid_0's ndcg@1: 0.805846\tvalid_0's ndcg@2: 0.846101\tvalid_0's ndcg@3: 0.866219\tvalid_0's ndcg@4: 0.878091\tvalid_0's ndcg@5: 0.885524\n",
      "[290]\tvalid_0's ndcg@1: 0.805872\tvalid_0's ndcg@2: 0.846102\tvalid_0's ndcg@3: 0.866207\tvalid_0's ndcg@4: 0.878113\tvalid_0's ndcg@5: 0.885539\n",
      "[291]\tvalid_0's ndcg@1: 0.805872\tvalid_0's ndcg@2: 0.846086\tvalid_0's ndcg@3: 0.866204\tvalid_0's ndcg@4: 0.878103\tvalid_0's ndcg@5: 0.885541\n",
      "[292]\tvalid_0's ndcg@1: 0.805851\tvalid_0's ndcg@2: 0.846084\tvalid_0's ndcg@3: 0.866202\tvalid_0's ndcg@4: 0.878091\tvalid_0's ndcg@5: 0.88552\n",
      "[293]\tvalid_0's ndcg@1: 0.805816\tvalid_0's ndcg@2: 0.846024\tvalid_0's ndcg@3: 0.866233\tvalid_0's ndcg@4: 0.878077\tvalid_0's ndcg@5: 0.88551\n",
      "[294]\tvalid_0's ndcg@1: 0.805775\tvalid_0's ndcg@2: 0.846045\tvalid_0's ndcg@3: 0.866213\tvalid_0's ndcg@4: 0.878069\tvalid_0's ndcg@5: 0.885481\n",
      "[295]\tvalid_0's ndcg@1: 0.805836\tvalid_0's ndcg@2: 0.846085\tvalid_0's ndcg@3: 0.866242\tvalid_0's ndcg@4: 0.878076\tvalid_0's ndcg@5: 0.885493\n",
      "[296]\tvalid_0's ndcg@1: 0.805841\tvalid_0's ndcg@2: 0.84609\tvalid_0's ndcg@3: 0.866219\tvalid_0's ndcg@4: 0.878077\tvalid_0's ndcg@5: 0.8855\n",
      "[297]\tvalid_0's ndcg@1: 0.805872\tvalid_0's ndcg@2: 0.846091\tvalid_0's ndcg@3: 0.866222\tvalid_0's ndcg@4: 0.878075\tvalid_0's ndcg@5: 0.88551\n"
     ]
    },
    {
     "name": "stdout",
     "output_type": "stream",
     "text": [
      "[298]\tvalid_0's ndcg@1: 0.805856\tvalid_0's ndcg@2: 0.846052\tvalid_0's ndcg@3: 0.866213\tvalid_0's ndcg@4: 0.878071\tvalid_0's ndcg@5: 0.885502\n",
      "[299]\tvalid_0's ndcg@1: 0.805897\tvalid_0's ndcg@2: 0.846092\tvalid_0's ndcg@3: 0.866235\tvalid_0's ndcg@4: 0.878092\tvalid_0's ndcg@5: 0.885515\n",
      "[300]\tvalid_0's ndcg@1: 0.805942\tvalid_0's ndcg@2: 0.846067\tvalid_0's ndcg@3: 0.866209\tvalid_0's ndcg@4: 0.878089\tvalid_0's ndcg@5: 0.885522\n"
     ]
    },
    {
     "data": {
      "text/plain": [
       "LGBMRanker(boosting_type='goss', n_estimators=300, num_leaves=100,\n",
       "           objective='lambdarank', score='ndcg', subsample=0.8,\n",
       "           subsample_freq=-1)"
      ]
     },
     "execution_count": 17,
     "metadata": {},
     "output_type": "execute_result"
    }
   ],
   "source": [
    "model2 = lgb.LGBMRanker(objective='lambdarank',n_estimators= 300, num_leaves=100,learning_rate= 0.1,score='ndcg',\n",
    "                       subsample=0.8,subsample_freq=-1, boosting_type = 'goss')\n",
    "\n",
    "model2.fit(X_train, y_train, group=train_groups, eval_set = [(X_val,y_val)], eval_group=[val_groups])"
   ]
  },
  {
   "cell_type": "code",
   "execution_count": 18,
   "metadata": {},
   "outputs": [],
   "source": [
    "evaluation_lgb = model2.evals_result_"
   ]
  },
  {
   "cell_type": "code",
   "execution_count": 19,
   "metadata": {},
   "outputs": [
    {
     "name": "stdout",
     "output_type": "stream",
     "text": [
      "0.8855220034122449\n"
     ]
    }
   ],
   "source": [
    "print(evaluation_lgb['valid_0']['ndcg@5'][-1])"
   ]
  },
  {
   "cell_type": "code",
   "execution_count": 20,
   "metadata": {},
   "outputs": [
    {
     "data": {
      "image/png": "[encoded data removed]",
      "text/plain": [
       "<Figure size 432x288 with 1 Axes>"
      ]
     },
     "metadata": {
      "needs_background": "light"
     },
     "output_type": "display_data"
    }
   ],
   "source": [
    "from matplotlib import pyplot\n",
    "# plot learning curves\n",
    "pyplot.plot(evaluation_lgb['valid_0']['ndcg@5'], label='train')\n",
    "# show the legend\n",
    "pyplot.legend()\n",
    "# show the plot\n",
    "pyplot.show()"
   ]
  },
  {
   "cell_type": "markdown",
   "metadata": {},
   "source": [
    "### XGBoost model"
   ]
  },
  {
   "cell_type": "code",
   "execution_count": 23,
   "metadata": {},
   "outputs": [
    {
     "data": {
      "text/plain": [
       "XGBRanker(base_score=0.5, booster='gbtree', colsample_bylevel=1,\n",
       "          colsample_bynode=1, colsample_bytree=1, gamma=1.0, gpu_id=-1,\n",
       "          importance_type='gain', interaction_constraints='', learning_rate=0.1,\n",
       "          max_delta_step=0, max_depth=8, min_child_weight=0.1, missing=nan,\n",
       "          monotone_constraints='()', n_estimators=100, n_jobs=4,\n",
       "          num_parallel_tree=1, random_state=0, reg_alpha=0, reg_lambda=1,\n",
       "          scale_pos_weight=None, subsample=0.7, tree_method='exact',\n",
       "          validate_parameters=1, verbosity=None)"
      ]
     },
     "execution_count": 23,
     "metadata": {},
     "output_type": "execute_result"
    }
   ],
   "source": [
    "import xgboost as xgb\n",
    "\n",
    "model3 = xgb.sklearn.XGBRanker(objective = 'rank:pairwise', learning_rate= 0.1,gamma= 1.0, min_child_weight= 0.1,\n",
    "                                n_estimators= 100,subsample=0.7,max_depth=8,booster='gbtree', n_jobs = 4)\n",
    "#gbtree or dart\n",
    "model3.fit(X_train, y_train, train_groups, eval_set=[(X_val, y_val)], eval_group=[val_groups],eval_metric = 'ndcg')"
   ]
  },
  {
   "cell_type": "code",
   "execution_count": 24,
   "metadata": {},
   "outputs": [],
   "source": [
    "evaluation_xgb = model3.evals_result_"
   ]
  },
  {
   "cell_type": "code",
   "execution_count": 25,
   "metadata": {},
   "outputs": [
    {
     "name": "stdout",
     "output_type": "stream",
     "text": [
      "0.898346\n"
     ]
    }
   ],
   "source": [
    "print(evaluation_xgb['validation_0']['ndcg'][-1])"
   ]
  },
  {
   "cell_type": "code",
   "execution_count": 26,
   "metadata": {},
   "outputs": [
    {
     "data": {
      "image/png": "[encoded data removed]",
      "text/plain": [
       "<Figure size 432x288 with 1 Axes>"
      ]
     },
     "metadata": {
      "needs_background": "light"
     },
     "output_type": "display_data"
    }
   ],
   "source": [
    "from matplotlib import pyplot\n",
    "# plot learning curves\n",
    "pyplot.plot(evaluation_xgb['validation_0']['ndcg'], label='train')\n",
    "# show the legend\n",
    "pyplot.legend()\n",
    "# show the plot\n",
    "pyplot.show()"
   ]
  },
  {
   "cell_type": "markdown",
   "metadata": {},
   "source": [
    "## 4. Testing on test data"
   ]
  },
  {
   "cell_type": "markdown",
   "metadata": {},
   "source": [
    "### Preparing the test data"
   ]
  },
  {
   "cell_type": "code",
   "execution_count": 27,
   "metadata": {},
   "outputs": [],
   "source": [
    "test_data = pd.read_csv('test_set_VU_DM.csv') "
   ]
  },
  {
   "cell_type": "code",
   "execution_count": 28,
   "metadata": {},
   "outputs": [],
   "source": [
    "test_data['date_time'] = pd.to_datetime(test_data['date_time'])\n",
    "\n",
    "test_data['Cin_hour'] = test_data[\"date_time\"].apply(lambda x: x.hour)\n",
    "test_data['Cin_day'] = test_data[\"date_time\"].apply(lambda x: x.day)\n",
    "test_data['Cin_month'] = test_data[\"date_time\"].apply(lambda x: x.month)\n",
    "test_data['Cin_quarter'] = test_data[\"date_time\"].apply(lambda x: x.quarter)\n",
    "test_data['Cin_day_of_week'] = test_data['date_time'].dt.dayofweek+1 #we don't want zeros\n",
    "\n",
    "test_data.drop('date_time',axis=1,inplace=True)"
   ]
  },
  {
   "cell_type": "code",
   "execution_count": 29,
   "metadata": {},
   "outputs": [],
   "source": [
    "test_data['priceRank'] = test_data.groupby('srch_id')['price_usd'].rank()\n",
    "test_data['starRank'] = test_data.groupby('srch_id')['prop_starrating'].rank()\n",
    "test_data['reviewRank'] = test_data.groupby('srch_id')['prop_review_score'].rank()\n",
    "test_data['location1Rank'] = test_data.groupby('srch_id')['prop_location_score1'].rank()\n",
    "test_data['location2Rank'] = test_data.groupby('srch_id')['prop_location_score2'].rank()\n",
    "test_data['histpriceRank'] = test_data.groupby('srch_id')['prop_log_historical_price'].rank()"
   ]
  },
  {
   "cell_type": "code",
   "execution_count": 30,
   "metadata": {},
   "outputs": [],
   "source": [
    "test_data['rating_diff']=abs(test_data['visitor_hist_starrating']-test_data['prop_starrating'])\n",
    "test_data['rating_diff']=test_data['rating_diff'].fillna(test_data['rating_diff'].mean())\n",
    "\n",
    "test_data['price_diff']=abs(test_data['visitor_hist_adr_usd']-test_data['price_usd'])\n",
    "test_data['price_diff']=test_data['price_diff'].fillna(test_data['price_diff'].mean())"
   ]
  },
  {
   "cell_type": "code",
   "execution_count": 31,
   "metadata": {},
   "outputs": [],
   "source": [
    "test_data['competitor_rate'] = (test_data.comp1_rate + test_data.comp2_rate + test_data.comp3_rate +\n",
    "                                test_data.comp4_rate + test_data.comp5_rate + test_data.comp6_rate +\n",
    "                                test_data.comp7_rate + test_data.comp8_rate)\n",
    "\n",
    "test_data['competitor_inv'] = (test_data.comp1_inv + test_data.comp2_inv + test_data.comp3_inv +\n",
    "                               test_data.comp4_inv + test_data.comp5_inv + test_data.comp6_inv +\n",
    "                               test_data.comp7_inv + test_data.comp8_inv)\n",
    "\n",
    "test_data['competitor_rpd'] = (  test_data.comp1_rate_percent_diff + test_data.comp2_rate_percent_diff\n",
    "                               + test_data.comp3_rate_percent_diff + test_data.comp4_rate_percent_diff\n",
    "                               + test_data.comp5_rate_percent_diff + test_data.comp6_rate_percent_diff\n",
    "                               + test_data.comp7_rate_percent_diff + test_data.comp8_rate_percent_diff)/8/100\n",
    "\n",
    "test_data.drop('comp1_rate',axis=1,inplace=True)\n",
    "test_data.drop('comp2_rate',axis=1,inplace=True)\n",
    "test_data.drop('comp3_rate',axis=1,inplace=True)\n",
    "test_data.drop('comp4_rate',axis=1,inplace=True)\n",
    "test_data.drop('comp5_rate',axis=1,inplace=True)\n",
    "test_data.drop('comp6_rate',axis=1,inplace=True)\n",
    "test_data.drop('comp7_rate',axis=1,inplace=True)\n",
    "test_data.drop('comp8_rate',axis=1,inplace=True)\n",
    "test_data.drop('comp1_inv',axis=1,inplace=True)\n",
    "test_data.drop('comp1_rate_percent_diff',axis=1,inplace=True)\n",
    "test_data.drop('comp2_inv',axis=1,inplace=True)\n",
    "test_data.drop('comp2_rate_percent_diff',axis=1,inplace=True)\n",
    "test_data.drop('comp3_inv',axis=1,inplace=True)\n",
    "test_data.drop('comp3_rate_percent_diff',axis=1,inplace=True)\n",
    "test_data.drop('comp4_inv',axis=1,inplace=True)\n",
    "test_data.drop('comp4_rate_percent_diff',axis=1,inplace=True)\n",
    "test_data.drop('comp5_inv',axis=1,inplace=True)\n",
    "test_data.drop('comp5_rate_percent_diff',axis=1,inplace=True)\n",
    "test_data.drop('comp6_inv',axis=1,inplace=True)\n",
    "test_data.drop('comp6_rate_percent_diff',axis=1,inplace=True)\n",
    "test_data.drop('comp7_inv',axis=1,inplace=True)\n",
    "test_data.drop('comp7_rate_percent_diff',axis=1,inplace=True)\n",
    "test_data.drop('comp8_inv',axis=1,inplace=True)\n",
    "test_data.drop('comp8_rate_percent_diff',axis=1,inplace=True)"
   ]
  },
  {
   "cell_type": "code",
   "execution_count": 32,
   "metadata": {},
   "outputs": [],
   "source": [
    "test_data = test_data[test_data.price_usd < 1800]"
   ]
  },
  {
   "cell_type": "code",
   "execution_count": 33,
   "metadata": {},
   "outputs": [],
   "source": [
    "test_data = test_data.fillna(0)"
   ]
  },
  {
   "cell_type": "code",
   "execution_count": 34,
   "metadata": {},
   "outputs": [
    {
     "name": "stderr",
     "output_type": "stream",
     "text": [
      "C:\\Users\\loesv\\anaconda3\\lib\\site-packages\\sklearn\\cluster\\_kmeans.py:887: UserWarning: MiniBatchKMeans is known to have a memory leak on Windows with MKL, when there are less chunks than available threads. You can prevent it by setting batch_size >= 1024 or by setting the environment variable OMP_NUM_THREADS=1\n",
      "  warnings.warn(\n"
     ]
    }
   ],
   "source": [
    "clustering_kmeans = MiniBatchKMeans(n_clusters=100)\n",
    "test_data['hotel_cluster'] = clustering_kmeans.fit_predict(test_data)"
   ]
  },
  {
   "cell_type": "code",
   "execution_count": 35,
   "metadata": {},
   "outputs": [],
   "source": [
    "test_data = test_data.sort_values('srch_id')\n",
    "test_data = test_data.reset_index(drop =True)\n",
    "test_data_search_ids = test_data.srch_id\n",
    "\n",
    "test_data_groups = test_data.srch_id.value_counts(sort=True,ascending=True).sort_index()\n",
    "\n",
    "srch_id = test_data.srch_id\n",
    "prop_id = test_data.prop_id\n",
    "test_data.drop(['srch_id'],axis=1,inplace=True)"
   ]
  },
  {
   "cell_type": "code",
   "execution_count": 36,
   "metadata": {},
   "outputs": [],
   "source": [
    "def create_result(rankings,srch_id,prop_id):\n",
    "    predictions = pd.DataFrame(rankings,columns=['probs'])\n",
    "    predictions = predictions.join(srch_id)\n",
    "    predictions = predictions.join(prop_id)\n",
    "    final_table = predictions.sort_values(by=['srch_id', 'probs'], ascending=[True, False])\n",
    "    final_table.reset_index(drop = True, inplace = True)\n",
    "    final_table = final_table.drop('probs',axis =1)\n",
    "    \n",
    "    return(final_table)"
   ]
  },
  {
   "cell_type": "markdown",
   "metadata": {},
   "source": [
    "### Method 1 - LightGBM"
   ]
  },
  {
   "cell_type": "code",
   "execution_count": 37,
   "metadata": {},
   "outputs": [],
   "source": [
    "rankings_lgb = model2.predict(test_data)"
   ]
  },
  {
   "cell_type": "code",
   "execution_count": 38,
   "metadata": {},
   "outputs": [],
   "source": [
    "final_table_lgb2 = create_result(rankings_lgb,srch_id,prop_id)\n",
    "final_table_lgb2.to_csv('rankings_lgb_cluster_booking4.csv',index = False)"
   ]
  },
  {
   "cell_type": "markdown",
   "metadata": {},
   "source": [
    "### Method 2 - XGBoost"
   ]
  },
  {
   "cell_type": "code",
   "execution_count": 39,
   "metadata": {},
   "outputs": [],
   "source": [
    "rankings_xgb = model3.predict(test_data)"
   ]
  },
  {
   "cell_type": "code",
   "execution_count": 40,
   "metadata": {},
   "outputs": [],
   "source": [
    "final_table_xgb = create_result(rankings_xgb,srch_id,prop_id)\n",
    "final_table_xgb.to_csv('rankings_xgb_cluster_300iterations.csv',index = False)"
   ]
  },
  {
   "cell_type": "markdown",
   "metadata": {},
   "source": [
    "Compare LGB with XGB"
   ]
  },
  {
   "cell_type": "code",
   "execution_count": 41,
   "metadata": {},
   "outputs": [
    {
     "name": "stdout",
     "output_type": "stream",
     "text": [
      "         srch_id  prob_id_lgb  prob_id_xgb\n",
      "0              1        99484        99484\n",
      "1              1        54937        54937\n",
      "2              1        61934        61934\n",
      "3              1        24194        24194\n",
      "4              1        28181        28181\n",
      "...          ...          ...          ...\n",
      "4953274   332787        32019        29018\n",
      "4953275   332787        94437        32019\n",
      "4953276   332787        29018        99509\n",
      "4953277   332787        99509        94437\n",
      "4953278   332787        35240        35240\n",
      "\n",
      "[4953279 rows x 3 columns]\n"
     ]
    }
   ],
   "source": [
    "table = pd.DataFrame()\n",
    "table['srch_id'] = srch_id\n",
    "table['prob_id_lgb'] = final_table_lgb2['prop_id']\n",
    "table['prob_id_xgb'] = final_table_xgb['prop_id']\n",
    "print(table)"
   ]
  },
  {
   "cell_type": "code",
   "execution_count": null,
   "metadata": {},
   "outputs": [],
   "source": []
  }
 ],
 "metadata": {
  "kernelspec": {
   "display_name": "Python 3",
   "language": "python",
   "name": "python3"
  },
  "language_info": {
   "codemirror_mode": {
    "name": "ipython",
    "version": 3
   },
   "file_extension": ".py",
   "mimetype": "text/x-python",
   "name": "python",
   "nbconvert_exporter": "python",
   "pygments_lexer": "ipython3",
   "version": "3.8.8"
  },
  "varInspector": {
   "cols": {
    "lenName": 16,
    "lenType": 16,
    "lenVar": 40
   },
   "kernels_config": {
    "python": {
     "delete_cmd_postfix": "",
     "delete_cmd_prefix": "del ",
     "library": "var_list.py",
     "varRefreshCmd": "print(var_dic_list())"
    },
    "r": {
     "delete_cmd_postfix": ") ",
     "delete_cmd_prefix": "rm(",
     "library": "var_list.r",
     "varRefreshCmd": "cat(var_dic_list()) "
    }
   },
   "position": {
    "height": "301px",
    "left": "1027px",
    "right": "20px",
    "top": "33px",
    "width": "492.6px"
   },
   "types_to_exclude": [
    "module",
    "function",
    "builtin_function_or_method",
    "instance",
    "_Feature"
   ],
   "window_display": true
  }
 },
 "nbformat": 4,
 "nbformat_minor": 4
}
